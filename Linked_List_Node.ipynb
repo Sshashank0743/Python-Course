{
 "cells": [
  {
   "cell_type": "code",
   "execution_count": 1,
   "metadata": {},
   "outputs": [
    {
     "name": "stdout",
     "output_type": "stream",
     "text": [
      "4 —> 6 —> 8 —> 10 —> 12 —> 5 —> 7 —> 9 —> 11 —> 13 —>  \n"
     ]
    }
   ],
   "source": [
    "# A Linked List Node\n",
    "class Node:\n",
    "    def __init__(self, data=None, next=None):\n",
    "        self.data = data\n",
    "        self.next = next\n",
    " \n",
    " \n",
    "# Helper function to print a given linked list\n",
    "def printList(head):\n",
    " \n",
    "    ptr = head\n",
    "    while ptr:\n",
    "        print(ptr.data, end=\" —> \")\n",
    "        ptr = ptr.next\n",
    "    print(\" \")\n",
    " \n",
    " \n",
    "# Rearrange a given linked list by separating odd nodes from even ones and\n",
    "# maintaining their relative order. This approach does not use any dummy node.\n",
    "def rearrangeOddEven(head):\n",
    " \n",
    "    odd = None\n",
    "    oddTail = None\n",
    " \n",
    "    even = None\n",
    "    evenTail = None\n",
    " \n",
    "    curr = head\n",
    "    while curr:\n",
    "        # current node is odd\n",
    "        if curr.data & 1:\n",
    "            # handle head for the first odd node\n",
    "            if odd is None:\n",
    "                odd = oddTail = curr\n",
    "            else:\n",
    "                oddTail.next = curr\n",
    "                oddTail = oddTail.next\n",
    " \n",
    "        # current node is even\n",
    "        else:\n",
    "            # handle head for the first even node\n",
    "            if even is None:\n",
    "                even = evenTail = curr\n",
    "            else:\n",
    "                evenTail.next = curr\n",
    "                evenTail = curr\n",
    " \n",
    "        curr = curr.next\n",
    " \n",
    "    # if the list contains at least one even node\n",
    "    if even:\n",
    "        head = even\n",
    "        evenTail.next = odd\n",
    "    # special case – list contains all odd nodes\n",
    "    else:\n",
    "        head = odd\n",
    " \n",
    "    # None to terminate the list; otherwise, it will go into an infinite loop\n",
    "    if oddTail:\n",
    "        oddTail.next = None\n",
    " \n",
    "    return head\n",
    " \n",
    " \n",
    "if __name__ == '__main__':\n",
    " \n",
    "    # 17->15->8->12->10->5->4->1->7->6\n",
    "    head = None\n",
    "    for i in reversed(range(10)):\n",
    "        head = Node(i + 4, head)\n",
    " \n",
    "    head = rearrangeOddEven(head)\n",
    "    printList(head)"
   ]
  },
  {
   "cell_type": "code",
   "execution_count": null,
   "metadata": {},
   "outputs": [],
   "source": []
  }
 ],
 "metadata": {
  "kernelspec": {
   "display_name": "Python 3",
   "language": "python",
   "name": "python3"
  },
  "language_info": {
   "codemirror_mode": {
    "name": "ipython",
    "version": 3
   },
   "file_extension": ".py",
   "mimetype": "text/x-python",
   "name": "python",
   "nbconvert_exporter": "python",
   "pygments_lexer": "ipython3",
   "version": "3.8.5"
  }
 },
 "nbformat": 4,
 "nbformat_minor": 4
}

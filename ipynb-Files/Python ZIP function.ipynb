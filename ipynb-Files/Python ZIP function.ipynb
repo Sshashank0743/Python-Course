{
 "cells": [
  {
   "cell_type": "code",
   "execution_count": 31,
   "id": "fe3965df",
   "metadata": {},
   "outputs": [],
   "source": [
    "lst1=[\"Shank\",\"Adam\",\"Ritesh\"]\n",
    "lst2=['a','b','c']"
   ]
  },
  {
   "cell_type": "code",
   "execution_count": 32,
   "id": "3b999d95",
   "metadata": {},
   "outputs": [
    {
     "name": "stdout",
     "output_type": "stream",
     "text": [
      "Shank\n",
      "Adam\n",
      "Ritesh\n"
     ]
    }
   ],
   "source": [
    "for i in lst1:\n",
    "    print(i)"
   ]
  },
  {
   "cell_type": "code",
   "execution_count": 33,
   "id": "8a9b83a4",
   "metadata": {},
   "outputs": [
    {
     "data": {
      "text/plain": [
       "<zip at 0x1f5c2b7b040>"
      ]
     },
     "execution_count": 33,
     "metadata": {},
     "output_type": "execute_result"
    }
   ],
   "source": [
    "Output=zip(lst1,lst2)\n",
    "Output"
   ]
  },
  {
   "cell_type": "code",
   "execution_count": 26,
   "id": "ae8f2958",
   "metadata": {},
   "outputs": [
    {
     "data": {
      "text/plain": [
       "[('Shank', 'a'), ('Adam', 'b'), ('Ritesh', 'c')]"
      ]
     },
     "execution_count": 26,
     "metadata": {},
     "output_type": "execute_result"
    }
   ],
   "source": [
    "list(Output)"
   ]
  },
  {
   "cell_type": "code",
   "execution_count": 34,
   "id": "3a969e1d",
   "metadata": {},
   "outputs": [
    {
     "data": {
      "text/plain": [
       "('Shank', 'a')"
      ]
     },
     "execution_count": 34,
     "metadata": {},
     "output_type": "execute_result"
    }
   ],
   "source": [
    "## zip object is an iterator\n",
    "next(Output)"
   ]
  },
  {
   "cell_type": "code",
   "execution_count": 28,
   "id": "4efe5119",
   "metadata": {},
   "outputs": [
    {
     "name": "stdout",
     "output_type": "stream",
     "text": [
      "Shank a\n",
      "Adam b\n",
      "Ritesh c\n"
     ]
    }
   ],
   "source": [
    "Output=zip(lst1,lst2)\n",
    "for i, j in Output:\n",
    "    print(i,j)"
   ]
  },
  {
   "cell_type": "code",
   "execution_count": 29,
   "id": "e38c9840",
   "metadata": {},
   "outputs": [
    {
     "name": "stdout",
     "output_type": "stream",
     "text": [
      "Shank a 1\n",
      "Adam b 2\n",
      "Ritesh c 3\n"
     ]
    }
   ],
   "source": [
    "lst1=[\"Shank\",\"Adam\",\"Ritesh\"]\n",
    "lst2=['a','b','c']\n",
    "lst3=[1,2,3]\n",
    "\n",
    "Output=zip(lst1,lst2,lst3)\n",
    "for i, j, k in Output:\n",
    "    print(i,j,k)"
   ]
  },
  {
   "cell_type": "code",
   "execution_count": 30,
   "id": "b9919886",
   "metadata": {},
   "outputs": [
    {
     "name": "stdout",
     "output_type": "stream",
     "text": [
      "Shank a 1\n",
      "Adam b 2\n",
      "Ritesh c 3\n"
     ]
    }
   ],
   "source": [
    "lst1=[\"Shank\",\"Adam\",\"Ritesh\", 5]\n",
    "lst2=['a','b','c']\n",
    "lst3=[1,2,3]\n",
    "\n",
    "Output=zip(lst1,lst2,lst3)\n",
    "for i, j, k in Output:\n",
    "    print(i,j,k)"
   ]
  },
  {
   "cell_type": "code",
   "execution_count": null,
   "id": "aa440f2a",
   "metadata": {},
   "outputs": [],
   "source": []
  }
 ],
 "metadata": {
  "kernelspec": {
   "display_name": "Python 3 (ipykernel)",
   "language": "python",
   "name": "python3"
  },
  "language_info": {
   "codemirror_mode": {
    "name": "ipython",
    "version": 3
   },
   "file_extension": ".py",
   "mimetype": "text/x-python",
   "name": "python",
   "nbconvert_exporter": "python",
   "pygments_lexer": "ipython3",
   "version": "3.9.12"
  }
 },
 "nbformat": 4,
 "nbformat_minor": 5
}

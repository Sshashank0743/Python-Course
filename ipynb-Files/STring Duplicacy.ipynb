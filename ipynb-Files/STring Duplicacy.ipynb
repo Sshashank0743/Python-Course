{
 "cells": [
  {
   "cell_type": "code",
   "execution_count": 4,
   "metadata": {},
   "outputs": [
    {
     "name": "stdout",
     "output_type": "stream",
     "text": [
      "Duplicate words in a given string : \n",
      "big\n",
      "black\n"
     ]
    }
   ],
   "source": [
    "string = \"big black bug bit a big black dog on his big black nose\";  \n",
    "   \n",
    "#Converts the string into lowercase  \n",
    "string = string.lower();  \n",
    "   \n",
    "#Split the string into words using built-in function  \n",
    "words = string.split(\" \");  \n",
    "   \n",
    "print(\"Duplicate words in a given string : \");  \n",
    "for i in range(0, len(words)):  \n",
    "    count = 1;  \n",
    "    for j in range(i+1, len(words)):  \n",
    "        if(words[i] == (words[j])):  \n",
    "            count = count + 1;  \n",
    "            #Set words[j] to 0 to avoid printing visited word  \n",
    "            words[j] = \"0\";  \n",
    "              \n",
    "    #Displays the duplicate word if count is greater than 1  \n",
    "    if(count > 1 and words[i] != \"0\"):  \n",
    "        print(words[i]);  "
   ]
  },
  {
   "cell_type": "code",
   "execution_count": null,
   "metadata": {},
   "outputs": [],
   "source": []
  }
 ],
 "metadata": {
  "kernelspec": {
   "display_name": "Python 3",
   "language": "python",
   "name": "python3"
  },
  "language_info": {
   "codemirror_mode": {
    "name": "ipython",
    "version": 3
   },
   "file_extension": ".py",
   "mimetype": "text/x-python",
   "name": "python",
   "nbconvert_exporter": "python",
   "pygments_lexer": "ipython3",
   "version": "3.8.5"
  }
 },
 "nbformat": 4,
 "nbformat_minor": 4
}

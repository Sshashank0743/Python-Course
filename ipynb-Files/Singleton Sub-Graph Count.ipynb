{
 "cells": [
  {
   "cell_type": "code",
   "execution_count": 2,
   "metadata": {},
   "outputs": [
    {
     "name": "stdout",
     "output_type": "stream",
     "text": [
      "1\n"
     ]
    }
   ],
   "source": [
    "# Python code to count the singleton sub-graphs\n",
    "# in a disconnected graph\n",
    "\n",
    "# Function to compute the count\n",
    "def compute(graph, N):\n",
    "    # Storing intermediate result\n",
    "    count = 0\n",
    "    \n",
    "    # Traversing the Nodes\n",
    "    for i in range(1, N+1):\n",
    "        \n",
    "        # Singleton component\n",
    "        if (len(graph[i]) == 0):\n",
    "            count += 1\n",
    "            \n",
    "    # Returning the result\n",
    "    return count\n",
    "\n",
    "# Driver\n",
    "if __name__ == '__main__':\n",
    "    \n",
    "    # Number of nodes\n",
    "    N = 6\n",
    "    \n",
    "    # Adjacency list for edges 1..6\n",
    "    graph = [[] for i in range(7)]\n",
    "    \n",
    "    # Representing edges\n",
    "    graph[1].append(2)\n",
    "    graph[2].append(1)\n",
    "    \n",
    "    graph[2].append(3)\n",
    "    graph[3].append(2)\n",
    "\n",
    "    graph[5].append(6)\n",
    "    graph[6].append(5)\n",
    "\n",
    "    print(compute(graph, N))\n"
   ]
  }
 ],
 "metadata": {
  "kernelspec": {
   "display_name": "Python 3",
   "language": "python",
   "name": "python3"
  },
  "language_info": {
   "codemirror_mode": {
    "name": "ipython",
    "version": 3
   },
   "file_extension": ".py",
   "mimetype": "text/x-python",
   "name": "python",
   "nbconvert_exporter": "python",
   "pygments_lexer": "ipython3",
   "version": "3.8.5"
  }
 },
 "nbformat": 4,
 "nbformat_minor": 4
}

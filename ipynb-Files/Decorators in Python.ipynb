{
 "cells": [
  {
   "cell_type": "code",
   "execution_count": 14,
   "id": "3fd8e648",
   "metadata": {},
   "outputs": [],
   "source": [
    "##Generators\n",
    "def square(n):\n",
    "    for i in range(0,10):\n",
    "        yield i**2"
   ]
  },
  {
   "cell_type": "code",
   "execution_count": 20,
   "id": "5ff47456",
   "metadata": {},
   "outputs": [
    {
     "name": "stdout",
     "output_type": "stream",
     "text": [
      "0\n",
      "1\n",
      "4\n",
      "9\n",
      "16\n",
      "25\n",
      "36\n",
      "49\n",
      "64\n",
      "81\n"
     ]
    }
   ],
   "source": [
    "for i in square(5):\n",
    "    print(i)"
   ]
  },
  {
   "cell_type": "code",
   "execution_count": 1,
   "id": "fbe0eb63",
   "metadata": {},
   "outputs": [],
   "source": [
    "##Decorators\n",
    "def welcome():\n",
    "    return \"Welcome to my playlist\""
   ]
  },
  {
   "cell_type": "code",
   "execution_count": 3,
   "id": "289d2417",
   "metadata": {},
   "outputs": [],
   "source": [
    "wel=welcome()\n",
    "del welcome"
   ]
  },
  {
   "cell_type": "code",
   "execution_count": 4,
   "id": "ddda177d",
   "metadata": {},
   "outputs": [
    {
     "data": {
      "text/plain": [
       "'Welcome to my playlist'"
      ]
     },
     "execution_count": 4,
     "metadata": {},
     "output_type": "execute_result"
    }
   ],
   "source": [
    "wel"
   ]
  },
  {
   "cell_type": "code",
   "execution_count": 3,
   "id": "df3f0fd9",
   "metadata": {},
   "outputs": [],
   "source": [
    "def main_welcome(star):\n",
    "    \n",
    "    def sub_main_welcome_class():\n",
    "        print(\"ENter your name\")\n",
    "        star(\"Enter your home address\")\n",
    "        (int(input(\"enter your phone number\")))\n",
    "        \n",
    "    return sub_main_welcome_class()"
   ]
  },
  {
   "cell_type": "code",
   "execution_count": 4,
   "id": "8c14e340",
   "metadata": {},
   "outputs": [
    {
     "name": "stdout",
     "output_type": "stream",
     "text": [
      "ENter your name\n",
      "Enter your home address\n",
      "enter your phone number12434646\n"
     ]
    }
   ],
   "source": [
    "main_welcome(print)"
   ]
  },
  {
   "cell_type": "code",
   "execution_count": 5,
   "id": "582dd6b5",
   "metadata": {},
   "outputs": [],
   "source": [
    "def main_welcome(func):\n",
    "    \n",
    "    def sub_welcome_class():\n",
    "        print(\"Please subscribe my channel\")\n",
    "        print(func([1,2,3,4,5,6,8]))\n",
    "        print(\"Welcome to my channel\")\n",
    "    \n",
    "    return sub_welcome_class()"
   ]
  },
  {
   "cell_type": "code",
   "execution_count": 6,
   "id": "d2a60e27",
   "metadata": {},
   "outputs": [
    {
     "name": "stdout",
     "output_type": "stream",
     "text": [
      "Please subscribe my channel\n",
      "7\n",
      "Welcome to my channel\n"
     ]
    }
   ],
   "source": [
    "main_welcome(len)"
   ]
  },
  {
   "cell_type": "code",
   "execution_count": null,
   "id": "63a55c94",
   "metadata": {},
   "outputs": [],
   "source": []
  }
 ],
 "metadata": {
  "kernelspec": {
   "display_name": "Python 3 (ipykernel)",
   "language": "python",
   "name": "python3"
  },
  "language_info": {
   "codemirror_mode": {
    "name": "ipython",
    "version": 3
   },
   "file_extension": ".py",
   "mimetype": "text/x-python",
   "name": "python",
   "nbconvert_exporter": "python",
   "pygments_lexer": "ipython3",
   "version": "3.9.12"
  }
 },
 "nbformat": 4,
 "nbformat_minor": 5
}

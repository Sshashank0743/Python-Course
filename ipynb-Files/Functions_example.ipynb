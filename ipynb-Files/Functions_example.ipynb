{
 "cells": [
  {
   "cell_type": "code",
   "execution_count": 2,
   "id": "b56f1775",
   "metadata": {},
   "outputs": [
    {
     "name": "stdout",
     "output_type": "stream",
     "text": [
      "The num is even\n"
     ]
    }
   ],
   "source": [
    "num=24\n",
    "\n",
    "if num%2==0:\n",
    "    print(\"The num is even\")\n",
    "else:\n",
    "    print(\"The num is odd\")"
   ]
  },
  {
   "cell_type": "code",
   "execution_count": 3,
   "id": "da04d741",
   "metadata": {},
   "outputs": [],
   "source": [
    "def even_odd(num):\n",
    "    if num%2==0:\n",
    "        print(\"The num is even\")\n",
    "    else:\n",
    "        print(\"The num is odd\")"
   ]
  },
  {
   "cell_type": "code",
   "execution_count": 5,
   "id": "0ca56651",
   "metadata": {},
   "outputs": [
    {
     "name": "stdout",
     "output_type": "stream",
     "text": [
      "The num is even\n"
     ]
    }
   ],
   "source": [
    "even_odd(30)"
   ]
  },
  {
   "cell_type": "code",
   "execution_count": 22,
   "id": "0ca90a60",
   "metadata": {},
   "outputs": [],
   "source": [
    "def hello(num1,num2,num3):\n",
    "    return (num1+num2+num3)/3"
   ]
  },
  {
   "cell_type": "code",
   "execution_count": 23,
   "id": "aa81d299",
   "metadata": {},
   "outputs": [
    {
     "data": {
      "text/plain": [
       "13.0"
      ]
     },
     "execution_count": 23,
     "metadata": {},
     "output_type": "execute_result"
    }
   ],
   "source": [
    "val = hello(12,5,22)\n",
    "val"
   ]
  },
  {
   "cell_type": "code",
   "execution_count": 25,
   "id": "7031838e",
   "metadata": {},
   "outputs": [],
   "source": [
    "def greetings(m='morning', n='night'):\n",
    "    return(\"I am wishing you {} with warm welcome\".format(m,n))"
   ]
  },
  {
   "cell_type": "code",
   "execution_count": 28,
   "id": "f33005ee",
   "metadata": {},
   "outputs": [
    {
     "data": {
      "text/plain": [
       "'I am wishing you night with warm welcome'"
      ]
     },
     "execution_count": 28,
     "metadata": {},
     "output_type": "execute_result"
    }
   ],
   "source": [
    "greetings('night')"
   ]
  },
  {
   "cell_type": "code",
   "execution_count": 29,
   "id": "d4454d33",
   "metadata": {},
   "outputs": [],
   "source": [
    "def hello(*args,**kwargs):\n",
    "    print(args)\n",
    "    print(kwargs)"
   ]
  },
  {
   "cell_type": "code",
   "execution_count": 34,
   "id": "6af16271",
   "metadata": {},
   "outputs": [
    {
     "name": "stdout",
     "output_type": "stream",
     "text": [
      "('Shank', 'Praygarjian')\n",
      "{'age': 30, 'relegion': 'Hindu', 'dob': 1990}\n"
     ]
    }
   ],
   "source": [
    "lst = ['Shank','Praygarjian']\n",
    "dic_args = {'age':30, 'relegion':'Hindu','dob':1990}\n",
    "\n",
    "hello(*lst,**dic_args)"
   ]
  },
  {
   "cell_type": "code",
   "execution_count": 41,
   "id": "5df7390c",
   "metadata": {},
   "outputs": [],
   "source": [
    "lst=[12,5,8,6,7,9]\n",
    "def evenoddsum(lst):\n",
    "    even_sum=0\n",
    "    odd_sum=1\n",
    "    for i in lst:\n",
    "        if i%2==0:\n",
    "            even_sum=even_sum+i\n",
    "        else:\n",
    "            odd_sum=odd_sum+i\n",
    "    return even_sum,odd_sum"
   ]
  },
  {
   "cell_type": "code",
   "execution_count": 42,
   "id": "1a397bed",
   "metadata": {},
   "outputs": [
    {
     "data": {
      "text/plain": [
       "(26, 22)"
      ]
     },
     "execution_count": 42,
     "metadata": {},
     "output_type": "execute_result"
    }
   ],
   "source": [
    "evenoddsum(lst)"
   ]
  },
  {
   "cell_type": "markdown",
   "id": "f3ffa929",
   "metadata": {},
   "source": [
    "## Lambda Function\n",
    "\n",
    "anonymous function\n",
    "\n",
    "A function with no name"
   ]
  },
  {
   "cell_type": "code",
   "execution_count": 10,
   "id": "ebbb03dc",
   "metadata": {},
   "outputs": [],
   "source": [
    "def addition(a,b):\n",
    "    return a+b"
   ]
  },
  {
   "cell_type": "code",
   "execution_count": 11,
   "id": "01efe559",
   "metadata": {},
   "outputs": [
    {
     "data": {
      "text/plain": [
       "7"
      ]
     },
     "execution_count": 11,
     "metadata": {},
     "output_type": "execute_result"
    }
   ],
   "source": [
    "addition(2,5)"
   ]
  },
  {
   "cell_type": "code",
   "execution_count": 12,
   "id": "c49e9177",
   "metadata": {},
   "outputs": [],
   "source": [
    "addition = lambda a,b:a+b"
   ]
  },
  {
   "cell_type": "code",
   "execution_count": 13,
   "id": "30375dfd",
   "metadata": {},
   "outputs": [
    {
     "data": {
      "text/plain": [
       "26"
      ]
     },
     "execution_count": 13,
     "metadata": {},
     "output_type": "execute_result"
    }
   ],
   "source": [
    "addition(12,14)"
   ]
  },
  {
   "cell_type": "markdown",
   "id": "d1c33c96",
   "metadata": {},
   "source": [
    "## Map Function in Python"
   ]
  },
  {
   "cell_type": "code",
   "execution_count": 17,
   "id": "b9c8a708",
   "metadata": {},
   "outputs": [],
   "source": [
    "def even_or_odd(num):\n",
    "    if num%2==0:\n",
    "        return \"The number {} is even\".format(num)\n",
    "    else:\n",
    "        return \"The number {} is odd\".format(num)"
   ]
  },
  {
   "cell_type": "code",
   "execution_count": 18,
   "id": "0229dfb5",
   "metadata": {},
   "outputs": [
    {
     "data": {
      "text/plain": [
       "'The number 25 is odd'"
      ]
     },
     "execution_count": 18,
     "metadata": {},
     "output_type": "execute_result"
    }
   ],
   "source": [
    "even_or_odd(25)"
   ]
  },
  {
   "cell_type": "code",
   "execution_count": 19,
   "id": "ae56d13e",
   "metadata": {},
   "outputs": [
    {
     "data": {
      "text/plain": [
       "'The number 20 is even'"
      ]
     },
     "execution_count": 19,
     "metadata": {},
     "output_type": "execute_result"
    }
   ],
   "source": [
    "even_or_odd(20)"
   ]
  },
  {
   "cell_type": "code",
   "execution_count": 23,
   "id": "896afba6",
   "metadata": {},
   "outputs": [
    {
     "data": {
      "text/plain": [
       "['The number 1 is odd',\n",
       " 'The number 2 is even',\n",
       " 'The number 5 is odd',\n",
       " 'The number 4 is even',\n",
       " 'The number 8 is even',\n",
       " 'The number 6 is even',\n",
       " 'The number 5 is odd',\n",
       " 'The number 8 is even',\n",
       " 'The number 10 is even',\n",
       " 'The number 2 is even',\n",
       " 'The number 80 is even',\n",
       " 'The number 25 is odd',\n",
       " 'The number 34 is even']"
      ]
     },
     "execution_count": 23,
     "metadata": {},
     "output_type": "execute_result"
    }
   ],
   "source": [
    "lst = [1,2,5,4,8,6,5,8,10,2,80,25,34]\n",
    "\n",
    "list(map(even_or_odd,lst))"
   ]
  },
  {
   "cell_type": "code",
   "execution_count": 24,
   "id": "f2debcc0",
   "metadata": {},
   "outputs": [],
   "source": [
    "def EvenOdd(n1,n2):\n",
    "        num = n1*n2\n",
    "        if num%2==0:\n",
    "            return 1\n",
    "        else:\n",
    "            return 0"
   ]
  },
  {
   "cell_type": "code",
   "execution_count": 25,
   "id": "a45aa681",
   "metadata": {},
   "outputs": [
    {
     "data": {
      "text/plain": [
       "1"
      ]
     },
     "execution_count": 25,
     "metadata": {},
     "output_type": "execute_result"
    }
   ],
   "source": [
    "EvenOdd(12,15)"
   ]
  },
  {
   "cell_type": "code",
   "execution_count": 26,
   "id": "0456fd45",
   "metadata": {},
   "outputs": [
    {
     "data": {
      "text/plain": [
       "0"
      ]
     },
     "execution_count": 26,
     "metadata": {},
     "output_type": "execute_result"
    }
   ],
   "source": [
    "EvenOdd(11,15)"
   ]
  },
  {
   "cell_type": "markdown",
   "id": "a7f46032",
   "metadata": {},
   "source": [
    "## Filter Function in Python"
   ]
  },
  {
   "cell_type": "code",
   "execution_count": 31,
   "id": "28ca232e",
   "metadata": {},
   "outputs": [],
   "source": [
    "def even(num):\n",
    "    if num%2==0:\n",
    "        return True"
   ]
  },
  {
   "cell_type": "code",
   "execution_count": 32,
   "id": "0e93abd9",
   "metadata": {},
   "outputs": [
    {
     "data": {
      "text/plain": [
       "True"
      ]
     },
     "execution_count": 32,
     "metadata": {},
     "output_type": "execute_result"
    }
   ],
   "source": [
    "even(12)"
   ]
  },
  {
   "cell_type": "code",
   "execution_count": 33,
   "id": "f8e05dd8",
   "metadata": {},
   "outputs": [],
   "source": [
    "lst = [12,5,2,5,3,6,10]"
   ]
  },
  {
   "cell_type": "code",
   "execution_count": 34,
   "id": "acf6e03c",
   "metadata": {},
   "outputs": [
    {
     "data": {
      "text/plain": [
       "[12, 2, 6, 10]"
      ]
     },
     "execution_count": 34,
     "metadata": {},
     "output_type": "execute_result"
    }
   ],
   "source": [
    "list(filter(even,lst))"
   ]
  },
  {
   "cell_type": "code",
   "execution_count": 35,
   "id": "959db1de",
   "metadata": {},
   "outputs": [
    {
     "data": {
      "text/plain": [
       "<filter at 0x1f901f9de20>"
      ]
     },
     "execution_count": 35,
     "metadata": {},
     "output_type": "execute_result"
    }
   ],
   "source": [
    "filter(even,lst)"
   ]
  },
  {
   "cell_type": "code",
   "execution_count": 38,
   "id": "b8435cce",
   "metadata": {},
   "outputs": [
    {
     "data": {
      "text/plain": [
       "[12, 2, 6, 10]"
      ]
     },
     "execution_count": 38,
     "metadata": {},
     "output_type": "execute_result"
    }
   ],
   "source": [
    "list(filter(lambda num:num%2==0,lst))"
   ]
  },
  {
   "cell_type": "code",
   "execution_count": 39,
   "id": "f1f5be85",
   "metadata": {},
   "outputs": [
    {
     "data": {
      "text/plain": [
       "[True, False, True, False, False, True, True]"
      ]
     },
     "execution_count": 39,
     "metadata": {},
     "output_type": "execute_result"
    }
   ],
   "source": [
    "list(map(lambda num:num%2==0,lst))"
   ]
  },
  {
   "cell_type": "code",
   "execution_count": null,
   "id": "ab4e6009",
   "metadata": {},
   "outputs": [],
   "source": []
  }
 ],
 "metadata": {
  "kernelspec": {
   "display_name": "Python 3 (ipykernel)",
   "language": "python",
   "name": "python3"
  },
  "language_info": {
   "codemirror_mode": {
    "name": "ipython",
    "version": 3
   },
   "file_extension": ".py",
   "mimetype": "text/x-python",
   "name": "python",
   "nbconvert_exporter": "python",
   "pygments_lexer": "ipython3",
   "version": "3.9.12"
  }
 },
 "nbformat": 4,
 "nbformat_minor": 5
}

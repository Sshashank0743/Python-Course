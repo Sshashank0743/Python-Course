{
 "cells": [
  {
   "cell_type": "code",
   "execution_count": 1,
   "metadata": {},
   "outputs": [
    {
     "name": "stdout",
     "output_type": "stream",
     "text": [
      "Enter Your String:abbaabca\n",
      "The Maximum occurring character in a string is  a\n"
     ]
    }
   ],
   "source": [
    "str=input(\"Enter Your String:\")\n",
    "max=-1\n",
    "arr=[0]*256\n",
    "for i in range(len(str)):\n",
    "    if str[i]==' ':\n",
    "        continue\n",
    "    num=ord(str[i])\n",
    "    arr[num]+=1\n",
    "ch=' '\n",
    "for i in range(len(str)):\n",
    "    if arr[ord(str[i])] != 0:\n",
    "        if arr[ord(str[i])] >= max:\n",
    "            max = arr[ord(str[i])]\n",
    "            ch=str[i]\n",
    "print(\"The Maximum occurring character in a string is \",ch)"
   ]
  },
  {
   "cell_type": "code",
   "execution_count": 1,
   "metadata": {},
   "outputs": [
    {
     "name": "stdout",
     "output_type": "stream",
     "text": [
      "D\n"
     ]
    }
   ],
   "source": [
    "str = \"DataDrivenTechnology\"\n",
    "occurrence = {}\n",
    "for i in str:\n",
    "    if i in occurrence:\n",
    "        occurrence[i] = occurrence[i] + 1\n",
    "    else:\n",
    "        occurrence[i] = 1\n",
    "out = max(occurrence, key = occurrence.get)\n",
    "print(out)"
   ]
  },
  {
   "cell_type": "code",
   "execution_count": null,
   "metadata": {},
   "outputs": [],
   "source": []
  }
 ],
 "metadata": {
  "kernelspec": {
   "display_name": "Python 3",
   "language": "python",
   "name": "python3"
  },
  "language_info": {
   "codemirror_mode": {
    "name": "ipython",
    "version": 3
   },
   "file_extension": ".py",
   "mimetype": "text/x-python",
   "name": "python",
   "nbconvert_exporter": "python",
   "pygments_lexer": "ipython3",
   "version": "3.8.5"
  }
 },
 "nbformat": 4,
 "nbformat_minor": 4
}

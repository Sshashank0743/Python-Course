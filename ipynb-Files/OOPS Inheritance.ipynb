{
 "cells": [
  {
   "cell_type": "code",
   "execution_count": 22,
   "id": "d2b96a25",
   "metadata": {},
   "outputs": [],
   "source": [
    "class car():\n",
    "    \n",
    "    def __init__(self, power_windows, power_doors, enginetype):\n",
    "        self.windows = power_windows\n",
    "        self.doors = power_doors\n",
    "        self.start = enginetype\n",
    "    \n",
    "    def drive(self):\n",
    "        print(\"Maruti have no self driving models yet.\")"
   ]
  },
  {
   "cell_type": "code",
   "execution_count": 23,
   "id": "6a7932af",
   "metadata": {},
   "outputs": [],
   "source": [
    "maruti1 = maruti(4,4,True)"
   ]
  },
  {
   "cell_type": "code",
   "execution_count": 24,
   "id": "e09d8946",
   "metadata": {},
   "outputs": [
    {
     "data": {
      "text/plain": [
       "4"
      ]
     },
     "execution_count": 24,
     "metadata": {},
     "output_type": "execute_result"
    }
   ],
   "source": [
    "maruti1.doors"
   ]
  },
  {
   "cell_type": "code",
   "execution_count": 25,
   "id": "2bd95f8d",
   "metadata": {},
   "outputs": [
    {
     "name": "stdout",
     "output_type": "stream",
     "text": [
      "Maruti have no self driving models yet.\n"
     ]
    }
   ],
   "source": [
    "maruti1.drive()"
   ]
  },
  {
   "cell_type": "code",
   "execution_count": 26,
   "id": "4379f395",
   "metadata": {},
   "outputs": [],
   "source": [
    "class tata(car):\n",
    "    \n",
    "    def __init__(self, power_windows, power_doors, enginetype, enableai):\n",
    "        super().__init__(power_windows, power_doors, enginetype)\n",
    "        self.enableai=enableai\n",
    "        \n",
    "    def selfdriving(self):\n",
    "        print(\"Tata doesn't support self driving\")"
   ]
  },
  {
   "cell_type": "code",
   "execution_count": 27,
   "id": "57c62848",
   "metadata": {},
   "outputs": [],
   "source": [
    "tata_nexon = tata(4,4,\"diesel\",True)"
   ]
  },
  {
   "cell_type": "code",
   "execution_count": 34,
   "id": "b4defbc5",
   "metadata": {},
   "outputs": [
    {
     "data": {
      "text/plain": [
       "True"
      ]
     },
     "execution_count": 34,
     "metadata": {},
     "output_type": "execute_result"
    }
   ],
   "source": [
    "tata_nexon.enableai"
   ]
  },
  {
   "cell_type": "code",
   "execution_count": null,
   "id": "56cf76bd",
   "metadata": {},
   "outputs": [],
   "source": []
  }
 ],
 "metadata": {
  "kernelspec": {
   "display_name": "Python 3 (ipykernel)",
   "language": "python",
   "name": "python3"
  },
  "language_info": {
   "codemirror_mode": {
    "name": "ipython",
    "version": 3
   },
   "file_extension": ".py",
   "mimetype": "text/x-python",
   "name": "python",
   "nbconvert_exporter": "python",
   "pygments_lexer": "ipython3",
   "version": "3.9.12"
  }
 },
 "nbformat": 4,
 "nbformat_minor": 5
}

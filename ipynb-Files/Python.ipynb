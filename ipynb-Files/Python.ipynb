{
 "cells": [
  {
   "cell_type": "markdown",
   "id": "38e65af4",
   "metadata": {},
   "source": [
    "## Dice Roll Simulator"
   ]
  },
  {
   "cell_type": "code",
   "execution_count": 11,
   "id": "e855caaa",
   "metadata": {},
   "outputs": [
    {
     "name": "stdout",
     "output_type": "stream",
     "text": [
      "You rolled the following number using the Dice - 6\n",
      "If you to roll the dice again, you can.\n",
      "y\n",
      "You rolled the following number using the Dice - 3\n",
      "If you to roll the dice again, you can.\n",
      "y\n",
      "You rolled the following number using the Dice - 6\n",
      "If you to roll the dice again, you can.\n",
      "y\n",
      "You rolled the following number using the Dice - 4\n",
      "If you to roll the dice again, you can.\n",
      "n\n"
     ]
    }
   ],
   "source": [
    "from random import randint\n",
    "repeat_rolling = True\n",
    "while repeat_rolling:\n",
    "    print(\"You rolled the following number using the Dice -\",randint(1,6))\n",
    "    print(\"If you to roll the dice again, you can.\")\n",
    "    repeat_rolling = (\"y\" or \"yes\") in input().lower()"
   ]
  },
  {
   "cell_type": "markdown",
   "id": "c0625107",
   "metadata": {},
   "source": [
    "## Armstrong number"
   ]
  },
  {
   "cell_type": "code",
   "execution_count": 9,
   "id": "be6ddf5b",
   "metadata": {},
   "outputs": [
    {
     "name": "stdout",
     "output_type": "stream",
     "text": [
      "Please input any number: 542\n",
      "The given number isn't an arsmtrong number. \n"
     ]
    }
   ],
   "source": [
    "# Program to check Armstrong numbers using list\t\n",
    "number=int(input(\"Please input any number: \"))\n",
    "number1=list(map(int,str(number)))\n",
    "number2=list(map(lambda x:x**3,number1))\n",
    "if(sum(number2)==number):\n",
    "    print(\"The given number is an armstrong number. \")\n",
    "else:\n",
    "    print(\"The given number isn't an arsmtrong number. \")"
   ]
  },
  {
   "cell_type": "markdown",
   "id": "913dcef3",
   "metadata": {},
   "source": [
    "## Spelling Correction"
   ]
  },
  {
   "cell_type": "code",
   "execution_count": null,
   "id": "90d170cb",
   "metadata": {},
   "outputs": [],
   "source": [
    "pip install textblob"
   ]
  },
  {
   "cell_type": "code",
   "execution_count": null,
   "id": "2258994b",
   "metadata": {},
   "outputs": [],
   "source": [
    "# Import TextBlob\n",
    "from textblob import TextBlob\n",
    " \n",
    "txt = TextBlob(\"I loev my ieda.\")\n",
    " \n",
    "# using correct() method\n",
    "txt = txt.correct()\n",
    " \n",
    "print(txt)"
   ]
  },
  {
   "cell_type": "code",
   "execution_count": null,
   "id": "76403045",
   "metadata": {},
   "outputs": [],
   "source": [
    "from textblob import TextBlob\n",
    "\n",
    "def Convert(string):\n",
    "    li = list(string.split())\n",
    "    return li\n",
    "\n",
    "str1 = input(\"Please enter some misspelled texts: \")\n",
    "words=Convert(str1)\n",
    "\n",
    "corrected_words = []\n",
    "for i in words:\n",
    "    corrected_words.append(TextBlob(i))\n",
    "    \n",
    "print(\"Words are:\", words)\n",
    "print(\"Corrected Words are:\")\n",
    "for i in corrected_words:\n",
    "    print(i.correct(), end=\" \")"
   ]
  },
  {
   "cell_type": "code",
   "execution_count": null,
   "id": "4d9a3713",
   "metadata": {},
   "outputs": [],
   "source": []
  }
 ],
 "metadata": {
  "kernelspec": {
   "display_name": "Python 3 (ipykernel)",
   "language": "python",
   "name": "python3"
  },
  "language_info": {
   "codemirror_mode": {
    "name": "ipython",
    "version": 3
   },
   "file_extension": ".py",
   "mimetype": "text/x-python",
   "name": "python",
   "nbconvert_exporter": "python",
   "pygments_lexer": "ipython3",
   "version": "3.9.12"
  }
 },
 "nbformat": 4,
 "nbformat_minor": 5
}

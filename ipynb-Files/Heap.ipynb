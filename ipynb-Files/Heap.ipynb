{
 "cells": [
  {
   "cell_type": "code",
   "execution_count": 1,
   "metadata": {},
   "outputs": [
    {
     "name": "stdout",
     "output_type": "stream",
     "text": [
      "12 10 9 2 5 7 6 "
     ]
    }
   ],
   "source": [
    "def MaxHeapify(arr, n, idx):\n",
    "      \n",
    "    # Find largest of node and \n",
    "    # its children \n",
    "    if idx >= n: \n",
    "        return\n",
    "    l = 2 * idx + 1\n",
    "    r = 2 * idx + 2\n",
    "    Max = 0\n",
    "    if l < n and arr[l] > arr[idx]: \n",
    "        Max = l \n",
    "    else:\n",
    "        Max = idx \n",
    "    if r < n and arr[r] > arr[Max]: \n",
    "        Max = r \n",
    "  \n",
    "    # Put Maximum value at root and \n",
    "    # recur for the child with the \n",
    "    # Maximum value \n",
    "    if Max != idx: \n",
    "        arr[Max], arr[idx] = arr[idx], arr[Max] \n",
    "        MaxHeapify(arr, n, Max)\n",
    "  \n",
    "# Builds a Max heap of given arr[0..n-1] \n",
    "def buildMaxHeap(arr, n):\n",
    "      \n",
    "    # building the heap from first non-leaf \n",
    "    # node by calling Max heapify function \n",
    "    for i in range(int(n / 2) - 1, -1, -1):\n",
    "        MaxHeapify(arr, n, i)\n",
    "  \n",
    "# Merges Max heaps a[] and b[] into merged[] \n",
    "def mergeHeaps(merged, a, b, n, m):\n",
    "      \n",
    "    # Copy elements of a[] and b[] one \n",
    "    # by one to merged[] \n",
    "    for i in range(n):\n",
    "        merged[i] = a[i]\n",
    "    for i in range(m):\n",
    "        merged[n + i] = b[i]\n",
    "  \n",
    "    # build heap for the modified \n",
    "    # array of size n+m \n",
    "    buildMaxHeap(merged, n + m)\n",
    "  \n",
    "# Driver code \n",
    "if __name__ == '__main__': \n",
    "    a = [10, 5, 6, 2] \n",
    "    b = [12, 7, 9] \n",
    "  \n",
    "    n = len(a) \n",
    "    m = len(b) \n",
    "  \n",
    "    merged = [0] * (m + n) \n",
    "    mergeHeaps(merged, a, b, n, m) \n",
    "  \n",
    "    for i in range(n + m):\n",
    "        print(merged[i], end = \" \")"
   ]
  },
  {
   "cell_type": "code",
   "execution_count": null,
   "metadata": {},
   "outputs": [],
   "source": []
  }
 ],
 "metadata": {
  "kernelspec": {
   "display_name": "Python 3",
   "language": "python",
   "name": "python3"
  },
  "language_info": {
   "codemirror_mode": {
    "name": "ipython",
    "version": 3
   },
   "file_extension": ".py",
   "mimetype": "text/x-python",
   "name": "python",
   "nbconvert_exporter": "python",
   "pygments_lexer": "ipython3",
   "version": "3.8.5"
  }
 },
 "nbformat": 4,
 "nbformat_minor": 4
}

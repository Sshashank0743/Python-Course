{
 "cells": [
  {
   "cell_type": "code",
   "execution_count": 5,
   "id": "19a41bec",
   "metadata": {},
   "outputs": [
    {
     "name": "stdout",
     "output_type": "stream",
     "text": [
      "set()\n",
      "<class 'set'>\n"
     ]
    }
   ],
   "source": [
    "sets = set()\n",
    "print(sets)\n",
    "print(type(sets))"
   ]
  },
  {
   "cell_type": "code",
   "execution_count": 6,
   "id": "2eb46d12",
   "metadata": {},
   "outputs": [
    {
     "data": {
      "text/plain": [
       "{1, 2, 3, 4, 5}"
      ]
     },
     "execution_count": 6,
     "metadata": {},
     "output_type": "execute_result"
    }
   ],
   "source": [
    "set_var={1,2,3,4,2,5}\n",
    "set_var"
   ]
  },
  {
   "cell_type": "code",
   "execution_count": 7,
   "id": "bacd6c94",
   "metadata": {},
   "outputs": [
    {
     "name": "stdout",
     "output_type": "stream",
     "text": [
      "{'Ironman', 'THor', 'AVengers'}\n",
      "<class 'set'>\n"
     ]
    }
   ],
   "source": [
    "set_var={\"AVengers\",\"Ironman\",\"THor\"}\n",
    "print(set_var)\n",
    "print(type(set_var))"
   ]
  },
  {
   "cell_type": "code",
   "execution_count": 8,
   "id": "a606e17d",
   "metadata": {},
   "outputs": [],
   "source": [
    "set_var.add('hulk')"
   ]
  },
  {
   "cell_type": "code",
   "execution_count": 9,
   "id": "7d81e1d1",
   "metadata": {},
   "outputs": [
    {
     "data": {
      "text/plain": [
       "{'AVengers', 'Ironman', 'THor', 'hulk'}"
      ]
     },
     "execution_count": 9,
     "metadata": {},
     "output_type": "execute_result"
    }
   ],
   "source": [
    "set_var"
   ]
  },
  {
   "cell_type": "code",
   "execution_count": 17,
   "id": "3093f630",
   "metadata": {},
   "outputs": [
    {
     "name": "stdout",
     "output_type": "stream",
     "text": [
      "{'Ironman', 'THor', 'AVengers'}\n",
      "{'Ironman', 'THor', 'hulk', 'AVengers'}\n"
     ]
    }
   ],
   "source": [
    "set1 = {'Ironman', 'THor', 'AVengers'}\n",
    "set2 = {'AVengers', 'Ironman', 'THor', 'hulk'}\n",
    "\n",
    "print(set1)\n",
    "print(set2)"
   ]
  },
  {
   "cell_type": "code",
   "execution_count": 14,
   "id": "7f891e14",
   "metadata": {},
   "outputs": [
    {
     "data": {
      "text/plain": [
       "{'hulk'}"
      ]
     },
     "execution_count": 14,
     "metadata": {},
     "output_type": "execute_result"
    }
   ],
   "source": [
    "set2.difference(set1)"
   ]
  },
  {
   "cell_type": "code",
   "execution_count": 18,
   "id": "ef74c295",
   "metadata": {},
   "outputs": [
    {
     "data": {
      "text/plain": [
       "{'AVengers', 'Ironman', 'THor'}"
      ]
     },
     "execution_count": 18,
     "metadata": {},
     "output_type": "execute_result"
    }
   ],
   "source": [
    "set2.intersection(set1)"
   ]
  },
  {
   "cell_type": "code",
   "execution_count": 15,
   "id": "f5a9dac2",
   "metadata": {},
   "outputs": [],
   "source": [
    "set2.intersection_update(set1)"
   ]
  },
  {
   "cell_type": "code",
   "execution_count": 16,
   "id": "7cd196c9",
   "metadata": {},
   "outputs": [
    {
     "data": {
      "text/plain": [
       "{'AVengers', 'Ironman', 'THor'}"
      ]
     },
     "execution_count": 16,
     "metadata": {},
     "output_type": "execute_result"
    }
   ],
   "source": [
    "set2"
   ]
  },
  {
   "cell_type": "code",
   "execution_count": null,
   "id": "7de85e90",
   "metadata": {},
   "outputs": [],
   "source": []
  }
 ],
 "metadata": {
  "kernelspec": {
   "display_name": "Python 3 (ipykernel)",
   "language": "python",
   "name": "python3"
  },
  "language_info": {
   "codemirror_mode": {
    "name": "ipython",
    "version": 3
   },
   "file_extension": ".py",
   "mimetype": "text/x-python",
   "name": "python",
   "nbconvert_exporter": "python",
   "pygments_lexer": "ipython3",
   "version": "3.9.12"
  }
 },
 "nbformat": 4,
 "nbformat_minor": 5
}

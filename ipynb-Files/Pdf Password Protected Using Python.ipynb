{
 "cells": [
  {
   "cell_type": "code",
   "execution_count": 1,
   "id": "109272d5",
   "metadata": {},
   "outputs": [
    {
     "name": "stdout",
     "output_type": "stream",
     "text": [
      "Requirement already satisfied: PyPDF2 in d:\\anaconda\\lib\\site-packages (2.5.0)\n",
      "Requirement already satisfied: typing-extensions in d:\\anaconda\\lib\\site-packages (from PyPDF2) (4.1.1)\n",
      "Note: you may need to restart the kernel to use updated packages.\n"
     ]
    }
   ],
   "source": [
    "pip install PyPDF2"
   ]
  },
  {
   "cell_type": "code",
   "execution_count": 2,
   "id": "f3509521",
   "metadata": {},
   "outputs": [],
   "source": [
    "from PyPDF2 import PdfFileReader, PdfFileWriter"
   ]
  },
  {
   "cell_type": "code",
   "execution_count": 3,
   "id": "59f3ce9c",
   "metadata": {},
   "outputs": [],
   "source": [
    "## open the current pdf\n",
    "file_pdf=PdfFileReader('Vulture.pdf')\n",
    "\n",
    "## object for pdf writer\n",
    "out_pdf=PdfFileWriter()"
   ]
  },
  {
   "cell_type": "code",
   "execution_count": 4,
   "id": "ad9796bd",
   "metadata": {},
   "outputs": [
    {
     "data": {
      "text/plain": [
       "<PyPDF2._reader.PdfFileReader at 0x1debad730d0>"
      ]
     },
     "execution_count": 4,
     "metadata": {},
     "output_type": "execute_result"
    }
   ],
   "source": [
    "file_pdf"
   ]
  },
  {
   "cell_type": "code",
   "execution_count": 5,
   "id": "05efdacb",
   "metadata": {},
   "outputs": [
    {
     "name": "stderr",
     "output_type": "stream",
     "text": [
      "D:\\Anaconda\\lib\\site-packages\\PyPDF2\\_reader.py:1142: PdfReadWarning: Superfluous whitespace found in object header b'1' b'0'\n",
      "  warnings.warn(\n",
      "D:\\Anaconda\\lib\\site-packages\\PyPDF2\\_reader.py:1142: PdfReadWarning: Superfluous whitespace found in object header b'2' b'0'\n",
      "  warnings.warn(\n",
      "D:\\Anaconda\\lib\\site-packages\\PyPDF2\\_reader.py:1142: PdfReadWarning: Superfluous whitespace found in object header b'3' b'0'\n",
      "  warnings.warn(\n"
     ]
    }
   ],
   "source": [
    "for i in range(file_pdf.numPages):\n",
    "    page_details=file_pdf.getPage(i)\n",
    "    ## Add to the output pages\n",
    "    out_pdf.addPage(page_details)"
   ]
  },
  {
   "cell_type": "code",
   "execution_count": 6,
   "id": "07fdd76e",
   "metadata": {},
   "outputs": [],
   "source": [
    "password=\"Abc@123\"\n",
    "\n",
    "out_pdf.encrypt(password)"
   ]
  },
  {
   "cell_type": "code",
   "execution_count": 7,
   "id": "6e9d6851",
   "metadata": {},
   "outputs": [
    {
     "name": "stderr",
     "output_type": "stream",
     "text": [
      "D:\\Anaconda\\lib\\site-packages\\PyPDF2\\_reader.py:1142: PdfReadWarning: Superfluous whitespace found in object header b'21' b'0'\n",
      "  warnings.warn(\n",
      "D:\\Anaconda\\lib\\site-packages\\PyPDF2\\_reader.py:1142: PdfReadWarning: Superfluous whitespace found in object header b'16' b'0'\n",
      "  warnings.warn(\n",
      "D:\\Anaconda\\lib\\site-packages\\PyPDF2\\_reader.py:1142: PdfReadWarning: Superfluous whitespace found in object header b'12' b'0'\n",
      "  warnings.warn(\n",
      "D:\\Anaconda\\lib\\site-packages\\PyPDF2\\_reader.py:1142: PdfReadWarning: Superfluous whitespace found in object header b'11' b'0'\n",
      "  warnings.warn(\n",
      "D:\\Anaconda\\lib\\site-packages\\PyPDF2\\_reader.py:1142: PdfReadWarning: Superfluous whitespace found in object header b'10' b'0'\n",
      "  warnings.warn(\n",
      "D:\\Anaconda\\lib\\site-packages\\PyPDF2\\_reader.py:1142: PdfReadWarning: Superfluous whitespace found in object header b'9' b'0'\n",
      "  warnings.warn(\n",
      "D:\\Anaconda\\lib\\site-packages\\PyPDF2\\_reader.py:1142: PdfReadWarning: Superfluous whitespace found in object header b'8' b'0'\n",
      "  warnings.warn(\n",
      "D:\\Anaconda\\lib\\site-packages\\PyPDF2\\_reader.py:1142: PdfReadWarning: Superfluous whitespace found in object header b'7' b'0'\n",
      "  warnings.warn(\n",
      "D:\\Anaconda\\lib\\site-packages\\PyPDF2\\_reader.py:1142: PdfReadWarning: Superfluous whitespace found in object header b'6' b'0'\n",
      "  warnings.warn(\n",
      "D:\\Anaconda\\lib\\site-packages\\PyPDF2\\_reader.py:1142: PdfReadWarning: Superfluous whitespace found in object header b'19' b'0'\n",
      "  warnings.warn(\n",
      "D:\\Anaconda\\lib\\site-packages\\PyPDF2\\_reader.py:1142: PdfReadWarning: Superfluous whitespace found in object header b'18' b'0'\n",
      "  warnings.warn(\n",
      "D:\\Anaconda\\lib\\site-packages\\PyPDF2\\_reader.py:1142: PdfReadWarning: Superfluous whitespace found in object header b'17' b'0'\n",
      "  warnings.warn(\n",
      "D:\\Anaconda\\lib\\site-packages\\PyPDF2\\_reader.py:1142: PdfReadWarning: Superfluous whitespace found in object header b'5' b'0'\n",
      "  warnings.warn(\n",
      "D:\\Anaconda\\lib\\site-packages\\PyPDF2\\_reader.py:1142: PdfReadWarning: Superfluous whitespace found in object header b'20' b'0'\n",
      "  warnings.warn(\n",
      "D:\\Anaconda\\lib\\site-packages\\PyPDF2\\_reader.py:1142: PdfReadWarning: Superfluous whitespace found in object header b'15' b'0'\n",
      "  warnings.warn(\n",
      "D:\\Anaconda\\lib\\site-packages\\PyPDF2\\_reader.py:1142: PdfReadWarning: Superfluous whitespace found in object header b'14' b'0'\n",
      "  warnings.warn(\n",
      "D:\\Anaconda\\lib\\site-packages\\PyPDF2\\_reader.py:1142: PdfReadWarning: Superfluous whitespace found in object header b'13' b'0'\n",
      "  warnings.warn(\n",
      "D:\\Anaconda\\lib\\site-packages\\PyPDF2\\_reader.py:1142: PdfReadWarning: Superfluous whitespace found in object header b'4' b'0'\n",
      "  warnings.warn(\n"
     ]
    }
   ],
   "source": [
    "with open(\"encryptedfile.pdf\", \"wb\") as filename:\n",
    "    out_pdf.write(filename)\n",
    "    "
   ]
  },
  {
   "cell_type": "code",
   "execution_count": null,
   "id": "f5bc6185",
   "metadata": {},
   "outputs": [],
   "source": []
  }
 ],
 "metadata": {
  "kernelspec": {
   "display_name": "Python 3 (ipykernel)",
   "language": "python",
   "name": "python3"
  },
  "language_info": {
   "codemirror_mode": {
    "name": "ipython",
    "version": 3
   },
   "file_extension": ".py",
   "mimetype": "text/x-python",
   "name": "python",
   "nbconvert_exporter": "python",
   "pygments_lexer": "ipython3",
   "version": "3.9.12"
  }
 },
 "nbformat": 4,
 "nbformat_minor": 5
}

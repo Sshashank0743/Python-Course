{
 "cells": [
  {
   "cell_type": "code",
   "execution_count": 22,
   "id": "07866c31",
   "metadata": {},
   "outputs": [],
   "source": [
    " class Car:\n",
    "        base_price = 100000\n",
    "        def __init__(self,windows,doors,power):\n",
    "            self.windows = windows\n",
    "            self.doors = doors\n",
    "            self.power = power\n",
    "            "
   ]
  },
  {
   "cell_type": "code",
   "execution_count": 23,
   "id": "5f2abb36",
   "metadata": {},
   "outputs": [],
   "source": [
    " class Car:\n",
    "        base_price = 100000\n",
    "        def __init__(self,windows,doors,power):\n",
    "            self.windows = windows\n",
    "            self.doors = doors\n",
    "            self.power = power\n",
    "            \n",
    "        def what_base_price(self):\n",
    "            print(\"The base price is {}\".format(self.base_prive))\n",
    "            \n",
    "        @classmethod\n",
    "        def revised_base_price(cls,inflation):\n",
    "            cls.base_price=cls.base_price+cls.base_price*inflation"
   ]
  },
  {
   "cell_type": "code",
   "execution_count": 14,
   "id": "0f642007",
   "metadata": {},
   "outputs": [],
   "source": [
    "car1 = Car(4,4,1500)"
   ]
  },
  {
   "cell_type": "code",
   "execution_count": 15,
   "id": "c66e9105",
   "metadata": {},
   "outputs": [
    {
     "data": {
      "text/plain": [
       "100000"
      ]
     },
     "execution_count": 15,
     "metadata": {},
     "output_type": "execute_result"
    }
   ],
   "source": [
    "car1.base_price"
   ]
  },
  {
   "cell_type": "code",
   "execution_count": 16,
   "id": "8218cba4",
   "metadata": {},
   "outputs": [],
   "source": [
    "Car.revised_base_price(0.10)"
   ]
  },
  {
   "cell_type": "code",
   "execution_count": 18,
   "id": "68015953",
   "metadata": {},
   "outputs": [
    {
     "data": {
      "text/plain": [
       "110000.0"
      ]
     },
     "execution_count": 18,
     "metadata": {},
     "output_type": "execute_result"
    }
   ],
   "source": [
    "Car.base_price"
   ]
  },
  {
   "cell_type": "code",
   "execution_count": 21,
   "id": "66000729",
   "metadata": {},
   "outputs": [
    {
     "data": {
      "text/plain": [
       "110000.0"
      ]
     },
     "execution_count": 21,
     "metadata": {},
     "output_type": "execute_result"
    }
   ],
   "source": [
    "car1 = Car(4,4,1500)\n",
    "car1.base_price"
   ]
  },
  {
   "cell_type": "code",
   "execution_count": null,
   "id": "ba895352",
   "metadata": {},
   "outputs": [],
   "source": []
  }
 ],
 "metadata": {
  "kernelspec": {
   "display_name": "Python 3 (ipykernel)",
   "language": "python",
   "name": "python3"
  },
  "language_info": {
   "codemirror_mode": {
    "name": "ipython",
    "version": 3
   },
   "file_extension": ".py",
   "mimetype": "text/x-python",
   "name": "python",
   "nbconvert_exporter": "python",
   "pygments_lexer": "ipython3",
   "version": "3.9.12"
  }
 },
 "nbformat": 4,
 "nbformat_minor": 5
}

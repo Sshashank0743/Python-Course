{
 "cells": [
  {
   "cell_type": "code",
   "execution_count": null,
   "metadata": {},
   "outputs": [],
   "source": [
    "import pygame\n",
    "\n",
    "pygame.init()\n",
    "window = pygame.display.set_mode((500,400))\n",
    "\n",
    "\n",
    "while True:\n",
    "    pygame.draw.rect(window, (255,0,0),\n",
    "                             (0,0,50,30))\n",
    "    pygame.display.update()"
   ]
  },
  {
   "cell_type": "code",
   "execution_count": null,
   "metadata": {},
   "outputs": [],
   "source": [
    "import pygame\n",
    "\n",
    "pygame.init()\n",
    "window = pygame.display.set_mode((500,400))\n",
    "\n",
    "while True:\n",
    "    pygame.draw.rect(window, (255,0,0), \n",
    "                             (100, 100, 50, 50))\n",
    "    pygame.draw.rect(window, (0,255,0), \n",
    "                             (150, 100, 50, 50))\n",
    "    pygame.draw.rect(window, (0,0,255), \n",
    "                             (200, 100, 50, 50))\n",
    "    pygame.display.update()"
   ]
  },
  {
   "cell_type": "code",
   "execution_count": null,
   "metadata": {},
   "outputs": [],
   "source": [
    "import pygame\n",
    "\n",
    "pygame.init()\n",
    "window = pygame.display.set_mode((500,400))\n",
    "\n",
    "while True:\n",
    "    pygame.draw.rect(window, (255,0,0), \n",
    "                             (0, 0, 50, 50))\n",
    "    pygame.draw.rect(window, (0,255,0), \n",
    "                             (40, 0, 50, 50))\n",
    "    pygame.draw.rect(window, (0,0,255), \n",
    "                             (80, 0, 50, 50))\n",
    "    pygame.display.update()"
   ]
  },
  {
   "cell_type": "code",
   "execution_count": null,
   "metadata": {},
   "outputs": [],
   "source": [
    "import pygame\n",
    "\n",
    "pygame.init()\n",
    "window = pygame.display.set_mode((500,400))\n",
    "\n",
    "while True:\n",
    "    pygame.draw.rect(window, (255,0,0), \n",
    "                             (0, 0, 50, 50))\n",
    "    pygame.draw.rect(window, (0,0,255), \n",
    "                             (80, 0, 50, 50))\n",
    "    pygame.draw.rect(window, (0,255,0), \n",
    "                             (40, 0, 50, 50)) \n",
    "    pygame.display.update()"
   ]
  },
  {
   "cell_type": "code",
   "execution_count": null,
   "metadata": {},
   "outputs": [],
   "source": [
    "import pygame\n",
    "\n",
    "pygame.init()\n",
    "window = pygame.display.set_mode((500,400))\n",
    "\n",
    "while True:\n",
    "        #Just like before to help us remember\n",
    "        #pygame.draw.circle(WHERE TO DRAW, (RED, GREEN, BLUE), (X COORDINATE, Y COORDINATE), RADIUS, HEIGHT, WIDTH)\n",
    " \n",
    "    pygame.draw.circle(window, (255,255,0), \n",
    "                                (250, 200), 20, 0)\n",
    "    pygame.display.update()"
   ]
  },
  {
   "cell_type": "code",
   "execution_count": null,
   "metadata": {},
   "outputs": [],
   "source": [
    "import pygame\n",
    "\n",
    "pygame.init()\n",
    "window = pygame.display.set_mode((500,400))\n",
    "\n",
    "while True:\n",
    "    #Filled\n",
    "    pygame.draw.circle(window,(255,255,0), \n",
    "                              (200, 200), 20, 0)\n",
    "    #Not filled\n",
    "    pygame.draw.circle(window,(255,255,0), \n",
    "                              (300, 200), 20, 2)\n",
    "    pygame.display.update()"
   ]
  },
  {
   "cell_type": "code",
   "execution_count": null,
   "metadata": {},
   "outputs": [],
   "source": [
    "import pygame\n",
    "\n",
    "pygame.init()\n",
    "window = pygame.display.set_mode((500,400))\n",
    "\n",
    "while True:\n",
    "    pygame.draw.ellipse(window, (255, 0, 0), \n",
    "                                (100, 100, 100, 50))\n",
    "    pygame.draw.ellipse(window, (0, 255, 0), \n",
    "                                (100, 150, 80, 40))\n",
    "    pygame.draw.ellipse(window, (0, 0, 255), \n",
    "                                (100, 190, 60, 30))\n",
    "    pygame.display.update()"
   ]
  },
  {
   "cell_type": "code",
   "execution_count": null,
   "metadata": {},
   "outputs": [],
   "source": [
    "import pygame\n",
    "\n",
    "pygame.init()\n",
    "window = pygame.display.set_mode((500,400))\n",
    "\n",
    "while True:\n",
    "    pygame.draw.rect(window, (255, 0, 0), \n",
    "                             (100, 100, 100, 50), 2)\n",
    "    pygame.draw.ellipse(window, (255, 0, 0), \n",
    "                                (100, 100, 100, 50))\n",
    "    pygame.draw.rect(window, (0, 255, 0), \n",
    "                             (100, 150, 80, 40), 2)\n",
    "    pygame.draw.ellipse(window, (0, 255, 0), \n",
    "                                (100, 150, 80, 40))\n",
    "    pygame.draw.rect(window, (0, 0, 255), \n",
    "                             (100, 190, 60, 30), 2)\n",
    "    pygame.draw.ellipse(window, (0, 0, 255), \n",
    "                                (100, 190, 60, 30))\n",
    "    #Circle\n",
    "    pygame.draw.ellipse(window, (0, 0, 255), \n",
    "                                (100, 250, 40, 40))\n",
    "    pygame.display.update()"
   ]
  },
  {
   "cell_type": "code",
   "execution_count": null,
   "metadata": {},
   "outputs": [],
   "source": [
    "import pygame \n",
    "\n",
    "pygame.init()\n",
    "window = pygame.display.set_mode((500, 400))\n",
    "\n",
    "while True:\n",
    "    pygame.display.update()"
   ]
  },
  {
   "cell_type": "code",
   "execution_count": null,
   "metadata": {},
   "outputs": [],
   "source": [
    "import pygame \n",
    "\n",
    "pygame.init()\n",
    "window = pygame.display.set_mode((500, 400))\n",
    "\n",
    "while True:\n",
    "    pygame.draw.line(window, (255,255,255), \n",
    "                             (0, 0), (500, 400), 1)\n",
    "    pygame.display.update()"
   ]
  },
  {
   "cell_type": "code",
   "execution_count": null,
   "metadata": {},
   "outputs": [],
   "source": []
  }
 ],
 "metadata": {
  "kernelspec": {
   "display_name": "Python 3 (ipykernel)",
   "language": "python",
   "name": "python3"
  },
  "language_info": {
   "codemirror_mode": {
    "name": "ipython",
    "version": 3
   },
   "file_extension": ".py",
   "mimetype": "text/x-python",
   "name": "python",
   "nbconvert_exporter": "python",
   "pygments_lexer": "ipython3",
   "version": "3.9.12"
  }
 },
 "nbformat": 4,
 "nbformat_minor": 4
}

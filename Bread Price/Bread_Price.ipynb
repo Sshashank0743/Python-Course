{
 "cells": [
  {
   "cell_type": "markdown",
   "metadata": {},
   "source": [
    "#### A bakery sells loaves of bread for 3.49 dollars each. Day old bread is discounted by 60 percent. Write a program that begins by reading the number of loaves of day old bread being purchased from the user. Then your program should display the regular price for the bread, the discount because it is a day old, and the total price. All of the values should be displayed using two decimal places, and the decimal points in all of the numbers should be aligned when reasonable values are entered by the user.\n"
   ]
  },
  {
   "cell_type": "code",
   "execution_count": 3,
   "metadata": {},
   "outputs": [
    {
     "name": "stdout",
     "output_type": "stream",
     "text": [
      "Enter the number of day old loaves: 3\n",
      "Regular price: 10.47\n",
      "DIscount:       6.28\n",
      "Total:          4.19\n"
     ]
    }
   ],
   "source": [
    "# Compute the price of a day old bread order\n",
    "BREAD_PRICE = 3.49\n",
    "DISCOUNT_RATE = 0.60\n",
    "\n",
    "# Read the number of loaves from the user\n",
    "num_loaves = int(input(\"Enter the number of day old loaves: \"))\n",
    "\n",
    "regular_price = num_loaves * BREAD_PRICE\n",
    "discount = regular_price * DISCOUNT_RATE\n",
    "total = regular_price - discount\n",
    "\n",
    "# Display the result\n",
    "print(\"Regular price: %5.2f\" % regular_price)\n",
    "print(\"DIscount:      %5.2f\" % discount)\n",
    "print(\"Total:         %5.2f\" % total)"
   ]
  },
  {
   "cell_type": "code",
   "execution_count": null,
   "metadata": {},
   "outputs": [],
   "source": []
  }
 ],
 "metadata": {
  "kernelspec": {
   "display_name": "Python 3",
   "language": "python",
   "name": "python3"
  },
  "language_info": {
   "codemirror_mode": {
    "name": "ipython",
    "version": 3
   },
   "file_extension": ".py",
   "mimetype": "text/x-python",
   "name": "python",
   "nbconvert_exporter": "python",
   "pygments_lexer": "ipython3",
   "version": "3.5.5"
  }
 },
 "nbformat": 4,
 "nbformat_minor": 2
}

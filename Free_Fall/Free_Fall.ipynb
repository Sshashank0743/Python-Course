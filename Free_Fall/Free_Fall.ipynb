{
 "cells": [
  {
   "cell_type": "markdown",
   "metadata": {},
   "source": [
    "## Create a program that determines how quickly an object is traveling when it hits the ground. The user will enter the height from which the object is dropped in meters (m). Because the object is dropped its initial speed is 0 m/s. Assume that the acceleration due to gravity is 9.8 m/s^2\n",
    ". You can use the formula vf =\n",
    "\u0002\n",
    "v\n",
    "2\n",
    "i + 2ad to compute the\n",
    "final speed, vf\n",
    ", when the initial speed, vi\n",
    ", acceleration, a, and distance, d, are known.\n"
   ]
  },
  {
   "cell_type": "code",
   "execution_count": 1,
   "metadata": {},
   "outputs": [],
   "source": [
    "from math import sqrt"
   ]
  },
  {
   "cell_type": "code",
   "execution_count": 2,
   "metadata": {},
   "outputs": [
    {
     "name": "stdout",
     "output_type": "stream",
     "text": [
      "Height from which the object is dropped (in meters): 15\n",
      "It will hit the ground at 17.15 m/s.\n"
     ]
    }
   ],
   "source": [
    "GRAVITY = 9.8\n",
    "\n",
    "# Read the height from which the object is dropped\n",
    "d = float(input(\"Height from which the object is dropped (in meters): \"))\n",
    "\n",
    "vf = sqrt(2 * GRAVITY * d)\n",
    "\n",
    "# Display the result\n",
    "print(\"It will hit the ground at %.2f m/s.\" % vf)"
   ]
  },
  {
   "cell_type": "code",
   "execution_count": null,
   "metadata": {},
   "outputs": [],
   "source": []
  }
 ],
 "metadata": {
  "kernelspec": {
   "display_name": "Python 3",
   "language": "python",
   "name": "python3"
  },
  "language_info": {
   "codemirror_mode": {
    "name": "ipython",
    "version": 3
   },
   "file_extension": ".py",
   "mimetype": "text/x-python",
   "name": "python",
   "nbconvert_exporter": "python",
   "pygments_lexer": "ipython3",
   "version": "3.5.5"
  }
 },
 "nbformat": 4,
 "nbformat_minor": 2
}

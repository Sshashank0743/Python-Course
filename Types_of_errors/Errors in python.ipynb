{
 "cells": [
  {
   "cell_type": "code",
   "execution_count": 1,
   "id": "85ea3577",
   "metadata": {},
   "outputs": [
    {
     "name": "stdout",
     "output_type": "stream",
     "text": [
      "Hello, Python!\n"
     ]
    }
   ],
   "source": [
    "# Sample Solution\n",
    "\n",
    "print(\"Hello, Python!\")"
   ]
  },
  {
   "cell_type": "code",
   "execution_count": 2,
   "id": "834d6c65",
   "metadata": {},
   "outputs": [
    {
     "name": "stdout",
     "output_type": "stream",
     "text": [
      "Greg\n"
     ]
    }
   ],
   "source": [
    "print(\"Greg\")"
   ]
  },
  {
   "cell_type": "code",
   "execution_count": 3,
   "id": "89cc251f",
   "metadata": {},
   "outputs": [
    {
     "ename": "NameError",
     "evalue": "name 'Greg' is not defined",
     "output_type": "error",
     "traceback": [
      "\u001b[1;31m---------------------------------------------------------------------------\u001b[0m",
      "\u001b[1;31mNameError\u001b[0m                                 Traceback (most recent call last)",
      "Input \u001b[1;32mIn [3]\u001b[0m, in \u001b[0;36m<cell line: 1>\u001b[1;34m()\u001b[0m\n\u001b[1;32m----> 1\u001b[0m \u001b[38;5;28mprint\u001b[39m(\u001b[43mGreg\u001b[49m)\n",
      "\u001b[1;31mNameError\u001b[0m: name 'Greg' is not defined"
     ]
    }
   ],
   "source": [
    "print(Greg)"
   ]
  },
  {
   "cell_type": "code",
   "execution_count": 4,
   "id": "4e41c5c9",
   "metadata": {},
   "outputs": [
    {
     "ename": "SyntaxError",
     "evalue": "invalid syntax (2088319893.py, line 1)",
     "output_type": "error",
     "traceback": [
      "\u001b[1;36m  Input \u001b[1;32mIn [4]\u001b[1;36m\u001b[0m\n\u001b[1;33m    print\"Greg\"\u001b[0m\n\u001b[1;37m         ^\u001b[0m\n\u001b[1;31mSyntaxError\u001b[0m\u001b[1;31m:\u001b[0m invalid syntax\n"
     ]
    }
   ],
   "source": [
    "print\"Greg\""
   ]
  },
  {
   "cell_type": "code",
   "execution_count": 5,
   "id": "d6542595",
   "metadata": {},
   "outputs": [
    {
     "name": "stdout",
     "output_type": "stream",
     "text": [
      "Greg\n"
     ]
    }
   ],
   "source": [
    "print('Greg')"
   ]
  },
  {
   "cell_type": "code",
   "execution_count": 6,
   "id": "92856eac",
   "metadata": {},
   "outputs": [
    {
     "ename": "SyntaxError",
     "evalue": "invalid syntax (886435955.py, line 1)",
     "output_type": "error",
     "traceback": [
      "\u001b[1;36m  Input \u001b[1;32mIn [6]\u001b[1;36m\u001b[0m\n\u001b[1;33m    print(\"Greg\") print(\"Python\")\u001b[0m\n\u001b[1;37m                  ^\u001b[0m\n\u001b[1;31mSyntaxError\u001b[0m\u001b[1;31m:\u001b[0m invalid syntax\n"
     ]
    }
   ],
   "source": [
    "print(\"Greg\") print(\"Python\")"
   ]
  },
  {
   "cell_type": "code",
   "execution_count": null,
   "id": "600b538f",
   "metadata": {},
   "outputs": [],
   "source": []
  }
 ],
 "metadata": {
  "kernelspec": {
   "display_name": "Python 3 (ipykernel)",
   "language": "python",
   "name": "python3"
  },
  "language_info": {
   "codemirror_mode": {
    "name": "ipython",
    "version": 3
   },
   "file_extension": ".py",
   "mimetype": "text/x-python",
   "name": "python",
   "nbconvert_exporter": "python",
   "pygments_lexer": "ipython3",
   "version": "3.9.12"
  }
 },
 "nbformat": 4,
 "nbformat_minor": 5
}

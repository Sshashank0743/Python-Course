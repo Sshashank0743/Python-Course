{
 "cells": [
  {
   "cell_type": "markdown",
   "id": "4f3c3804",
   "metadata": {},
   "source": [
    "## List:\n",
    "    append\n",
    "    insert\n",
    "    extend\n",
    "    pop"
   ]
  },
  {
   "cell_type": "code",
   "execution_count": 3,
   "id": "21bb9bdf",
   "metadata": {},
   "outputs": [
    {
     "data": {
      "text/plain": [
       "list"
      ]
     },
     "execution_count": 3,
     "metadata": {},
     "output_type": "execute_result"
    }
   ],
   "source": [
    "type([])"
   ]
  },
  {
   "cell_type": "code",
   "execution_count": 5,
   "id": "946b2d8f",
   "metadata": {},
   "outputs": [
    {
     "name": "stdout",
     "output_type": "stream",
     "text": [
      "<class 'list'>\n",
      "6\n",
      "['BAC', 'Cat', 1, 2, 3, 'Bat']\n"
     ]
    }
   ],
   "source": [
    "lst = ['BAC','Cat',1,2,3,'Bat']\n",
    "print(type(lst))\n",
    "print(len(lst))\n",
    "print(lst)"
   ]
  },
  {
   "cell_type": "code",
   "execution_count": 7,
   "id": "158e30ac",
   "metadata": {},
   "outputs": [
    {
     "data": {
      "text/plain": [
       "['BAC', 'Cat', 1, 2, 3, 'Bat', 'mat', 'mat']"
      ]
     },
     "execution_count": 7,
     "metadata": {},
     "output_type": "execute_result"
    }
   ],
   "source": [
    "lst.append('mat')\n",
    "lst"
   ]
  },
  {
   "cell_type": "code",
   "execution_count": 8,
   "id": "0be5ea13",
   "metadata": {},
   "outputs": [
    {
     "data": {
      "text/plain": [
       "2"
      ]
     },
     "execution_count": 8,
     "metadata": {},
     "output_type": "execute_result"
    }
   ],
   "source": [
    "lst.pop(3)"
   ]
  },
  {
   "cell_type": "code",
   "execution_count": 9,
   "id": "1470836d",
   "metadata": {},
   "outputs": [
    {
     "data": {
      "text/plain": [
       "'mat'"
      ]
     },
     "execution_count": 9,
     "metadata": {},
     "output_type": "execute_result"
    }
   ],
   "source": [
    "lst.pop()"
   ]
  },
  {
   "cell_type": "code",
   "execution_count": 10,
   "id": "64018190",
   "metadata": {},
   "outputs": [
    {
     "data": {
      "text/plain": [
       "['BAC', 'Cat', 1, 3, 'Bat', 'mat', 'rat']"
      ]
     },
     "execution_count": 10,
     "metadata": {},
     "output_type": "execute_result"
    }
   ],
   "source": [
    "lst.append('rat')\n",
    "lst"
   ]
  },
  {
   "cell_type": "code",
   "execution_count": 12,
   "id": "a2deae2d",
   "metadata": {},
   "outputs": [
    {
     "data": {
      "text/plain": [
       "['BAC', 'Cat', 1, 3, 'Bat', 'mat', 'rat', ['Anam', 'Sam']]"
      ]
     },
     "execution_count": 12,
     "metadata": {},
     "output_type": "execute_result"
    }
   ],
   "source": [
    "lst.append([\"Anam\",\"Sam\"])\n",
    "lst"
   ]
  },
  {
   "cell_type": "code",
   "execution_count": 13,
   "id": "29e445e6",
   "metadata": {},
   "outputs": [
    {
     "data": {
      "text/plain": [
       "['BAC', 'Cat', 1, 'Kart', 3, 'Bat', 'mat', 'rat', ['Anam', 'Sam']]"
      ]
     },
     "execution_count": 13,
     "metadata": {},
     "output_type": "execute_result"
    }
   ],
   "source": [
    "lst.insert(3,\"Kart\")\n",
    "lst"
   ]
  },
  {
   "cell_type": "code",
   "execution_count": 14,
   "id": "6443daad",
   "metadata": {},
   "outputs": [
    {
     "data": {
      "text/plain": [
       "['BAC',\n",
       " 'Cat',\n",
       " 1,\n",
       " 'Kart',\n",
       " 3,\n",
       " 'Bat',\n",
       " 'mat',\n",
       " 'rat',\n",
       " ['Anam', 'Sam'],\n",
       " 'jack',\n",
       " 'sant']"
      ]
     },
     "execution_count": 14,
     "metadata": {},
     "output_type": "execute_result"
    }
   ],
   "source": [
    "lst.extend([\"jack\",\"sant\"])\n",
    "lst"
   ]
  },
  {
   "cell_type": "code",
   "execution_count": 15,
   "id": "455bffa9",
   "metadata": {},
   "outputs": [
    {
     "data": {
      "text/plain": [
       "1"
      ]
     },
     "execution_count": 15,
     "metadata": {},
     "output_type": "execute_result"
    }
   ],
   "source": [
    "lst.count(3)"
   ]
  },
  {
   "cell_type": "code",
   "execution_count": 17,
   "id": "730c2aea",
   "metadata": {},
   "outputs": [
    {
     "data": {
      "text/plain": [
       "1"
      ]
     },
     "execution_count": 17,
     "metadata": {},
     "output_type": "execute_result"
    }
   ],
   "source": [
    "lst.count('Cat')"
   ]
  },
  {
   "cell_type": "code",
   "execution_count": 20,
   "id": "99cacafc",
   "metadata": {},
   "outputs": [
    {
     "data": {
      "text/plain": [
       "['BAC',\n",
       " 'Cat',\n",
       " 1,\n",
       " 'Kart',\n",
       " 3,\n",
       " 'Bat',\n",
       " 'mat',\n",
       " 'rat',\n",
       " ['Anam', 'Sam'],\n",
       " 'jack',\n",
       " 'sant']"
      ]
     },
     "execution_count": 20,
     "metadata": {},
     "output_type": "execute_result"
    }
   ],
   "source": [
    "lst"
   ]
  },
  {
   "cell_type": "code",
   "execution_count": 25,
   "id": "5e37f23f",
   "metadata": {},
   "outputs": [
    {
     "data": {
      "text/plain": [
       "2"
      ]
     },
     "execution_count": 25,
     "metadata": {},
     "output_type": "execute_result"
    }
   ],
   "source": [
    "lst.index(1,0,3)"
   ]
  },
  {
   "cell_type": "code",
   "execution_count": null,
   "id": "2d805ef9",
   "metadata": {},
   "outputs": [],
   "source": []
  }
 ],
 "metadata": {
  "kernelspec": {
   "display_name": "Python 3 (ipykernel)",
   "language": "python",
   "name": "python3"
  },
  "language_info": {
   "codemirror_mode": {
    "name": "ipython",
    "version": 3
   },
   "file_extension": ".py",
   "mimetype": "text/x-python",
   "name": "python",
   "nbconvert_exporter": "python",
   "pygments_lexer": "ipython3",
   "version": "3.9.12"
  }
 },
 "nbformat": 4,
 "nbformat_minor": 5
}

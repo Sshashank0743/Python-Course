{
 "cells": [
  {
   "cell_type": "code",
   "execution_count": 1,
   "id": "7b026b56",
   "metadata": {},
   "outputs": [],
   "source": [
    "lst1 = []\n",
    "\n",
    "def lst_square(lst):\n",
    "    for i in lst:\n",
    "        lst1.append(i*i)\n",
    "    return lst1"
   ]
  },
  {
   "cell_type": "code",
   "execution_count": 3,
   "id": "f09be2e4",
   "metadata": {},
   "outputs": [
    {
     "data": {
      "text/plain": [
       "[1, 4, 25, 9, 16]"
      ]
     },
     "execution_count": 3,
     "metadata": {},
     "output_type": "execute_result"
    }
   ],
   "source": [
    "lst_square([1,2,5,3,4])"
   ]
  },
  {
   "cell_type": "code",
   "execution_count": 6,
   "id": "9f78c827",
   "metadata": {},
   "outputs": [],
   "source": [
    "lst = [1,2,5,6,4,7,8,9]"
   ]
  },
  {
   "cell_type": "code",
   "execution_count": 7,
   "id": "a8c2a624",
   "metadata": {},
   "outputs": [
    {
     "data": {
      "text/plain": [
       "[1, 4, 25, 36, 16, 49, 64, 81]"
      ]
     },
     "execution_count": 7,
     "metadata": {},
     "output_type": "execute_result"
    }
   ],
   "source": [
    "[i*i for i in lst]"
   ]
  },
  {
   "cell_type": "code",
   "execution_count": 9,
   "id": "1e56cf22",
   "metadata": {},
   "outputs": [
    {
     "data": {
      "text/plain": [
       "[1, 25, 49, 81]"
      ]
     },
     "execution_count": 9,
     "metadata": {},
     "output_type": "execute_result"
    }
   ],
   "source": [
    "[i*i for i in lst if i%2!=0]"
   ]
  },
  {
   "cell_type": "code",
   "execution_count": 10,
   "id": "b048409d",
   "metadata": {},
   "outputs": [
    {
     "data": {
      "text/plain": [
       "[4, 36, 16, 64]"
      ]
     },
     "execution_count": 10,
     "metadata": {},
     "output_type": "execute_result"
    }
   ],
   "source": [
    "[i*i for i in lst if i%2==0]"
   ]
  },
  {
   "cell_type": "markdown",
   "id": "34c7fd19",
   "metadata": {},
   "source": [
    "## List iterables vs iterators"
   ]
  },
  {
   "cell_type": "code",
   "execution_count": 15,
   "id": "60dfacb7",
   "metadata": {},
   "outputs": [
    {
     "name": "stdout",
     "output_type": "stream",
     "text": [
      "1\n",
      "2\n",
      "5\n",
      "4\n",
      "7\n",
      "8\n"
     ]
    }
   ],
   "source": [
    "lst = [1,2,5,4,7,8]\n",
    "\n",
    "for i in lst:\n",
    "    print(i)"
   ]
  },
  {
   "cell_type": "code",
   "execution_count": 16,
   "id": "b8eee2af",
   "metadata": {},
   "outputs": [
    {
     "name": "stdout",
     "output_type": "stream",
     "text": [
      "0\n",
      "1\n",
      "2\n",
      "3\n",
      "4\n",
      "5\n",
      "6\n",
      "7\n",
      "8\n",
      "9\n",
      "10\n",
      "11\n"
     ]
    }
   ],
   "source": [
    "for i in range(0,12):\n",
    "    print(i)"
   ]
  },
  {
   "cell_type": "code",
   "execution_count": 17,
   "id": "3cf233b5",
   "metadata": {},
   "outputs": [
    {
     "data": {
      "text/plain": [
       "<list_iterator at 0x2a5e4040070>"
      ]
     },
     "execution_count": 17,
     "metadata": {},
     "output_type": "execute_result"
    }
   ],
   "source": [
    "iter(lst)"
   ]
  },
  {
   "cell_type": "code",
   "execution_count": 18,
   "id": "4ade8fde",
   "metadata": {},
   "outputs": [],
   "source": [
    "lst1 = iter(lst)"
   ]
  },
  {
   "cell_type": "code",
   "execution_count": 19,
   "id": "5c84b1b2",
   "metadata": {},
   "outputs": [
    {
     "name": "stdout",
     "output_type": "stream",
     "text": [
      "<list_iterator object at 0x000002A5E40452B0>\n"
     ]
    }
   ],
   "source": [
    "print(lst1)"
   ]
  },
  {
   "cell_type": "code",
   "execution_count": 21,
   "id": "91a24b25",
   "metadata": {},
   "outputs": [
    {
     "data": {
      "text/plain": [
       "2"
      ]
     },
     "execution_count": 21,
     "metadata": {},
     "output_type": "execute_result"
    }
   ],
   "source": [
    "next(lst1)"
   ]
  },
  {
   "cell_type": "code",
   "execution_count": null,
   "id": "fb5f3bc8",
   "metadata": {},
   "outputs": [],
   "source": []
  }
 ],
 "metadata": {
  "kernelspec": {
   "display_name": "Python 3 (ipykernel)",
   "language": "python",
   "name": "python3"
  },
  "language_info": {
   "codemirror_mode": {
    "name": "ipython",
    "version": 3
   },
   "file_extension": ".py",
   "mimetype": "text/x-python",
   "name": "python",
   "nbconvert_exporter": "python",
   "pygments_lexer": "ipython3",
   "version": "3.9.12"
  }
 },
 "nbformat": 4,
 "nbformat_minor": 5
}

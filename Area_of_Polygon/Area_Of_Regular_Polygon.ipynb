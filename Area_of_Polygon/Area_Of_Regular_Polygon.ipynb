{
 "cells": [
  {
   "attachments": {
    "image.png": {
     "image/png": "[encoded data removed]"
    }
   },
   "cell_type": "markdown",
   "metadata": {},
   "source": [
    "### A polygon is regular if its sides are all the same length and the angles between all of the adjacent sides are equal. The area of a regular polygon can be computed using the following formula, where s is the length of a side and n is the number of sides:\n",
    "\n",
    "\n",
    "![image.png](attachment:image.png)\n",
    "\n",
    "Write a program that reads s and n from the user and then displays the area of a\n",
    "regular polygon constructed from these values."
   ]
  },
  {
   "cell_type": "code",
   "execution_count": 1,
   "metadata": {},
   "outputs": [
    {
     "name": "stdout",
     "output_type": "stream",
     "text": [
      "Enter the length of each side of the polygon: 25\n",
      "Enter the number of sides: 12\n",
      "The area of regular polygon:  6997.595264191646\n"
     ]
    }
   ],
   "source": [
    "# Compute the area of a regular polygon\n",
    "from math import tan, pi\n",
    "\n",
    "# Read input from the user\n",
    "s = float(input(\"Enter the length of each side of the polygon: \"))\n",
    "n = int(input(\"Enter the number of sides: \"))\n",
    "\n",
    "# Compute the area of the polygon\n",
    "area = (n * s * s)/(4 * tan(pi / n))\n",
    "\n",
    "print(\"The area of regular polygon: \", area)"
   ]
  },
  {
   "cell_type": "code",
   "execution_count": null,
   "metadata": {},
   "outputs": [],
   "source": []
  }
 ],
 "metadata": {
  "kernelspec": {
   "display_name": "Python 3",
   "language": "python",
   "name": "python3"
  },
  "language_info": {
   "codemirror_mode": {
    "name": "ipython",
    "version": 3
   },
   "file_extension": ".py",
   "mimetype": "text/x-python",
   "name": "python",
   "nbconvert_exporter": "python",
   "pygments_lexer": "ipython3",
   "version": "3.5.5"
  }
 },
 "nbformat": 4,
 "nbformat_minor": 2
}

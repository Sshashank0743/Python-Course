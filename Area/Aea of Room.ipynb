{
 "cells": [
  {
   "cell_type": "markdown",
   "metadata": {},
   "source": [
    "## Write a program that asks the user to enter the width and length of a room. Once the values have been read, your program should compute and display the area of the room. The length and the width will be entered as floating point numbers. Include units in your prompt and output message; either feet or meters, depending on which unit you are more comfortable working with."
   ]
  },
  {
   "cell_type": "code",
   "execution_count": 1,
   "metadata": {},
   "outputs": [
    {
     "name": "stdout",
     "output_type": "stream",
     "text": [
      "Enter the leangth of the room in feet: 25\n",
      "Enter the width of the room in feet: 20\n",
      "The area of the room is 500.0 square feet\n"
     ]
    }
   ],
   "source": [
    "# Read the input values from the user\n",
    "length = float(input(\"Enter the leangth of the room in feet: \"))\n",
    "width = float(input(\"Enter the width of the room in feet: \"))\n",
    "\n",
    "# Compute the area of the room by using formulae\n",
    "area = length * width\n",
    "\n",
    "# Display the area of the room\n",
    "print(\"The area of the room is\", area, \"square feet\")"
   ]
  }
 ],
 "metadata": {
  "kernelspec": {
   "display_name": "Python 3",
   "language": "python",
   "name": "python3"
  },
  "language_info": {
   "codemirror_mode": {
    "name": "ipython",
    "version": 3
   },
   "file_extension": ".py",
   "mimetype": "text/x-python",
   "name": "python",
   "nbconvert_exporter": "python",
   "pygments_lexer": "ipython3",
   "version": "3.5.5"
  }
 },
 "nbformat": 4,
 "nbformat_minor": 2
}

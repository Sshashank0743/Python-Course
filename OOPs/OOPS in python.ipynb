{
 "cells": [
  {
   "cell_type": "code",
   "execution_count": 8,
   "id": "e0bc6914",
   "metadata": {},
   "outputs": [],
   "source": [
    "class Career:\n",
    "    def __init__(self, opportunity, profile, domain):\n",
    "        self.opportunities = opportunity\n",
    "        self.profiles = profile\n",
    "        self.domain = domain"
   ]
  },
  {
   "cell_type": "code",
   "execution_count": 9,
   "id": "f495451f",
   "metadata": {},
   "outputs": [
    {
     "data": {
      "text/plain": [
       "['__class__',\n",
       " '__delattr__',\n",
       " '__dict__',\n",
       " '__dir__',\n",
       " '__doc__',\n",
       " '__eq__',\n",
       " '__format__',\n",
       " '__ge__',\n",
       " '__getattribute__',\n",
       " '__gt__',\n",
       " '__hash__',\n",
       " '__init__',\n",
       " '__init_subclass__',\n",
       " '__le__',\n",
       " '__lt__',\n",
       " '__module__',\n",
       " '__ne__',\n",
       " '__new__',\n",
       " '__reduce__',\n",
       " '__reduce_ex__',\n",
       " '__repr__',\n",
       " '__setattr__',\n",
       " '__sizeof__',\n",
       " '__str__',\n",
       " '__subclasshook__',\n",
       " '__weakref__',\n",
       " 'opportunities',\n",
       " 'profiles',\n",
       " 'windows']"
      ]
     },
     "execution_count": 9,
     "metadata": {},
     "output_type": "execute_result"
    }
   ],
   "source": [
    "dir(career1)"
   ]
  },
  {
   "cell_type": "code",
   "execution_count": 14,
   "id": "8167513c",
   "metadata": {},
   "outputs": [],
   "source": [
    "career1.opportunities = 4\n",
    "career1.profiles = 3"
   ]
  },
  {
   "cell_type": "code",
   "execution_count": 15,
   "id": "4335d8fd",
   "metadata": {},
   "outputs": [
    {
     "name": "stdout",
     "output_type": "stream",
     "text": [
      "4\n"
     ]
    }
   ],
   "source": [
    "print(career1.opportunities)"
   ]
  },
  {
   "cell_type": "code",
   "execution_count": 21,
   "id": "e99d5870",
   "metadata": {},
   "outputs": [
    {
     "name": "stdout",
     "output_type": "stream",
     "text": [
      "5\n"
     ]
    }
   ],
   "source": [
    "career1 = Career(4,5,'IT')\n",
    "print(career1.profiles)"
   ]
  },
  {
   "cell_type": "markdown",
   "id": "66ed50d0",
   "metadata": {},
   "source": [
    "## try and except rule"
   ]
  },
  {
   "cell_type": "code",
   "execution_count": 23,
   "id": "db5e8dd9",
   "metadata": {},
   "outputs": [
    {
     "name": "stdout",
     "output_type": "stream",
     "text": [
      "Some problem may have occured\n"
     ]
    }
   ],
   "source": [
    "try:\n",
    "    ## code block where exception may occur\n",
    "    a=b\n",
    "except:\n",
    "    print(\"Some problem may have occured\")"
   ]
  },
  {
   "cell_type": "code",
   "execution_count": 30,
   "id": "2722c188",
   "metadata": {},
   "outputs": [
    {
     "name": "stdout",
     "output_type": "stream",
     "text": [
      "Try to make the datatype similar\n"
     ]
    }
   ],
   "source": [
    "try:\n",
    "    ##code block where exception may occur\n",
    "    a=1\n",
    "    b='s'\n",
    "    c=a+b\n",
    "except NameError as ex:\n",
    "    print(\"The user have not defined the variable\")\n",
    "except TypeError as ex1:\n",
    "    print(\"Try to make the datatype similar\")\n",
    "except:\n",
    "    print(\"Some problem may have occured\")"
   ]
  },
  {
   "cell_type": "code",
   "execution_count": 31,
   "id": "8c3e868a",
   "metadata": {},
   "outputs": [
    {
     "name": "stdout",
     "output_type": "stream",
     "text": [
      "1\n"
     ]
    }
   ],
   "source": [
    "try:\n",
    "    ##code block where exception may occur\n",
    "    a=1\n",
    "    print(a)\n",
    "except NameError as ex:\n",
    "    print(\"The user have not defined the variable\")\n",
    "except TypeError as ex1:\n",
    "    print(\"Try to make the datatype similar\")\n",
    "except:\n",
    "    print(\"Some problem may have occured\")"
   ]
  },
  {
   "cell_type": "code",
   "execution_count": 38,
   "id": "ba860463",
   "metadata": {},
   "outputs": [
    {
     "name": "stdout",
     "output_type": "stream",
     "text": [
      "Enter the number 1 12\n",
      "Enter the number 2 2\n",
      "14\n",
      "6.0\n",
      "24\n"
     ]
    }
   ],
   "source": [
    "try:\n",
    "    ##code block where exception may occur\n",
    "    a=int(input(\"Enter the number 1 \"))\n",
    "    b=int(input(\"Enter the number 2 \"))\n",
    "    c=a+b\n",
    "    d=a/b\n",
    "    e=a*b\n",
    "    print(c)\n",
    "    print(d)\n",
    "    print(e)\n",
    "except NameError as ex:\n",
    "    print(\"The user have not defined the variable\")\n",
    "except ZeroDivisionError:\n",
    "    print(\"Please provide the number greater than zero\")\n",
    "except TypeError as ex1:\n",
    "    print(\"Try to make the datatype similar\")\n",
    "except Exception as ex2:\n",
    "    print(ex2)"
   ]
  },
  {
   "cell_type": "code",
   "execution_count": 40,
   "id": "5d5f2f33",
   "metadata": {},
   "outputs": [
    {
     "name": "stdout",
     "output_type": "stream",
     "text": [
      "Enter the number 1 12\n",
      "Enter the number 2 3\n",
      "15\n",
      "4.0\n",
      "36\n"
     ]
    }
   ],
   "source": [
    "##try and else rule\n",
    "try:\n",
    "    ##code block where exception may occur\n",
    "    a=int(input(\"Enter the number 1 \"))\n",
    "    b=int(input(\"Enter the number 2 \"))\n",
    "    c=a+b\n",
    "    d=a/b\n",
    "    e=a*b\n",
    "except NameError as ex:\n",
    "    print(\"The user have not defined the variable\")\n",
    "except ZeroDivisionError:\n",
    "    print(\"Please provide the number greater than zero\")\n",
    "except TypeError as ex1:\n",
    "    print(\"Try to make the datatype similar\")\n",
    "except Exception as ex2:\n",
    "    print(ex2)\n",
    "else:\n",
    "    print(c)\n",
    "    print(d)\n",
    "    print(e)"
   ]
  },
  {
   "cell_type": "code",
   "execution_count": 44,
   "id": "c084dc40",
   "metadata": {},
   "outputs": [
    {
     "name": "stdout",
     "output_type": "stream",
     "text": [
      "Enter the number 1 12\n",
      "Enter the number 2 0\n",
      "Please provide the number greater than zero\n",
      "The execution have done successfully\n"
     ]
    }
   ],
   "source": [
    "## try else finally\n",
    "\n",
    "try:\n",
    "    ##code block where exception may occur\n",
    "    a=int(input(\"Enter the number 1 \"))\n",
    "    b=int(input(\"Enter the number 2 \"))\n",
    "    c=a/b\n",
    "    \n",
    "except NameError as ex:\n",
    "    print(\"The user have not defined the variable\")\n",
    "except ZeroDivisionError:\n",
    "    print(\"Please provide the number greater than zero\")\n",
    "except TypeError as ex1:\n",
    "    print(\"Try to make the datatype similar\")\n",
    "except Exception as ex2:\n",
    "    print(ex2)\n",
    "else:\n",
    "    print(c)\n",
    "finally:\n",
    "    print(\"The execution have done successfully\")"
   ]
  },
  {
   "cell_type": "markdown",
   "id": "4513b700",
   "metadata": {},
   "source": [
    "## Custom Exception"
   ]
  },
  {
   "cell_type": "code",
   "execution_count": 45,
   "id": "08f15b9e",
   "metadata": {},
   "outputs": [],
   "source": [
    "class Error(Exception):\n",
    "    pass\n",
    "\n",
    "class dobException(Error):\n",
    "    pass"
   ]
  },
  {
   "cell_type": "code",
   "execution_count": 49,
   "id": "ba59760d",
   "metadata": {},
   "outputs": [
    {
     "name": "stdout",
     "output_type": "stream",
     "text": [
      "Enter the year of your Birth1996\n",
      "Your age is within the range. You can fill the application form\n"
     ]
    }
   ],
   "source": [
    "year = int(input(\"Enter the year of your Birth\"))\n",
    "age = 2021-year\n",
    "try:\n",
    "    if age<=30 and age>=20:\n",
    "        print(\"Your age is within the range. You can fill the application form\")\n",
    "    else:\n",
    "        raise dobException\n",
    "except dobException:\n",
    "    print(\"Your age is not within the range. You can not fill the form\")"
   ]
  },
  {
   "cell_type": "code",
   "execution_count": null,
   "id": "f248fe34",
   "metadata": {},
   "outputs": [],
   "source": []
  }
 ],
 "metadata": {
  "kernelspec": {
   "display_name": "Python 3 (ipykernel)",
   "language": "python",
   "name": "python3"
  },
  "language_info": {
   "codemirror_mode": {
    "name": "ipython",
    "version": 3
   },
   "file_extension": ".py",
   "mimetype": "text/x-python",
   "name": "python",
   "nbconvert_exporter": "python",
   "pygments_lexer": "ipython3",
   "version": "3.9.12"
  }
 },
 "nbformat": 4,
 "nbformat_minor": 5
}

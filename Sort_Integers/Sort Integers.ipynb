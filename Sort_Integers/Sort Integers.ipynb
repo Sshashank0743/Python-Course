{
 "cells": [
  {
   "cell_type": "markdown",
   "metadata": {},
   "source": [
    "## Create a program that reads three integers from the user and displays them in sorted order (from smallest to largest). Use the min and max functions to find the smallest and largest values. The middle value can be found by computing the sum of all three values, and then subtracting the minimum value and the maximum value."
   ]
  },
  {
   "cell_type": "code",
   "execution_count": 1,
   "metadata": {},
   "outputs": [
    {
     "name": "stdout",
     "output_type": "stream",
     "text": [
      "Enter the integer number: 6\n",
      "Enter the integer number: 3\n",
      "Enter the integer number: 4\n",
      "The numbers in sorted form are: \n",
      "  3\n",
      "  4\n",
      "  6\n"
     ]
    }
   ],
   "source": [
    "# Sort three integers entered by user in increasing order\n",
    "\n",
    "# Read the input from the user\n",
    "a = int(input(\"Enter the integer number: \"))\n",
    "b = int(input(\"Enter the integer number: \"))\n",
    "c = int(input(\"Enter the integer number: \"))\n",
    "\n",
    "# FInd the min, max and middle value\n",
    "mn = min(a,b,c)\n",
    "mx = max(a,b,c)\n",
    "md = a + b + c - mn - mx\n",
    "\n",
    "# Display the ouput\n",
    "print(\"The numbers in sorted form are: \")\n",
    "print(\" \", mn)\n",
    "print(\" \", md)\n",
    "print(\" \", mx)"
   ]
  }
 ],
 "metadata": {
  "kernelspec": {
   "display_name": "Python 3",
   "language": "python",
   "name": "python3"
  },
  "language_info": {
   "codemirror_mode": {
    "name": "ipython",
    "version": 3
   },
   "file_extension": ".py",
   "mimetype": "text/x-python",
   "name": "python",
   "nbconvert_exporter": "python",
   "pygments_lexer": "ipython3",
   "version": "3.5.5"
  }
 },
 "nbformat": 4,
 "nbformat_minor": 2
}

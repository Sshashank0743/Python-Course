{
 "cells": [
  {
   "cell_type": "markdown",
   "id": "7825495b",
   "metadata": {},
   "source": [
    "# Check if x and y are equal"
   ]
  },
  {
   "cell_type": "code",
   "execution_count": 1,
   "id": "e06a2f84",
   "metadata": {},
   "outputs": [
    {
     "name": "stdout",
     "output_type": "stream",
     "text": [
      "These numbers are the same\n"
     ]
    }
   ],
   "source": [
    "x = 3\n",
    "y = 3\n",
    "\n",
    "if x == y:\n",
    "    print(\"These numbers are the same\")"
   ]
  },
  {
   "cell_type": "markdown",
   "id": "165d3f00",
   "metadata": {},
   "source": [
    "## The nearby college, Calvin Coolidge’s Cool College (or 4C, as the locals call it) requires students to earn 120 credits to graduate."
   ]
  },
  {
   "cell_type": "code",
   "execution_count": 4,
   "id": "4ea4fd4c",
   "metadata": {},
   "outputs": [
    {
     "name": "stdout",
     "output_type": "stream",
     "text": [
      "You have enough credits, you can complete your graduation\n"
     ]
    }
   ],
   "source": [
    "credits = 120\n",
    "\n",
    "if credits >= 120:\n",
    "    print(\"You have enough credits, you can complete your graduation\")\n",
    "    \n",
    "else:\n",
    "    print(\"You have to borrow some crdits from someone else\")"
   ]
  },
  {
   "cell_type": "code",
   "execution_count": 5,
   "id": "3f9493e3",
   "metadata": {},
   "outputs": [
    {
     "name": "stdout",
     "output_type": "stream",
     "text": [
      "You meet the requirements to graduate!\n"
     ]
    }
   ],
   "source": [
    "statement_one = (2 + 2 + 2 >= 6) and (-1 * -1 < 0)\n",
    "\n",
    "statement_two = (4 * 2 <= 8) and (7 - 1 == 6)\n",
    "\n",
    "statement_one = False\n",
    "\n",
    "statement_two = True\n",
    "\n",
    "credits = 120\n",
    "gpa = 3.4\n",
    "\n",
    "if gpa >= 2.0 and credits >= 120:\n",
    "  print(\"You meet the requirements to graduate!\")"
   ]
  },
  {
   "cell_type": "code",
   "execution_count": null,
   "id": "a8d3e398",
   "metadata": {},
   "outputs": [],
   "source": []
  }
 ],
 "metadata": {
  "kernelspec": {
   "display_name": "Python 3 (ipykernel)",
   "language": "python",
   "name": "python3"
  },
  "language_info": {
   "codemirror_mode": {
    "name": "ipython",
    "version": 3
   },
   "file_extension": ".py",
   "mimetype": "text/x-python",
   "name": "python",
   "nbconvert_exporter": "python",
   "pygments_lexer": "ipython3",
   "version": "3.9.12"
  }
 },
 "nbformat": 4,
 "nbformat_minor": 5
}

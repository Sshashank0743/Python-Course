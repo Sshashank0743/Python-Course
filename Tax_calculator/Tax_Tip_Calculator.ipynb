{
 "cells": [
  {
   "attachments": {},
   "cell_type": "markdown",
   "metadata": {},
   "source": [
    "## The program that you create for this exercise will begin by reading the cost of a meal ordered at a restaurant from the user. Then your program will compute the tax and tip for the meal. Use your local tax rate when computing the amount of tax owing. Compute the tip as 18 percent of the meal amount (without the tax). The output from your program should include the tax amount, the tip amount, and the grand total for the meal including both the tax and the tip. Format the output so that all of the values are displayed using two decimal places.\n"
   ]
  },
  {
   "cell_type": "code",
   "execution_count": 2,
   "metadata": {},
   "outputs": [
    {
     "name": "stdout",
     "output_type": "stream",
     "text": [
      "Enter the cost of the meal:  60\n",
      "The tax is 3.00 and the tip is 10.80, making the total 73.80\n"
     ]
    }
   ],
   "source": [
    "# Compute the tax and ti for a restaurent meal\n",
    "\n",
    "Tax_Rate = 0.05                         # My local tax rate is 5%. In Python we represent 5% nd 18% as 0.05 and \n",
    "Tip_Rate = 0.18                         # 0.18 respectively\n",
    "\n",
    "cost = float(input(\"Enter the cost of the meal:  \"))\n",
    "\n",
    "tax = cost * Tax_Rate\n",
    "tip = cost * Tip_Rate\n",
    "total = cost + tax + tip\n",
    "\n",
    "print(\"The tax is %.2f and the tip is %.2f, making the total %.2f\" % \\\n",
    "      (tax, tip, total))"
   ]
  },
  {
   "cell_type": "markdown",
   "metadata": {},
   "source": [
    "The \\ at the end of the line is called the line continuation character."
   ]
  }
 ],
 "metadata": {
  "kernelspec": {
   "display_name": "Python 3",
   "language": "python",
   "name": "python3"
  },
  "language_info": {
   "codemirror_mode": {
    "name": "ipython",
    "version": 3
   },
   "file_extension": ".py",
   "mimetype": "text/x-python",
   "name": "python",
   "nbconvert_exporter": "python",
   "pygments_lexer": "ipython3",
   "version": "3.5.5"
  }
 },
 "nbformat": 4,
 "nbformat_minor": 2
}

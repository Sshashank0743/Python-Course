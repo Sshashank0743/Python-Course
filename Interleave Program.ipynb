{
 "cells": [
  {
   "cell_type": "code",
   "execution_count": 2,
   "metadata": {},
   "outputs": [
    {
     "name": "stdout",
     "output_type": "stream",
     "text": [
      "11 16 12 17 13 18 14 19 15 20 "
     ]
    }
   ],
   "source": [
    "# Python3 program to interleave the first\n",
    "# half of the queue with the second half\n",
    "from queue import Queue\n",
    "\n",
    "# Function to interleave the queue\n",
    "def interLeaveQueue(q):\n",
    "    # To check the even number of elements\n",
    "    if (q.qsize() % 2 != 0):\n",
    "        print(\"Input even number of integers.\")\n",
    "        \n",
    "    # Initialize an empty stack of int type\n",
    "    s = []\n",
    "    halfSize = int(q.qsize() / 2)\n",
    "    \n",
    "    # put first half elements into\n",
    "    # the stack queue:16 17 18 19 20,\n",
    "    # stack: 15(T) 14 13 12 11\n",
    "    \n",
    "    for i in range(halfSize):\n",
    "        s.append(q.queue[0])\n",
    "        q.get()\n",
    "        \n",
    "    # enqueue back the stack elements\n",
    "    # queue: 16 17 18 19 20 15 14 13 12 11\n",
    "    \n",
    "    while len(s) != 0:\n",
    "        q.put(s[-1])\n",
    "        s.pop()\n",
    "        \n",
    "    # dequeue the first half elements of\n",
    "    # queue and enqueue them back\n",
    "    # queue: 15 14 13 12 11 16 17 18 19 20\n",
    "    \n",
    "    for i in range(halfSize):\n",
    "        q.put(q.queue[0])\n",
    "        q.get()\n",
    "        \n",
    "    # Again put the first half elements into\n",
    "    # the stack queue: 16 17 18 19 20,\n",
    "    # stack: 11(T) 12 13 14 15\n",
    "    \n",
    "    for i in range(halfSize):\n",
    "        s.append(q.queue[0])\n",
    "        q.get()\n",
    "        \n",
    "    # interleave the elements of queue and stack\n",
    "    # queue: 11 16 12 17 13 18 14 19 15 20\n",
    "    \n",
    "    while len(s) != 0:\n",
    "        q.put(s[-1])\n",
    "        s.pop()\n",
    "        q.put(q.queue[0])\n",
    "        q.get()\n",
    "\n",
    "# Driver Code\n",
    "if __name__ == '__main__':\n",
    "    q = Queue()\n",
    "    q.put(11)\n",
    "    q.put(12)\n",
    "    q.put(13)\n",
    "    q.put(14)\n",
    "    q.put(15)\n",
    "    q.put(16)\n",
    "    q.put(17)\n",
    "    q.put(18)\n",
    "    q.put(19)\n",
    "    q.put(20)\n",
    "    interLeaveQueue(q)\n",
    "    length = q.qsize()\n",
    "    \n",
    "for i in range(length):\n",
    "    print(q.queue[0], end = \" \")\n",
    "    q.get()\n"
   ]
  },
  {
   "cell_type": "code",
   "execution_count": null,
   "metadata": {},
   "outputs": [],
   "source": []
  }
 ],
 "metadata": {
  "kernelspec": {
   "display_name": "Python 3",
   "language": "python",
   "name": "python3"
  },
  "language_info": {
   "codemirror_mode": {
    "name": "ipython",
    "version": 3
   },
   "file_extension": ".py",
   "mimetype": "text/x-python",
   "name": "python",
   "nbconvert_exporter": "python",
   "pygments_lexer": "ipython3",
   "version": "3.8.5"
  }
 },
 "nbformat": 4,
 "nbformat_minor": 4
}

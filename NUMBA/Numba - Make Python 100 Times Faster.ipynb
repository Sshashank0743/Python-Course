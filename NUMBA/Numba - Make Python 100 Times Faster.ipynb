{
 "cells": [
  {
   "cell_type": "markdown",
   "id": "b51fb528",
   "metadata": {},
   "source": [
    "## Quick Guide To Numba\n",
    "\n",
    "Numba is a Just-In-Time Compiler for Numerical Functions which translates Python functions to optimized machine code at runtime. Numba generates specialized code for different array data types and layouts to optimize performance. Special decorators can create universal functions that broadcast over NumPy arrays just like NumPy functions do.\n",
    "\n",
    "Numba is a compiler for Python array and numerical functions that gives you the power to speed up your applications with high-performance functions written directly in Python."
   ]
  },
  {
   "cell_type": "code",
   "execution_count": 1,
   "id": "18d9dfa4",
   "metadata": {},
   "outputs": [
    {
     "name": "stdout",
     "output_type": "stream",
     "text": [
      "Requirement already satisfied: numba in d:\\anaconda\\lib\\site-packages (0.55.1)\n",
      "Requirement already satisfied: setuptools in d:\\anaconda\\lib\\site-packages (from numba) (63.1.0)\n",
      "Collecting numpy<1.22,>=1.18\n",
      "  Downloading numpy-1.21.6-cp39-cp39-win_amd64.whl (14.0 MB)\n",
      "     ---------------------------------------- 14.0/14.0 MB 8.5 MB/s eta 0:00:00\n",
      "Requirement already satisfied: llvmlite<0.39,>=0.38.0rc1 in d:\\anaconda\\lib\\site-packages (from numba) (0.38.0)\n",
      "Installing collected packages: numpy\n",
      "\n",
      "[notice] A new release of pip available: 22.1.2 -> 22.2.1\n",
      "[notice] To update, run: python.exe -m pip install --upgrade pip\n",
      "Note: you may need to restart the kernel to use updated packages.\n"
     ]
    },
    {
     "name": "stderr",
     "output_type": "stream",
     "text": [
      "WARNING: Ignoring invalid distribution -umpy (d:\\anaconda\\lib\\site-packages)\n",
      "WARNING: Ignoring invalid distribution -umpy (d:\\anaconda\\lib\\site-packages)\n",
      "WARNING: Ignoring invalid distribution -umpy (d:\\anaconda\\lib\\site-packages)\n",
      "ERROR: Could not install packages due to an OSError: [WinError 5] Access is denied: 'D:\\\\Anaconda\\\\Lib\\\\site-packages\\\\numpy\\\\core\\\\_multiarray_tests.cp39-win_amd64.pyd'\n",
      "Consider using the `--user` option or check the permissions.\n",
      "\n",
      "WARNING: Ignoring invalid distribution -umpy (d:\\anaconda\\lib\\site-packages)\n",
      "WARNING: Ignoring invalid distribution -umpy (d:\\anaconda\\lib\\site-packages)\n",
      "WARNING: Ignoring invalid distribution -umpy (d:\\anaconda\\lib\\site-packages)\n"
     ]
    }
   ],
   "source": [
    "pip install numba"
   ]
  },
  {
   "cell_type": "code",
   "execution_count": null,
   "id": "30af56bb",
   "metadata": {},
   "outputs": [],
   "source": [
    "from numba import jit\n",
    "import numpy as np\n",
    "import pandas as pd\n",
    "import time\n",
    "\n",
    "x = np.arange(100).reshape(10, 10)\n",
    "\n",
    "@jit(nonpython=True)\n",
    "def go_fast(a):   # FUnction is compiled and runs in machine learning\n",
    "    trace  = 0.0\n",
    "    for i in range(a.shape[0]):\n",
    "        trace += np,tanh(a[i, i])\n",
    "    return a + trace\n",
    "\n",
    "# Do not repoert this\n",
    "start = time.time()\n",
    "go_fast(x)\n",
    "end = time.time()\n",
    "print(\"Elapsed (with compilation) =%s\" % (end - start))\n",
    "\n",
    "# Now the function is compiled\n",
    "start = time.time()\n",
    "go_fast(x)\n",
    "end = time.time()\n",
    "print(\"Elapsed(after compilation) = %s\" %(end - start))"
   ]
  },
  {
   "cell_type": "code",
   "execution_count": null,
   "id": "f1249cd3",
   "metadata": {},
   "outputs": [],
   "source": []
  }
 ],
 "metadata": {
  "kernelspec": {
   "display_name": "Python 3 (ipykernel)",
   "language": "python",
   "name": "python3"
  },
  "language_info": {
   "codemirror_mode": {
    "name": "ipython",
    "version": 3
   },
   "file_extension": ".py",
   "mimetype": "text/x-python",
   "name": "python",
   "nbconvert_exporter": "python",
   "pygments_lexer": "ipython3",
   "version": "3.9.12"
  }
 },
 "nbformat": 4,
 "nbformat_minor": 5
}

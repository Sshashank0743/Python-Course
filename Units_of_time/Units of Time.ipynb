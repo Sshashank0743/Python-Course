{
 "cells": [
  {
   "cell_type": "markdown",
   "metadata": {},
   "source": [
    "## Create a program that reads a duration from the user as a number of days, hours, minutes, and seconds. Compute and display the total number of seconds represented by this duration"
   ]
  },
  {
   "cell_type": "code",
   "execution_count": 1,
   "metadata": {},
   "outputs": [
    {
     "name": "stdout",
     "output_type": "stream",
     "text": [
      "Enter a number of seconds: 7400\n",
      "The equivalent duration is 0:02:03:20.\n"
     ]
    }
   ],
   "source": [
    "# Convert a number of seconds to days, hours, minutes and seconds\n",
    "SECONDS_PER_DAY = 86400\n",
    "SECONDS_PER_HOUR = 3600\n",
    "SECONDS_PER_MINUTE = 60\n",
    "\n",
    "# Read input from the user\n",
    "seconds = int(input(\"Enter a number of seconds: \"))\n",
    "\n",
    "days = seconds / SECONDS_PER_DAY\n",
    "seconds = seconds % SECONDS_PER_DAY\n",
    "\n",
    "hours = seconds / SECONDS_PER_HOUR\n",
    "seconds = seconds % SECONDS_PER_HOUR\n",
    "\n",
    "minutes = seconds / SECONDS_PER_MINUTE\n",
    "seconds = seconds % SECONDS_PER_MINUTE\n",
    "\n",
    "# Display the result with the desired formatting\n",
    "print(\"The equivalent duration is\", \\\n",
    "     \"%d:%02d:%02d:%02d.\" % (days, hours, minutes, seconds))"
   ]
  }
 ],
 "metadata": {
  "kernelspec": {
   "display_name": "Python 3",
   "language": "python",
   "name": "python3"
  },
  "language_info": {
   "codemirror_mode": {
    "name": "ipython",
    "version": 3
   },
   "file_extension": ".py",
   "mimetype": "text/x-python",
   "name": "python",
   "nbconvert_exporter": "python",
   "pygments_lexer": "ipython3",
   "version": "3.5.5"
  }
 },
 "nbformat": 4,
 "nbformat_minor": 2
}

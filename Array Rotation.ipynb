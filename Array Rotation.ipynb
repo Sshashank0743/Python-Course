{
 "cells": [
  {
   "cell_type": "code",
   "execution_count": 1,
   "id": "naval-precipitation",
   "metadata": {},
   "outputs": [
    {
     "name": "stdout",
     "output_type": "stream",
     "text": [
      "Rotated array is\n",
      "8 1 2 3 4 5 6 7 "
     ]
    }
   ],
   "source": [
    "arr = [1,2,3,4,5,6,7,8]\n",
    "n = len(arr)\n",
    "def rotate(arr, n): \n",
    "    x = arr[n - 1] \n",
    "      \n",
    "    for i in range(n - 1, 0, -1): \n",
    "        arr[i] = arr[i - 1]; \n",
    "          \n",
    "    arr[0] = x; \n",
    "    \n",
    "rotate(arr, n) \n",
    "  \n",
    "print (\"Rotated array is\") \n",
    "for i in range(0, n): \n",
    "    print (arr[i], end = ' ') "
   ]
  },
  {
   "cell_type": "code",
   "execution_count": null,
   "id": "military-scottish",
   "metadata": {},
   "outputs": [],
   "source": []
  }
 ],
 "metadata": {
  "kernelspec": {
   "display_name": "Python 3",
   "language": "python",
   "name": "python3"
  },
  "language_info": {
   "codemirror_mode": {
    "name": "ipython",
    "version": 3
   },
   "file_extension": ".py",
   "mimetype": "text/x-python",
   "name": "python",
   "nbconvert_exporter": "python",
   "pygments_lexer": "ipython3",
   "version": "3.8.5"
  }
 },
 "nbformat": 4,
 "nbformat_minor": 5
}

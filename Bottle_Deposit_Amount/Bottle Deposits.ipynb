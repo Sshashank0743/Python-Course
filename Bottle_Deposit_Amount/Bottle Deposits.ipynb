{
 "cells": [
  {
   "cell_type": "markdown",
   "metadata": {},
   "source": [
    "In many jurisdictions a small deposit is added to drink containers to encourage people\n",
    "to recycle them. In one particular jurisdiction, drink containers holding one liter or\n",
    "less have a $0.10 deposit, and drink containers holding more than one liter have a\n",
    "$0.25 deposit.\n",
    "\n",
    "## Write a program that reads the number of containers of each size from the user. Your program should continue by computing and displaying the refund that will be received for returning those containers. Format the output so that it includes a dollar sign and always displays exactly two decimal place"
   ]
  },
  {
   "cell_type": "code",
   "execution_count": 1,
   "metadata": {},
   "outputs": [
    {
     "name": "stdout",
     "output_type": "stream",
     "text": [
      "How many containers 1 litre or less do you have?:  3\n",
      "How many containers more than 1 litre do you have?:  7\n"
     ]
    }
   ],
   "source": [
    "# Compute the refund amount for a collection of bottles\n",
    "\n",
    "Less_Deposit = 0.10\n",
    "More_Deposit = 0.25\n",
    "\n",
    "#Read Input from the user\n",
    "less = int(input(\"How many containers 1 litre or less do you have?:  \"))\n",
    "more = less = int(input(\"How many containers more than 1 litre do you have?:  \"))"
   ]
  },
  {
   "cell_type": "code",
   "execution_count": 2,
   "metadata": {},
   "outputs": [
    {
     "name": "stdout",
     "output_type": "stream",
     "text": [
      "Your total refund will be $2.45.\n"
     ]
    }
   ],
   "source": [
    "# Compute the refund amount\n",
    "refund = less * Less_Deposit + more * More_Deposit\n",
    "\n",
    "print(\"Your total refund will be $%.2f.\" % refund)"
   ]
  }
 ],
 "metadata": {
  "kernelspec": {
   "display_name": "Python 3",
   "language": "python",
   "name": "python3"
  },
  "language_info": {
   "codemirror_mode": {
    "name": "ipython",
    "version": 3
   },
   "file_extension": ".py",
   "mimetype": "text/x-python",
   "name": "python",
   "nbconvert_exporter": "python",
   "pygments_lexer": "ipython3",
   "version": "3.5.5"
  }
 },
 "nbformat": 4,
 "nbformat_minor": 2
}

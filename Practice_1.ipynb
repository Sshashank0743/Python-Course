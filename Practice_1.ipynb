{
 "cells": [
  {
   "cell_type": "code",
   "execution_count": 1,
   "metadata": {},
   "outputs": [
    {
     "name": "stdout",
     "output_type": "stream",
     "text": [
      "stringvariable is :  This is a string variable\n",
      "First character in the stringvariable is :  T\n"
     ]
    }
   ],
   "source": [
    "stringvariable = \"This is a string variable\"\n",
    "print('stringvariable is : ', stringvariable)\n",
    "print('First character in the stringvariable is : ', stringvariable[0])"
   ]
  },
  {
   "cell_type": "code",
   "execution_count": 2,
   "metadata": {},
   "outputs": [],
   "source": [
    "# if we put pop then it will remove the given index number.\n",
    "# If we put remove then it will remove the given element detail.\n",
    "# If we put append then it will be add the extra element."
   ]
  },
  {
   "cell_type": "code",
   "execution_count": 3,
   "metadata": {},
   "outputs": [
    {
     "data": {
      "text/plain": [
       "2"
      ]
     },
     "execution_count": 3,
     "metadata": {},
     "output_type": "execute_result"
    }
   ],
   "source": [
    "int(2.02)"
   ]
  },
  {
   "cell_type": "code",
   "execution_count": 4,
   "metadata": {},
   "outputs": [
    {
     "data": {
      "text/plain": [
       "2.0"
      ]
     },
     "execution_count": 4,
     "metadata": {},
     "output_type": "execute_result"
    }
   ],
   "source": [
    "float(2)"
   ]
  },
  {
   "cell_type": "code",
   "execution_count": 5,
   "metadata": {},
   "outputs": [
    {
     "data": {
      "text/plain": [
       "'5'"
      ]
     },
     "execution_count": 5,
     "metadata": {},
     "output_type": "execute_result"
    }
   ],
   "source": [
    "str(5)"
   ]
  },
  {
   "cell_type": "code",
   "execution_count": 6,
   "metadata": {},
   "outputs": [
    {
     "data": {
      "text/plain": [
       "'2'"
      ]
     },
     "execution_count": 6,
     "metadata": {},
     "output_type": "execute_result"
    }
   ],
   "source": [
    "str(2)"
   ]
  },
  {
   "cell_type": "code",
   "execution_count": 7,
   "metadata": {},
   "outputs": [
    {
     "name": "stdout",
     "output_type": "stream",
     "text": [
      "{1, 2, 3, 4}\n"
     ]
    }
   ],
   "source": [
    "set = {1, 2, 3, 4, 4}\n",
    "myList = (set)\n",
    "print(myList)"
   ]
  },
  {
   "cell_type": "code",
   "execution_count": 8,
   "metadata": {},
   "outputs": [
    {
     "name": "stdout",
     "output_type": "stream",
     "text": [
      "The value of myInt is : 400\n"
     ]
    }
   ],
   "source": [
    "myInt = 400\n",
    "print(\"The value of myInt is :\", myInt)"
   ]
  },
  {
   "cell_type": "code",
   "execution_count": 9,
   "metadata": {},
   "outputs": [
    {
     "name": "stdout",
     "output_type": "stream",
     "text": [
      "myInt1: 20 is the 1/3 of myInt2: 60\n"
     ]
    }
   ],
   "source": [
    "myInt1 = 20\n",
    "myInt2 = 60\n",
    "\n",
    "print(\"myInt1: {} is the 1/3 of myInt2: {}\".format(myInt1,myInt2))"
   ]
  },
  {
   "cell_type": "code",
   "execution_count": 10,
   "metadata": {},
   "outputs": [
    {
     "name": "stdout",
     "output_type": "stream",
     "text": [
      "Welcome shank in my new home\n"
     ]
    }
   ],
   "source": [
    "print(\"Welcome {name} in my new {place}\".format(name='shank', place='home'))"
   ]
  },
  {
   "cell_type": "code",
   "execution_count": 11,
   "metadata": {},
   "outputs": [
    {
     "name": "stdout",
     "output_type": "stream",
     "text": [
      "5\n",
      "1\n",
      "6\n",
      "0.6666666666666666\n",
      "0\n",
      "2\n",
      "9\n",
      "True\n",
      "False\n",
      "False\n",
      "True\n",
      "False\n",
      "True\n"
     ]
    }
   ],
   "source": [
    "variable1 = 2\n",
    "variable2 = 3\n",
    "\n",
    "print(variable1 + variable2)\n",
    "\n",
    "print(variable2 - variable1)\n",
    "\n",
    "print(variable1 * variable2)\n",
    "\n",
    "print(variable1 / variable2)\n",
    "\n",
    "print(variable1 // variable2)\n",
    "\n",
    "print(variable1 % variable2)\n",
    "\n",
    "print(variable2 ** variable1)\n",
    "\n",
    "print(variable1 < variable2)\n",
    "\n",
    "print(variable1 > variable2)\n",
    "\n",
    "print(variable1 == variable2)\n",
    "\n",
    "print(variable1 != variable2)\n",
    "\n",
    "print(variable1 >= variable2)\n",
    "\n",
    "print(variable1 <= variable2)"
   ]
  },
  {
   "cell_type": "code",
   "execution_count": 12,
   "metadata": {},
   "outputs": [
    {
     "name": "stdout",
     "output_type": "stream",
     "text": [
      "54\n",
      "49\n",
      "98\n",
      "19.6\n"
     ]
    }
   ],
   "source": [
    "age = 50\n",
    "\n",
    "age += 4\n",
    "print(age)\n",
    "\n",
    "age -= 5\n",
    "print(age)\n",
    "\n",
    "age *= 2\n",
    "print(age)\n",
    "\n",
    "age /= 5\n",
    "print(age)"
   ]
  },
  {
   "cell_type": "code",
   "execution_count": 13,
   "metadata": {},
   "outputs": [
    {
     "name": "stdout",
     "output_type": "stream",
     "text": [
      "adult\n"
     ]
    }
   ],
   "source": [
    "age = 20\n",
    "\n",
    "if age > 19:\n",
    "    print(\"adult\")\n",
    "    \n",
    "elif age > 12:\n",
    "    print(\"teen\")\n",
    "    \n",
    "else:\n",
    "    print(\"child\")\n",
    "  "
   ]
  },
  {
   "cell_type": "code",
   "execution_count": 14,
   "metadata": {},
   "outputs": [
    {
     "name": "stdout",
     "output_type": "stream",
     "text": [
      "child\n"
     ]
    }
   ],
   "source": [
    "age  = 12\n",
    "\n",
    "if age >=13:\n",
    "    if age >=19:\n",
    "        print(\"Adult\")\n",
    "    else:\n",
    "        print(\"Teen\")\n",
    "else:\n",
    "    print(\"child\")"
   ]
  },
  {
   "cell_type": "code",
   "execution_count": 15,
   "metadata": {},
   "outputs": [
    {
     "name": "stdout",
     "output_type": "stream",
     "text": [
      "[1, 'ABC', 2, 3, 'Grape']\n"
     ]
    }
   ],
   "source": [
    "list = [1, 'ABC', 2, 3]\n",
    "\n",
    "list.insert(4, 'Grape')\n",
    "print(list)"
   ]
  },
  {
   "cell_type": "code",
   "execution_count": 16,
   "metadata": {},
   "outputs": [
    {
     "name": "stdout",
     "output_type": "stream",
     "text": [
      "[1, 'ABC', 3, 2]\n"
     ]
    }
   ],
   "source": [
    "list = [1, 'ABC', 2, 3, 2]\n",
    "\n",
    "list.remove(2)\n",
    "print(list)"
   ]
  },
  {
   "cell_type": "code",
   "execution_count": 17,
   "metadata": {},
   "outputs": [
    {
     "name": "stdout",
     "output_type": "stream",
     "text": [
      "Cat\n"
     ]
    }
   ],
   "source": [
    "myTuple = ('Ant', 'Cat', 'Dog')\n",
    "\n",
    "print(myTuple[-2])"
   ]
  },
  {
   "cell_type": "code",
   "execution_count": 18,
   "metadata": {},
   "outputs": [
    {
     "name": "stdout",
     "output_type": "stream",
     "text": [
      "Dog\n"
     ]
    }
   ],
   "source": [
    "myTuple = ('Ant', 'Cat', 'Dog')\n",
    "\n",
    "print(myTuple[2])"
   ]
  },
  {
   "cell_type": "code",
   "execution_count": 19,
   "metadata": {},
   "outputs": [
    {
     "name": "stdout",
     "output_type": "stream",
     "text": [
      "{1, 2, 3}\n",
      "<class 'set'>\n"
     ]
    }
   ],
   "source": [
    "mySet = {1,2,3}\n",
    "print(mySet)\n",
    "\n",
    "print(type(mySet))"
   ]
  },
  {
   "cell_type": "code",
   "execution_count": 20,
   "metadata": {},
   "outputs": [
    {
     "name": "stdout",
     "output_type": "stream",
     "text": [
      "{1, 2, 3}\n"
     ]
    }
   ],
   "source": [
    "mySet = {1,2,3,2}\n",
    "\n",
    "print(mySet)"
   ]
  },
  {
   "cell_type": "code",
   "execution_count": 21,
   "metadata": {},
   "outputs": [
    {
     "name": "stdout",
     "output_type": "stream",
     "text": [
      "Factorial of 4 is: 24\n"
     ]
    }
   ],
   "source": [
    "def factorial(num):\n",
    "    \n",
    "    fact = 1\n",
    "    \n",
    "    while(num>0):\n",
    "        fact *= num\n",
    "        num -= 1\n",
    "    return fact\n",
    "\n",
    "\n",
    "number = 4\n",
    "print('Factorial of {} is: {}'.format(number, factorial(number)))"
   ]
  },
  {
   "cell_type": "code",
   "execution_count": 22,
   "metadata": {},
   "outputs": [
    {
     "name": "stdout",
     "output_type": "stream",
     "text": [
      "['__add__', '__class__', '__contains__', '__delattr__', '__delitem__', '__dir__', '__doc__', '__eq__', '__format__', '__ge__', '__getattribute__', '__getitem__', '__gt__', '__hash__', '__iadd__', '__imul__', '__init__', '__init_subclass__', '__iter__', '__le__', '__len__', '__lt__', '__mul__', '__ne__', '__new__', '__reduce__', '__reduce_ex__', '__repr__', '__reversed__', '__rmul__', '__setattr__', '__setitem__', '__sizeof__', '__str__', '__subclasshook__', 'append', 'clear', 'copy', 'count', 'extend', 'index', 'insert', 'pop', 'remove', 'reverse', 'sort']\n"
     ]
    }
   ],
   "source": [
    "numbers = [1,2,3,4]\n",
    "print(dir(numbers))"
   ]
  },
  {
   "cell_type": "code",
   "execution_count": 23,
   "metadata": {},
   "outputs": [
    {
     "name": "stdout",
     "output_type": "stream",
     "text": [
      "The fibonacci series is as below\n",
      "0\n",
      "1\n",
      "1\n",
      "2\n",
      "3\n"
     ]
    }
   ],
   "source": [
    "def fibonacci(num):\n",
    "    \"\"\"\n",
    "    Recursive function is calculate fibonacci series for a given number\n",
    "    \"\"\"\n",
    "    return num if num <=1 else fibonacci (num-1)+ fibonacci(num-2)\n",
    "    \n",
    "nterm = 5\n",
    "print(\"The fibonacci series is as below\")\n",
    "for num in range(nterm):\n",
    "    print(fibonacci(num))"
   ]
  },
  {
   "cell_type": "code",
   "execution_count": 24,
   "metadata": {},
   "outputs": [
    {
     "name": "stdout",
     "output_type": "stream",
     "text": [
      "Passing percentage\n",
      "Excellent\n",
      "irrespective\n"
     ]
    }
   ],
   "source": [
    "percentage = 75\n",
    "\n",
    "if percentage > 70:\n",
    "    print(\"Passing percentage\")\n",
    "    print(\"Excellent\")\n",
    "else:\n",
    "    print(\"Wishing you all the best\")\n",
    "print(\"irrespective\")"
   ]
  },
  {
   "cell_type": "code",
   "execution_count": 25,
   "metadata": {},
   "outputs": [
    {
     "name": "stdout",
     "output_type": "stream",
     "text": [
      "please enter the value: 25\n",
      "25\n"
     ]
    }
   ],
   "source": [
    "input_var=input(\"please enter the value: \")\n",
    "print(input_var)"
   ]
  },
  {
   "cell_type": "code",
   "execution_count": 26,
   "metadata": {},
   "outputs": [
    {
     "name": "stdout",
     "output_type": "stream",
     "text": [
      "30\n"
     ]
    }
   ],
   "source": [
    "num1=10\n",
    "num2=\"20\"\n",
    "result=num1+int(num2)\n",
    "print(result)"
   ]
  },
  {
   "cell_type": "code",
   "execution_count": 27,
   "metadata": {},
   "outputs": [
    {
     "name": "stdout",
     "output_type": "stream",
     "text": [
      "8.25\n"
     ]
    }
   ],
   "source": [
    "num1 = 50\n",
    "num2 = 2\n",
    "num3 = 3\n",
    "num4 = 8\n",
    "result = num1/num4-num3*num2+num4\n",
    "print(result)"
   ]
  },
  {
   "cell_type": "code",
   "execution_count": 28,
   "metadata": {},
   "outputs": [
    {
     "name": "stdout",
     "output_type": "stream",
     "text": [
      "50\n"
     ]
    }
   ],
   "source": [
    "num1 = 10\n",
    "num2 = 5\n",
    "num2 *= num1\n",
    "print(num2)"
   ]
  },
  {
   "cell_type": "code",
   "execution_count": 29,
   "metadata": {},
   "outputs": [
    {
     "data": {
      "text/plain": [
       "False"
      ]
     },
     "execution_count": 29,
     "metadata": {},
     "output_type": "execute_result"
    }
   ],
   "source": [
    "num1=10\n",
    "num2=5 \n",
    "num3=0 \n",
    "num4=2 \n",
    "num5=10 \n",
    "(num1==num5) and (not(num5/num2 == num1/num2))"
   ]
  },
  {
   "cell_type": "code",
   "execution_count": 30,
   "metadata": {},
   "outputs": [
    {
     "data": {
      "text/plain": [
       "False"
      ]
     },
     "execution_count": 30,
     "metadata": {},
     "output_type": "execute_result"
    }
   ],
   "source": [
    "1==1 and (not(1==1 or 1==0))"
   ]
  },
  {
   "cell_type": "code",
   "execution_count": 31,
   "metadata": {},
   "outputs": [
    {
     "name": "stdout",
     "output_type": "stream",
     "text": [
      "5\n"
     ]
    }
   ],
   "source": [
    "Num1=5, \n",
    "Num2=6,\n",
    "print(5%6)"
   ]
  },
  {
   "cell_type": "code",
   "execution_count": 32,
   "metadata": {},
   "outputs": [
    {
     "name": "stdout",
     "output_type": "stream",
     "text": [
      "num3 is greater\n"
     ]
    }
   ],
   "source": [
    "num1 = 10\n",
    "num2 = 12\n",
    "num3 = 30\n",
    "\n",
    "if(num1>num2):\n",
    "    if(num1>num3):\n",
    "        print(\"num1 is greater\")\n",
    "    else:\n",
    "        print(\"num3 is greater\")\n",
    "elif(num2>num3):\n",
    "    print(\"num2 is greater\")\n",
    "else:\n",
    "    print(\"num3 is greater\")"
   ]
  },
  {
   "cell_type": "code",
   "execution_count": 33,
   "metadata": {},
   "outputs": [
    {
     "name": "stdout",
     "output_type": "stream",
     "text": [
      "the current number is: 1\n",
      "the current number is: 4\n"
     ]
    }
   ],
   "source": [
    "num=5\n",
    "count=1\n",
    "while count <= num:\n",
    "    print(\"the current number is:\",count)\n",
    "    count+=3\n",
    "\n",
    "    "
   ]
  },
  {
   "cell_type": "code",
   "execution_count": 34,
   "metadata": {},
   "outputs": [
    {
     "name": "stdout",
     "output_type": "stream",
     "text": [
      "The current number is  1\n",
      "The current number is  2\n",
      "The current number is  3\n",
      "The current number is  4\n"
     ]
    }
   ],
   "source": [
    "start=1\n",
    "end=10\n",
    "step=2\n",
    "\n",
    "for number in range(1,5):\n",
    "    print (\"The current number is \",number)\n"
   ]
  },
  {
   "cell_type": "code",
   "execution_count": 35,
   "metadata": {},
   "outputs": [
    {
     "name": "stdout",
     "output_type": "stream",
     "text": [
      "Security check of passenger: 1 -- baggage: 1 baggage cleared\n",
      "Security check of passenger: 1 -- baggage: 2 baggage cleared\n",
      "Security check of passenger: 2 -- baggage: 1 baggage cleared\n",
      "Security check of passenger: 2 -- baggage: 2 baggage cleared\n",
      "Security check of passenger: 3 -- baggage: 1 baggage cleared\n",
      "Security check of passenger: 3 -- baggage: 2 baggage cleared\n",
      "Security check of passenger: 4 -- baggage: 1 baggage cleared\n",
      "Security check of passenger: 4 -- baggage: 2 baggage cleared\n",
      "Security check of passenger: 5 -- baggage: 1 baggage cleared\n",
      "Security check of passenger: 5 -- baggage: 2 baggage cleared\n"
     ]
    }
   ],
   "source": [
    "number_of_passengers = 5\n",
    "number_of_baggage = 2\n",
    "security_check = True\n",
    "for passengers_count in range(1, number_of_passengers+1):\n",
    "    for baggage_count in range(1, number_of_baggage+1):\n",
    "        if(security_check==True):\n",
    "            print(\"Security check of passenger:\", passengers_count, \"-- baggage:\", baggage_count,\"baggage cleared\")\n",
    "        else:\n",
    "            print(\"Security check of passenger:\", passengers_count, \"-- baggage:\", baggage_count,\"baggage not cleared\")\n"
   ]
  },
  {
   "cell_type": "code",
   "execution_count": 36,
   "metadata": {},
   "outputs": [
    {
     "name": "stdout",
     "output_type": "stream",
     "text": [
      "Enter a number : 12\n",
      "The sum of all digits of 12 is 3\n"
     ]
    }
   ],
   "source": [
    "num = int(input(\"Enter a number : \"))\n",
    "original_num = num \n",
    "sum = 0\n",
    "\n",
    "while(num > 0):\n",
    "    last_digit = num % 10\n",
    "    sum = last_digit + sum \n",
    "    num = num//10\n",
    "\n",
    "print(\"The sum of all digits of {} is {}\".format(original_num,sum))"
   ]
  },
  {
   "cell_type": "code",
   "execution_count": 37,
   "metadata": {},
   "outputs": [
    {
     "name": "stdout",
     "output_type": "stream",
     "text": [
      "2\n"
     ]
    }
   ],
   "source": [
    "num1=100\n",
    "num2=200\n",
    "num3=6\n",
    "if(5>=num3):\n",
    "    if(num1>100 or num2>150):\n",
    "        print(\"1\")\n",
    "elif(num1>=100 and num2>150):\n",
    "    print(\"2\")\n",
    "else:\n",
    "    print(\"3\")"
   ]
  },
  {
   "cell_type": "code",
   "execution_count": 38,
   "metadata": {},
   "outputs": [
    {
     "name": "stdout",
     "output_type": "stream",
     "text": [
      "2\n"
     ]
    }
   ],
   "source": [
    "num1=-10\n",
    "num2=2\n",
    "\n",
    "if((num1/num2==5) and (num1+num2)>5):\n",
    "    print(\"1\")\n",
    "elif((num1-num2)<=1 or (num1%num2)==0):\n",
    "    print(\"2\")\n",
    "else:\n",
    "    print(\"3\")"
   ]
  },
  {
   "cell_type": "code",
   "execution_count": 39,
   "metadata": {},
   "outputs": [
    {
     "name": "stdout",
     "output_type": "stream",
     "text": [
      "44\n"
     ]
    }
   ],
   "source": [
    "a = -10\n",
    "b = -200\n",
    "c = 2000\n",
    "d = 4000\n",
    "if( a*b >=d):\n",
    "    if(d>c):\n",
    "        if(d%c!=0):\n",
    "            print(11)\n",
    "        else:\n",
    "            print(22)\n",
    "else:\n",
    "    if(b/a >0):\n",
    "        if(a<b or d%c!=0):\n",
    "          print(33)\n",
    "        else:\n",
    "          print(44)"
   ]
  },
  {
   "cell_type": "code",
   "execution_count": 40,
   "metadata": {},
   "outputs": [
    {
     "name": "stdout",
     "output_type": "stream",
     "text": [
      "10 20 15 30 "
     ]
    }
   ],
   "source": [
    "for number in 10,15:\n",
    "    for counter in range(1,3):\n",
    "        print(number*counter, end=\" \")"
   ]
  },
  {
   "cell_type": "code",
   "execution_count": 41,
   "metadata": {},
   "outputs": [
    {
     "name": "stdout",
     "output_type": "stream",
     "text": [
      "25\n",
      "26\n",
      "27\n",
      "28\n"
     ]
    }
   ],
   "source": [
    "number=28\n",
    "for num in range(25,30):\n",
    "    if(number>num):\n",
    "        print(num)\n",
    "    else:\n",
    "        print(num)\n",
    "        break"
   ]
  },
  {
   "cell_type": "code",
   "execution_count": 42,
   "metadata": {},
   "outputs": [
    {
     "name": "stdout",
     "output_type": "stream",
     "text": [
      "45 50 90 "
     ]
    }
   ],
   "source": [
    "for num in 23, 45, 50, 65, 76, 90:\n",
    "    if(num%5!=0):\n",
    "        continue\n",
    "    if(num%10==0):\n",
    "        print(num, end=\" \")\n",
    "        continue\n",
    "    if(num%3==0):\n",
    "        print(num, end=\" \")"
   ]
  },
  {
   "cell_type": "code",
   "execution_count": 43,
   "metadata": {},
   "outputs": [
    {
     "name": "stdout",
     "output_type": "stream",
     "text": [
      "2.0\n"
     ]
    }
   ],
   "source": [
    "num1=16\n",
    "num2=2\n",
    "while(num1>=2):\n",
    "    if(num1>num2):\n",
    "        num1=num1/2\n",
    "    else:\n",
    "        print(num1)\n",
    "        break"
   ]
  },
  {
   "cell_type": "code",
   "execution_count": 44,
   "metadata": {},
   "outputs": [
    {
     "name": "stdout",
     "output_type": "stream",
     "text": [
      "Passport is valid\n"
     ]
    }
   ],
   "source": [
    "observer1=\"what's happening!!\"\n",
    "\n",
    "def passport_check(passport_no):\n",
    "    observer4=\"actual copied to formal\"\n",
    "    observer5=\"func. execution starts\"\n",
    "    if (len(passport_no)==8):\n",
    "        if(passport_no[0]>=\"A\" and passport_no[0]<=\"Z\"):\n",
    "            status=\"valid\"\n",
    "        else:\n",
    "            status=\"invalid\"\n",
    "    else:\n",
    "        status=\"invalid\"\n",
    "    observer6=\"func. execution ends\"\n",
    "    return status\n",
    "\n",
    "observer2=\"function with formal arg.\"\n",
    "observer3=\"calling with actual arg.\"\n",
    "passport_status= passport_check(\"M9993471\")\n",
    "\n",
    "print(\"Passport is\",passport_status)\n"
   ]
  },
  {
   "cell_type": "code",
   "execution_count": 45,
   "metadata": {},
   "outputs": [
    {
     "name": "stdout",
     "output_type": "stream",
     "text": [
      "Enter an integer number: 32\n",
      "Square of 32 is 1024 \n"
     ]
    }
   ],
   "source": [
    "number = int(input(\"Enter an integer number: \"))\n",
    "\n",
    "# calculate square\n",
    "square = number**2\n",
    "\n",
    "# print\n",
    "print (\"Square of {0} is {1} \".format (number, square))"
   ]
  },
  {
   "cell_type": "code",
   "execution_count": 46,
   "metadata": {},
   "outputs": [
    {
     "name": "stdout",
     "output_type": "stream",
     "text": [
      "This airline allows baggage limit till 30 kgs\n",
      "Pay the extra baggage charge of 500 rupees\n",
      "This airline now allows baggage limit till 45 kgs\n",
      "Pay the extra baggage charge of 500 rupees\n"
     ]
    }
   ],
   "source": [
    "wt_limit=30\n",
    "def baggage_check(baggage_wt):\n",
    "    extra_baggage_charge=0\n",
    "    if not(baggage_wt>=0 and baggage_wt<=wt_limit):\n",
    "        extra_baggage=baggage_wt-wt_limit\n",
    "        extra_baggage_charge=extra_baggage*100\n",
    "    return extra_baggage_charge\n",
    "def update_baggage_limit(new_wt_limit):\n",
    "    wt_limit=new_wt_limit\n",
    "    print(\"This airline now allows baggage limit till\",wt_limit,\"kgs\")\n",
    "print(\"This airline allows baggage limit till\",wt_limit,\"kgs\")\n",
    "print(\"Pay the extra baggage charge of\",baggage_check(35),\"rupees\")\n",
    "update_baggage_limit(45)\n",
    "print(\"Pay the extra baggage charge of\",baggage_check(35),\"rupees\")\n"
   ]
  },
  {
   "cell_type": "code",
   "execution_count": 47,
   "metadata": {},
   "outputs": [
    {
     "name": "stdout",
     "output_type": "stream",
     "text": [
      "17000\n"
     ]
    }
   ],
   "source": [
    "def collect_tax(x,y):\n",
    "    tax=x+y\n",
    "    return tax\n",
    "\n",
    "a=5000\n",
    "b=12000\n",
    "result=collect_tax(a,b)\n",
    "print(result)"
   ]
  },
  {
   "cell_type": "code",
   "execution_count": 48,
   "metadata": {},
   "outputs": [
    {
     "name": "stdout",
     "output_type": "stream",
     "text": [
      "Result: 17000\n"
     ]
    }
   ],
   "source": [
    "def check_value(message,num):\n",
    "    msg=message[:num]\n",
    "    return len(msg)\n",
    "\n",
    "#line 4:function call statement \n",
    "print(\"Result:\", result)"
   ]
  },
  {
   "cell_type": "code",
   "execution_count": 49,
   "metadata": {},
   "outputs": [
    {
     "name": "stdout",
     "output_type": "stream",
     "text": [
      "B\n"
     ]
    }
   ],
   "source": [
    "def verify(num1,num2):\n",
    "    if num1 > num2:\n",
    "        return num1\n",
    "    elif num1 == num2:\n",
    "        return 1\n",
    "    else:\n",
    "        return num2\n",
    "\n",
    "def display(arg1,arg2):\n",
    "    if(verify(arg1,arg2)==arg1):\n",
    "        print(\"A\")\n",
    "    elif(verify(arg1,arg2)==1):\n",
    "        print(\"C\")\n",
    "    else:\n",
    "        print(\"B\")\n",
    "        \n",
    "display(1000,3500)"
   ]
  },
  {
   "cell_type": "code",
   "execution_count": 52,
   "metadata": {},
   "outputs": [
    {
     "name": "stdout",
     "output_type": "stream",
     "text": [
      "0\n",
      "0\n"
     ]
    }
   ],
   "source": [
    "result=0\n",
    "\n",
    "def find_sum(num1,num2):\n",
    "    if(num1!=num2):\n",
    "        result=num1+num2\n",
    "    else:\n",
    "        result=2*(num1+num2)\n",
    "\n",
    "find_sum(3,4)\n",
    "print(result)\n",
    "find_sum(5,5)\n",
    "print(result)"
   ]
  },
  {
   "cell_type": "code",
   "execution_count": 53,
   "metadata": {},
   "outputs": [
    {
     "name": "stdout",
     "output_type": "stream",
     "text": [
      "Iterating the list using range()\n",
      "AL1\n",
      "AL2\n",
      "AL3\n",
      "Iterating the list using keyword in\n",
      "AL1\n",
      "AL2\n",
      "AL3\n"
     ]
    }
   ],
   "source": [
    "list_of_airlines=[\"AL1\",\"AL2\",\"AL3\"]\n",
    "print(\"Iterating the list using range()\")\n",
    "for index in range(0,len(list_of_airlines)):\n",
    "    print(list_of_airlines[index])\n",
    "print(\"Iterating the list using keyword in\")\n",
    "for airline in list_of_airlines:\n",
    "    print(airline)\n"
   ]
  },
  {
   "cell_type": "code",
   "execution_count": 54,
   "metadata": {},
   "outputs": [
    {
     "name": "stdout",
     "output_type": "stream",
     "text": [
      "[0, 0, 10, 20, 30]\n"
     ]
    }
   ],
   "source": [
    "my_list=[0]*5\n",
    "for index in range(1,5):\n",
    "\tmy_list[index]=(index-1)*10\n",
    "print(my_list)"
   ]
  },
  {
   "cell_type": "code",
   "execution_count": 55,
   "metadata": {},
   "outputs": [
    {
     "name": "stdout",
     "output_type": "stream",
     "text": [
      "2 AFE187B\n"
     ]
    }
   ],
   "source": [
    "pancard_list=[\"AABGT6715H\", \"UFFAC4352T\", \"IFSBD9163K\", \"JOOEC1225H\",\"RWXAFE187B\"]\n",
    "print(pancard_list[3][6], end=\" \")\n",
    "print(pancard_list[4][3:])"
   ]
  },
  {
   "cell_type": "code",
   "execution_count": 56,
   "metadata": {},
   "outputs": [
    {
     "name": "stdout",
     "output_type": "stream",
     "text": [
      "come to Mys\n"
     ]
    }
   ],
   "source": [
    "message=\"welcome to Mysore\"\n",
    "word=message[-7:]\n",
    "if(word==\"Mysore\"):\n",
    "    print(\"got it\")\n",
    "else:\n",
    "    message=message[3:14]\n",
    "    print(message)"
   ]
  },
  {
   "cell_type": "code",
   "execution_count": 57,
   "metadata": {},
   "outputs": [
    {
     "name": "stdout",
     "output_type": "stream",
     "text": [
      "1\n"
     ]
    }
   ],
   "source": [
    "song=\"JINGLE Bells jingle Bells Jingle All The Way\"\n",
    "song.upper()\n",
    "song_words=song.split()\n",
    "count=0\n",
    "for word in song_words:\n",
    "    if(word.startswith(\"jingle\")):\n",
    "        count=count+1\n",
    "print(count)"
   ]
  },
  {
   "cell_type": "code",
   "execution_count": 58,
   "metadata": {},
   "outputs": [
    {
     "name": "stdout",
     "output_type": "stream",
     "text": [
      "1 5 10\n"
     ]
    }
   ],
   "source": [
    "sample_dict={'a':1,'b':2}\n",
    "sample_dict.update({'b':5, 'c':10 })\n",
    "print(sample_dict.get('a'),sample_dict.get('b'),sample_dict.get('c'))\n",
    " "
   ]
  },
  {
   "cell_type": "code",
   "execution_count": 59,
   "metadata": {},
   "outputs": [
    {
     "name": "stdout",
     "output_type": "stream",
     "text": [
      "New AirlineS4\n"
     ]
    }
   ],
   "source": [
    "import re\n",
    "word=\"New Airlines4\"\n",
    "if(re.search(r\"^N\",word) and re.search(r\"e$\",word)):\n",
    "    print(re.sub(r\"New\",r\"Old\",word))\n",
    "else:\n",
    "    print(re.sub(r\"s(\\d{1})\",r\"S\\1\",word))"
   ]
  },
  {
   "cell_type": "code",
   "execution_count": 60,
   "metadata": {},
   "outputs": [
    {
     "name": "stdout",
     "output_type": "stream",
     "text": [
      "101\n"
     ]
    }
   ],
   "source": [
    "import math\n",
    "num_list=[100.5,30.465,-1.22,20.15]\n",
    "num_list.insert(1, -100.5)\n",
    "num_list.pop(0)\n",
    "num_list.sort()\n",
    "print(math.ceil(math.fabs(num_list[0])))"
   ]
  },
  {
   "cell_type": "code",
   "execution_count": 61,
   "metadata": {},
   "outputs": [
    {
     "name": "stdout",
     "output_type": "stream",
     "text": [
      "Zero Division Error Occurred\n"
     ]
    }
   ],
   "source": [
    "num1=100\n",
    "num2=0\n",
    "try:\n",
    "    result=num1/num2\n",
    "    print(result)\n",
    "except ZeroDivisionError:\n",
    "    print(\"Zero Division Error Occurred\")"
   ]
  },
  {
   "cell_type": "code",
   "execution_count": 62,
   "metadata": {},
   "outputs": [
    {
     "name": "stdout",
     "output_type": "stream",
     "text": [
      "Value error\n",
      "Finally\n",
      "Done\n"
     ]
    }
   ],
   "source": [
    "def division(a,b):\n",
    "    try:\n",
    "        return int(a)/b\n",
    "    except TypeError:\n",
    "        print(\"Type error\")\n",
    "    except ValueError:\n",
    "        print(\"Value error\")\n",
    "    finally:\n",
    "        print(\"Finally\")\n",
    "    print(\"Done\")\n",
    "division('A',10)"
   ]
  },
  {
   "cell_type": "code",
   "execution_count": 63,
   "metadata": {},
   "outputs": [
    {
     "name": "stdout",
     "output_type": "stream",
     "text": [
      "2012\n",
      "Sum finally\n",
      "Invocation finally\n"
     ]
    }
   ],
   "source": [
    "def find_sum(a,b):\n",
    "    try:\n",
    "        print(a+c)\n",
    "    except NameError:\n",
    "        print(\"Function name error\")\n",
    "    finally:\n",
    "        print(\"Sum finally\")\n",
    "try:\n",
    "    find_sum(12,13)\n",
    "except NameError:\n",
    "    print(\"Invocation name error\")\n",
    "finally:\n",
    "    print(\"Invocation finally\")"
   ]
  },
  {
   "cell_type": "code",
   "execution_count": 64,
   "metadata": {},
   "outputs": [
    {
     "name": "stdout",
     "output_type": "stream",
     "text": [
      "[10, 20, 30, 40, 50, 25]\n"
     ]
    }
   ],
   "source": [
    "list1=[10,20,30,40,50]\n",
    "list1.insert(7,25)\n",
    "print(list1)"
   ]
  },
  {
   "cell_type": "code",
   "execution_count": 65,
   "metadata": {},
   "outputs": [
    {
     "name": "stdout",
     "output_type": "stream",
     "text": [
      "Before function call: [10, 20, 30, 40, 50]\n",
      "Inside function: [10, 20, 30, 40, 50, 60, 70, 80]\n",
      "After function call: [10, 20, 30, 40, 50]\n"
     ]
    }
   ],
   "source": [
    "def modify_list(arg_list):\n",
    "    arg_list=arg_list + [60, 70, 80]\n",
    "    print(\"Inside function:\", arg_list)\n",
    "    \n",
    "i_list=[10,20,30,40,50]\n",
    "print(\"Before function call:\", i_list)\n",
    "modify_list(i_list)\n",
    "print(\"After function call:\", i_list)"
   ]
  },
  {
   "cell_type": "code",
   "execution_count": 66,
   "metadata": {},
   "outputs": [
    {
     "name": "stdout",
     "output_type": "stream",
     "text": [
      "[0, 0, 2, 6, 12]\n"
     ]
    }
   ],
   "source": [
    "my_list=[0]*5\n",
    "for index in range(1,5):\n",
    "    my_list[index]=(index-1)*index\n",
    "                    \n",
    "print(my_list)"
   ]
  },
  {
   "cell_type": "code",
   "execution_count": 67,
   "metadata": {},
   "outputs": [
    {
     "name": "stdout",
     "output_type": "stream",
     "text": [
      "18\n",
      "closed? False\n",
      "after closing the file closed? True\n"
     ]
    }
   ],
   "source": [
    "FHW=open(\"data.txt\",\"w\")\n",
    "FHW.write(\"written some thing\")\n",
    "print(FHW.tell())\n",
    "print(\"closed?\",FHW.closed)\n",
    "FHW.close()\n",
    "print(\"after closing the file closed?\",FHW.closed)"
   ]
  },
  {
   "cell_type": "code",
   "execution_count": 68,
   "metadata": {},
   "outputs": [
    {
     "name": "stdout",
     "output_type": "stream",
     "text": [
      "0 1 2 3 4 5 6 7 8 "
     ]
    }
   ],
   "source": [
    "set_1={1,2,3,1,2,4,5,3,4,8,9,7,10}\n",
    "for index in range(len(set_1)):\n",
    "    print(index,end=\" \")"
   ]
  },
  {
   "cell_type": "code",
   "execution_count": 69,
   "metadata": {},
   "outputs": [
    {
     "name": "stdout",
     "output_type": "stream",
     "text": [
      "[10, 8, 6, 4, 2]\n"
     ]
    }
   ],
   "source": [
    "def value(num1):\n",
    "    list1=[]\n",
    "    while num1!=0:\n",
    "        if num1%2==0:\n",
    "            list1.append(num1)\n",
    "        else:\n",
    "            break\n",
    "        num1-=2\n",
    "    print(list1)\n",
    "value(10) "
   ]
  },
  {
   "cell_type": "code",
   "execution_count": 70,
   "metadata": {},
   "outputs": [
    {
     "name": "stdout",
     "output_type": "stream",
     "text": [
      "14\n"
     ]
    }
   ],
   "source": [
    "def sample(value):\n",
    "    sum1=0\n",
    "    for i in value:\n",
    "        if i%2!=0:\n",
    "            sum1+=value[i]\n",
    "        else:\n",
    "            sum1-=i\n",
    "    print(sum1)\n",
    "dict1={1:2,2:4,3:6,5:8}\n",
    "sample(dict1)"
   ]
  },
  {
   "cell_type": "code",
   "execution_count": 71,
   "metadata": {},
   "outputs": [
    {
     "name": "stdout",
     "output_type": "stream",
     "text": [
      "10\n",
      "<class 'int'>\n"
     ]
    }
   ],
   "source": [
    "tuple1=(10)\n",
    "print(tuple1)\n",
    "print(type(tuple1))"
   ]
  },
  {
   "cell_type": "code",
   "execution_count": 72,
   "metadata": {},
   "outputs": [
    {
     "name": "stdout",
     "output_type": "stream",
     "text": [
      "apple boy cat\n"
     ]
    }
   ],
   "source": [
    "sample_dict={'a':\"apple\",'b':\"ball\"}\n",
    "sample_dict.update({'b':\"boy\", 'c':'cat' })\n",
    "print(sample_dict['a'],sample_dict.get('b'),sample_dict.get('c'))\n",
    " "
   ]
  },
  {
   "cell_type": "code",
   "execution_count": 73,
   "metadata": {},
   "outputs": [
    {
     "name": "stdout",
     "output_type": "stream",
     "text": [
      "2012\n",
      "Sum finally\n",
      "Invocation finally\n"
     ]
    }
   ],
   "source": [
    "def find_sum(a,b):\n",
    "    try:\n",
    "        print(a+c)\n",
    "    except ValueError:\n",
    "        print(\"Function name error\")\n",
    "    finally:\n",
    "        print(\"Sum finally\")\n",
    "try:\n",
    "    find_sum(12,13)\n",
    "except NameError:\n",
    "    print(\"Invocation name error\")\n",
    "finally:\n",
    "    print(\"Invocation finally\")"
   ]
  },
  {
   "cell_type": "code",
   "execution_count": 74,
   "metadata": {},
   "outputs": [
    {
     "data": {
      "text/plain": [
       "[1, 5, 8, 67, 7, 8, 'Sk', 'Ajay', 'Anka']"
      ]
     },
     "execution_count": 74,
     "metadata": {},
     "output_type": "execute_result"
    }
   ],
   "source": [
    "K = [1,5,8,67,7,8,\"Sk\",\"Ajay\",\"Anka\"]\n",
    "K"
   ]
  },
  {
   "cell_type": "code",
   "execution_count": 75,
   "metadata": {},
   "outputs": [
    {
     "name": "stdout",
     "output_type": "stream",
     "text": [
      "1\n",
      "5\n",
      "8\n",
      "67\n",
      "7\n",
      "8\n",
      "Sk\n",
      "Ajay\n",
      "Anka\n"
     ]
    }
   ],
   "source": [
    "m = []\n",
    "for i in K:\n",
    "    print(i)"
   ]
  },
  {
   "cell_type": "code",
   "execution_count": 76,
   "metadata": {},
   "outputs": [],
   "source": [
    "m = []\n",
    "for i in K:\n",
    "    if type(i)==str:\n",
    "        m.append(i)"
   ]
  },
  {
   "cell_type": "code",
   "execution_count": 77,
   "metadata": {},
   "outputs": [
    {
     "data": {
      "text/plain": [
       "['Sk', 'Ajay', 'Anka']"
      ]
     },
     "execution_count": 77,
     "metadata": {},
     "output_type": "execute_result"
    }
   ],
   "source": [
    "m"
   ]
  },
  {
   "cell_type": "code",
   "execution_count": 78,
   "metadata": {},
   "outputs": [
    {
     "name": "stdout",
     "output_type": "stream",
     "text": [
      "41\n"
     ]
    }
   ],
   "source": [
    "l = [1,4,5,8,8,8,7,\"afa\",\"aha\"]\n",
    "n = 0\n",
    "\n",
    "for i in l:\n",
    "    if type(i)==int:\n",
    "        n = n+i\n",
    "print(n)"
   ]
  },
  {
   "cell_type": "code",
   "execution_count": 79,
   "metadata": {},
   "outputs": [
    {
     "name": "stdout",
     "output_type": "stream",
     "text": [
      "4\n",
      "5\n",
      "8\n",
      "6\n"
     ]
    }
   ],
   "source": [
    "l = [4,5,8,6,7,2]\n",
    "for i in l:\n",
    "    if i == 7:\n",
    "        break\n",
    "    print(i)\n",
    "else:\n",
    "    print(\"this is the for else block\")"
   ]
  },
  {
   "cell_type": "code",
   "execution_count": 80,
   "metadata": {},
   "outputs": [
    {
     "name": "stdout",
     "output_type": "stream",
     "text": [
      "The product of my name is: Robo Cable\n"
     ]
    }
   ],
   "source": [
    "a = str(\"Robo\")\n",
    "b = str(\" Cable\")\n",
    "\n",
    "product = a + b\n",
    "\n",
    "print(\"The product of my name is: {}\".format(product))"
   ]
  },
  {
   "cell_type": "code",
   "execution_count": 81,
   "metadata": {},
   "outputs": [
    {
     "data": {
      "text/plain": [
       "array([[1, 2, 3],\n",
       "       [2, 5, 4],\n",
       "       [3, 5, 8]])"
      ]
     },
     "execution_count": 81,
     "metadata": {},
     "output_type": "execute_result"
    }
   ],
   "source": [
    "import numpy as np\n",
    "\n",
    "my_mat = [[1,2,3],[2,5,4],[3,5,8]]\n",
    "mat = np.array(my_mat)\n",
    "mat"
   ]
  },
  {
   "cell_type": "code",
   "execution_count": 82,
   "metadata": {},
   "outputs": [
    {
     "data": {
      "text/plain": [
       "(3, 3)"
      ]
     },
     "execution_count": 82,
     "metadata": {},
     "output_type": "execute_result"
    }
   ],
   "source": [
    "mat.shape"
   ]
  },
  {
   "cell_type": "code",
   "execution_count": 83,
   "metadata": {},
   "outputs": [
    {
     "data": {
      "text/plain": [
       "2"
      ]
     },
     "execution_count": 83,
     "metadata": {},
     "output_type": "execute_result"
    }
   ],
   "source": [
    "mat.ndim"
   ]
  },
  {
   "cell_type": "code",
   "execution_count": 84,
   "metadata": {},
   "outputs": [
    {
     "data": {
      "text/plain": [
       "array([0, 3, 6, 9])"
      ]
     },
     "execution_count": 84,
     "metadata": {},
     "output_type": "execute_result"
    }
   ],
   "source": [
    "np.arange(0,12,3)"
   ]
  },
  {
   "cell_type": "code",
   "execution_count": 85,
   "metadata": {},
   "outputs": [
    {
     "data": {
      "text/plain": [
       "array([0, 0, 0])"
      ]
     },
     "execution_count": 85,
     "metadata": {},
     "output_type": "execute_result"
    }
   ],
   "source": [
    "np.zeros((3)).astype(int)"
   ]
  },
  {
   "cell_type": "code",
   "execution_count": 86,
   "metadata": {},
   "outputs": [
    {
     "data": {
      "text/plain": [
       "array([[0.09938586, 0.79615267, 0.6159034 , 0.11825799],\n",
       "       [0.39531055, 0.73879268, 0.60331764, 0.61408418],\n",
       "       [0.58015151, 0.44106001, 0.49731048, 0.59873337],\n",
       "       [0.17441591, 0.5994743 , 0.66881647, 0.71176147]])"
      ]
     },
     "execution_count": 86,
     "metadata": {},
     "output_type": "execute_result"
    }
   ],
   "source": [
    "np.random.rand(4,4)"
   ]
  },
  {
   "cell_type": "code",
   "execution_count": 87,
   "metadata": {},
   "outputs": [
    {
     "data": {
      "text/plain": [
       "array([[ 0.35878177, -0.83408329,  1.92833966, -1.90365838],\n",
       "       [-0.95799797, -0.13611796, -0.50245629,  0.57148161],\n",
       "       [-0.76964419, -0.4707662 , -0.5714544 , -0.34791281],\n",
       "       [-1.7392024 ,  0.17333619, -1.04563173, -0.96216264]])"
      ]
     },
     "execution_count": 87,
     "metadata": {},
     "output_type": "execute_result"
    }
   ],
   "source": [
    "np.random.randn(4,4)"
   ]
  },
  {
   "cell_type": "code",
   "execution_count": 88,
   "metadata": {},
   "outputs": [
    {
     "data": {
      "text/plain": [
       "array([2, 3, 4, 5, 6])"
      ]
     },
     "execution_count": 88,
     "metadata": {},
     "output_type": "execute_result"
    }
   ],
   "source": [
    "arr_cond= np.arange(2,7)\n",
    "arr_cond"
   ]
  },
  {
   "cell_type": "code",
   "execution_count": 89,
   "metadata": {},
   "outputs": [
    {
     "data": {
      "text/plain": [
       "array([4, 5, 6])"
      ]
     },
     "execution_count": 89,
     "metadata": {},
     "output_type": "execute_result"
    }
   ],
   "source": [
    "arr_cond[arr_cond>3]"
   ]
  },
  {
   "cell_type": "code",
   "execution_count": 90,
   "metadata": {},
   "outputs": [
    {
     "data": {
      "text/plain": [
       "array([4, 5, 6])"
      ]
     },
     "execution_count": 90,
     "metadata": {},
     "output_type": "execute_result"
    }
   ],
   "source": [
    "arr_cond[[False, False,  True,  True,  True]]"
   ]
  },
  {
   "cell_type": "code",
   "execution_count": 91,
   "metadata": {},
   "outputs": [
    {
     "data": {
      "text/plain": [
       "array([], dtype=int32)"
      ]
     },
     "execution_count": 91,
     "metadata": {},
     "output_type": "execute_result"
    }
   ],
   "source": [
    "arr_cond[2:3][arr_cond[2:3]>5]"
   ]
  },
  {
   "cell_type": "code",
   "execution_count": 92,
   "metadata": {},
   "outputs": [
    {
     "data": {
      "text/plain": [
       "array([ 1,  2,  3,  4,  5,  6,  7,  8,  9, 10, 11])"
      ]
     },
     "execution_count": 92,
     "metadata": {},
     "output_type": "execute_result"
    }
   ],
   "source": [
    "import numpy as np\n",
    "arr = np.arange(1,12)\n",
    "arr"
   ]
  },
  {
   "cell_type": "code",
   "execution_count": 93,
   "metadata": {},
   "outputs": [],
   "source": [
    "arr[0] = 2\n",
    "arr[4] = 2\n",
    "arr[6] = 2"
   ]
  },
  {
   "cell_type": "code",
   "execution_count": 94,
   "metadata": {},
   "outputs": [
    {
     "data": {
      "text/plain": [
       "array([ 2,  2,  3,  4,  2,  6,  2,  8,  9, 10, 11])"
      ]
     },
     "execution_count": 94,
     "metadata": {},
     "output_type": "execute_result"
    }
   ],
   "source": [
    "arr"
   ]
  },
  {
   "cell_type": "code",
   "execution_count": 95,
   "metadata": {},
   "outputs": [
    {
     "data": {
      "text/plain": [
       "2"
      ]
     },
     "execution_count": 95,
     "metadata": {},
     "output_type": "execute_result"
    }
   ],
   "source": [
    "arr.min()"
   ]
  },
  {
   "cell_type": "code",
   "execution_count": 96,
   "metadata": {},
   "outputs": [
    {
     "name": "stdout",
     "output_type": "stream",
     "text": [
      "2\n",
      "6\n"
     ]
    }
   ],
   "source": [
    "print(np.min(arr[::-1]))\n",
    "print((len(arr)-1)-np.argmin(arr[::-1],axis=0))"
   ]
  },
  {
   "cell_type": "code",
   "execution_count": 97,
   "metadata": {},
   "outputs": [
    {
     "data": {
      "text/plain": [
       "11"
      ]
     },
     "execution_count": 97,
     "metadata": {},
     "output_type": "execute_result"
    }
   ],
   "source": [
    "arr.max()"
   ]
  },
  {
   "cell_type": "code",
   "execution_count": 98,
   "metadata": {},
   "outputs": [
    {
     "data": {
      "text/plain": [
       "11"
      ]
     },
     "execution_count": 98,
     "metadata": {},
     "output_type": "execute_result"
    }
   ],
   "source": [
    "(arr.max())"
   ]
  },
  {
   "cell_type": "code",
   "execution_count": 99,
   "metadata": {},
   "outputs": [
    {
     "data": {
      "text/plain": [
       "array([1.41421356, 1.41421356, 1.73205081, 2.        , 1.41421356,\n",
       "       2.44948974, 1.41421356, 2.82842712, 3.        , 3.16227766,\n",
       "       3.31662479])"
      ]
     },
     "execution_count": 99,
     "metadata": {},
     "output_type": "execute_result"
    }
   ],
   "source": [
    "np.sqrt(arr)"
   ]
  },
  {
   "cell_type": "code",
   "execution_count": 100,
   "metadata": {},
   "outputs": [
    {
     "data": {
      "text/plain": [
       "5.363636363636363"
      ]
     },
     "execution_count": 100,
     "metadata": {},
     "output_type": "execute_result"
    }
   ],
   "source": [
    "arr.mean()"
   ]
  },
  {
   "cell_type": "code",
   "execution_count": 101,
   "metadata": {},
   "outputs": [
    {
     "data": {
      "text/plain": [
       "array([7.38905610e+00, 7.38905610e+00, 2.00855369e+01, 5.45981500e+01,\n",
       "       7.38905610e+00, 4.03428793e+02, 7.38905610e+00, 2.98095799e+03,\n",
       "       8.10308393e+03, 2.20264658e+04, 5.98741417e+04])"
      ]
     },
     "execution_count": 101,
     "metadata": {},
     "output_type": "execute_result"
    }
   ],
   "source": [
    "np.exp(arr)"
   ]
  },
  {
   "cell_type": "code",
   "execution_count": 102,
   "metadata": {},
   "outputs": [
    {
     "data": {
      "text/plain": [
       "array([[ 1,  2,  5,  7],\n",
       "       [ 2,  5,  6,  8],\n",
       "       [10,  1,  4, 15],\n",
       "       [20, 25, 14, 16]])"
      ]
     },
     "execution_count": 102,
     "metadata": {},
     "output_type": "execute_result"
    }
   ],
   "source": [
    "arr_2d = np.array([[1,2,5,7],[2,5,6,8],[10,1,4,15],[20,25,14,16]])\n",
    "arr_2d"
   ]
  },
  {
   "cell_type": "code",
   "execution_count": 103,
   "metadata": {},
   "outputs": [
    {
     "data": {
      "text/plain": [
       "array([ 8.25,  8.25,  7.25, 11.5 ])"
      ]
     },
     "execution_count": 103,
     "metadata": {},
     "output_type": "execute_result"
    }
   ],
   "source": [
    "(arr_2d.mean(axis=0))"
   ]
  },
  {
   "cell_type": "code",
   "execution_count": 104,
   "metadata": {},
   "outputs": [
    {
     "data": {
      "text/plain": [
       "array([ 0,  1,  2,  3,  4,  5,  6,  7,  8,  9, 10, 11, 12, 13, 14, 15])"
      ]
     },
     "execution_count": 104,
     "metadata": {},
     "output_type": "execute_result"
    }
   ],
   "source": [
    "arr = np.arange(0,16)\n",
    "arr"
   ]
  },
  {
   "cell_type": "code",
   "execution_count": 105,
   "metadata": {},
   "outputs": [
    {
     "data": {
      "text/plain": [
       "array([[ 0,  1,  2,  3],\n",
       "       [ 4,  5,  6,  7],\n",
       "       [ 8,  9, 10, 11],\n",
       "       [12, 13, 14, 15]])"
      ]
     },
     "execution_count": 105,
     "metadata": {},
     "output_type": "execute_result"
    }
   ],
   "source": [
    "arr_2d = arr.reshape(4,4)\n",
    "arr_2d"
   ]
  },
  {
   "cell_type": "code",
   "execution_count": 106,
   "metadata": {},
   "outputs": [
    {
     "data": {
      "text/plain": [
       "array([ 0,  1,  2,  3,  4,  5,  6,  7,  8,  9, 10, 11, 12, 13, 14, 15])"
      ]
     },
     "execution_count": 106,
     "metadata": {},
     "output_type": "execute_result"
    }
   ],
   "source": [
    "arr_2d.flatten()"
   ]
  },
  {
   "cell_type": "code",
   "execution_count": 107,
   "metadata": {},
   "outputs": [
    {
     "data": {
      "text/plain": [
       "array([[ 0,  4,  8, 12],\n",
       "       [ 1,  5,  9, 13],\n",
       "       [ 2,  6, 10, 14],\n",
       "       [ 3,  7, 11, 15]])"
      ]
     },
     "execution_count": 107,
     "metadata": {},
     "output_type": "execute_result"
    }
   ],
   "source": [
    "arr_2d.transpose()"
   ]
  },
  {
   "cell_type": "code",
   "execution_count": 108,
   "metadata": {},
   "outputs": [],
   "source": [
    "import pandas as pd"
   ]
  },
  {
   "cell_type": "code",
   "execution_count": 109,
   "metadata": {},
   "outputs": [],
   "source": [
    "my_series = pd.Series({'a' :10, 'b' :11, 'c' :14})"
   ]
  },
  {
   "cell_type": "code",
   "execution_count": 110,
   "metadata": {},
   "outputs": [
    {
     "data": {
      "text/plain": [
       "a    10\n",
       "b    11\n",
       "c    14\n",
       "dtype: int64"
      ]
     },
     "execution_count": 110,
     "metadata": {},
     "output_type": "execute_result"
    }
   ],
   "source": [
    "my_series"
   ]
  },
  {
   "cell_type": "code",
   "execution_count": 111,
   "metadata": {},
   "outputs": [
    {
     "data": {
      "text/plain": [
       "11"
      ]
     },
     "execution_count": 111,
     "metadata": {},
     "output_type": "execute_result"
    }
   ],
   "source": [
    "my_series['b']"
   ]
  },
  {
   "cell_type": "code",
   "execution_count": 112,
   "metadata": {},
   "outputs": [
    {
     "data": {
      "text/html": [
       "<div>\n",
       "<style scoped>\n",
       "    .dataframe tbody tr th:only-of-type {\n",
       "        vertical-align: middle;\n",
       "    }\n",
       "\n",
       "    .dataframe tbody tr th {\n",
       "        vertical-align: top;\n",
       "    }\n",
       "\n",
       "    .dataframe thead th {\n",
       "        text-align: right;\n",
       "    }\n",
       "</style>\n",
       "<table border=\"1\" class=\"dataframe\">\n",
       "  <thead>\n",
       "    <tr style=\"text-align: right;\">\n",
       "      <th></th>\n",
       "      <th>cities</th>\n",
       "    </tr>\n",
       "  </thead>\n",
       "  <tbody>\n",
       "    <tr>\n",
       "      <th>A</th>\n",
       "      <td>Allahabd</td>\n",
       "    </tr>\n",
       "    <tr>\n",
       "      <th>B</th>\n",
       "      <td>Delhi</td>\n",
       "    </tr>\n",
       "    <tr>\n",
       "      <th>C</th>\n",
       "      <td>Noida</td>\n",
       "    </tr>\n",
       "    <tr>\n",
       "      <th>D</th>\n",
       "      <td>Kanpur</td>\n",
       "    </tr>\n",
       "    <tr>\n",
       "      <th>E</th>\n",
       "      <td>Lucknow</td>\n",
       "    </tr>\n",
       "  </tbody>\n",
       "</table>\n",
       "</div>"
      ],
      "text/plain": [
       "     cities\n",
       "A  Allahabd\n",
       "B     Delhi\n",
       "C     Noida\n",
       "D    Kanpur\n",
       "E   Lucknow"
      ]
     },
     "execution_count": 112,
     "metadata": {},
     "output_type": "execute_result"
    }
   ],
   "source": [
    "city = ['Allahabd', 'Delhi', 'Noida', 'Kanpur', 'Lucknow']\n",
    "city_df = pd.DataFrame(city, columns = ['cities'], index = ['A','B','C','D','E'])\n",
    "city_df"
   ]
  },
  {
   "cell_type": "code",
   "execution_count": 113,
   "metadata": {},
   "outputs": [
    {
     "data": {
      "text/html": [
       "<div>\n",
       "<style scoped>\n",
       "    .dataframe tbody tr th:only-of-type {\n",
       "        vertical-align: middle;\n",
       "    }\n",
       "\n",
       "    .dataframe tbody tr th {\n",
       "        vertical-align: top;\n",
       "    }\n",
       "\n",
       "    .dataframe thead th {\n",
       "        text-align: right;\n",
       "    }\n",
       "</style>\n",
       "<table border=\"1\" class=\"dataframe\">\n",
       "  <thead>\n",
       "    <tr style=\"text-align: right;\">\n",
       "      <th></th>\n",
       "      <th>City</th>\n",
       "      <th>Famous</th>\n",
       "    </tr>\n",
       "  </thead>\n",
       "  <tbody>\n",
       "    <tr>\n",
       "      <th>0</th>\n",
       "      <td>Allahabd</td>\n",
       "      <td>Guava</td>\n",
       "    </tr>\n",
       "    <tr>\n",
       "      <th>1</th>\n",
       "      <td>Delhi</td>\n",
       "      <td>Dress</td>\n",
       "    </tr>\n",
       "    <tr>\n",
       "      <th>2</th>\n",
       "      <td>Noida</td>\n",
       "      <td>Mall</td>\n",
       "    </tr>\n",
       "    <tr>\n",
       "      <th>3</th>\n",
       "      <td>Kanpur</td>\n",
       "      <td>Leather</td>\n",
       "    </tr>\n",
       "    <tr>\n",
       "      <th>4</th>\n",
       "      <td>Lucknow</td>\n",
       "      <td>Chicken Dress</td>\n",
       "    </tr>\n",
       "  </tbody>\n",
       "</table>\n",
       "</div>"
      ],
      "text/plain": [
       "       City         Famous\n",
       "0  Allahabd          Guava\n",
       "1     Delhi          Dress\n",
       "2     Noida           Mall\n",
       "3    Kanpur        Leather\n",
       "4   Lucknow  Chicken Dress"
      ]
     },
     "execution_count": 113,
     "metadata": {},
     "output_type": "execute_result"
    }
   ],
   "source": [
    "Class = {'City': ['Allahabd', 'Delhi', 'Noida', 'Kanpur', 'Lucknow'], 'Famous': ['Guava', 'Dress', 'Mall', 'Leather', 'Chicken Dress']}\n",
    "Class_df = pd.DataFrame(Class)\n",
    "Class_df"
   ]
  },
  {
   "cell_type": "code",
   "execution_count": 114,
   "metadata": {},
   "outputs": [
    {
     "data": {
      "text/plain": [
       "City      object\n",
       "Famous    object\n",
       "dtype: object"
      ]
     },
     "execution_count": 114,
     "metadata": {},
     "output_type": "execute_result"
    }
   ],
   "source": [
    "Class_df.dtypes"
   ]
  },
  {
   "cell_type": "code",
   "execution_count": 115,
   "metadata": {},
   "outputs": [
    {
     "name": "stdout",
     "output_type": "stream",
     "text": [
      "<class 'pandas.core.frame.DataFrame'>\n",
      "RangeIndex: 5 entries, 0 to 4\n",
      "Data columns (total 2 columns):\n",
      " #   Column  Non-Null Count  Dtype \n",
      "---  ------  --------------  ----- \n",
      " 0   City    5 non-null      object\n",
      " 1   Famous  5 non-null      object\n",
      "dtypes: object(2)\n",
      "memory usage: 208.0+ bytes\n"
     ]
    }
   ],
   "source": [
    "Class_df.info()"
   ]
  },
  {
   "cell_type": "code",
   "execution_count": 116,
   "metadata": {},
   "outputs": [
    {
     "data": {
      "text/html": [
       "<div>\n",
       "<style scoped>\n",
       "    .dataframe tbody tr th:only-of-type {\n",
       "        vertical-align: middle;\n",
       "    }\n",
       "\n",
       "    .dataframe tbody tr th {\n",
       "        vertical-align: top;\n",
       "    }\n",
       "\n",
       "    .dataframe thead th {\n",
       "        text-align: right;\n",
       "    }\n",
       "</style>\n",
       "<table border=\"1\" class=\"dataframe\">\n",
       "  <thead>\n",
       "    <tr style=\"text-align: right;\">\n",
       "      <th></th>\n",
       "      <th>City</th>\n",
       "      <th>Famous</th>\n",
       "    </tr>\n",
       "  </thead>\n",
       "  <tbody>\n",
       "    <tr>\n",
       "      <th>count</th>\n",
       "      <td>5</td>\n",
       "      <td>5</td>\n",
       "    </tr>\n",
       "    <tr>\n",
       "      <th>unique</th>\n",
       "      <td>5</td>\n",
       "      <td>5</td>\n",
       "    </tr>\n",
       "    <tr>\n",
       "      <th>top</th>\n",
       "      <td>Noida</td>\n",
       "      <td>Dress</td>\n",
       "    </tr>\n",
       "    <tr>\n",
       "      <th>freq</th>\n",
       "      <td>1</td>\n",
       "      <td>1</td>\n",
       "    </tr>\n",
       "  </tbody>\n",
       "</table>\n",
       "</div>"
      ],
      "text/plain": [
       "         City Famous\n",
       "count       5      5\n",
       "unique      5      5\n",
       "top     Noida  Dress\n",
       "freq        1      1"
      ]
     },
     "execution_count": 116,
     "metadata": {},
     "output_type": "execute_result"
    }
   ],
   "source": [
    "Class_df.describe()"
   ]
  },
  {
   "cell_type": "code",
   "execution_count": 117,
   "metadata": {},
   "outputs": [
    {
     "data": {
      "text/plain": [
       "(5, 2)"
      ]
     },
     "execution_count": 117,
     "metadata": {},
     "output_type": "execute_result"
    }
   ],
   "source": [
    "Class_df.shape"
   ]
  },
  {
   "cell_type": "code",
   "execution_count": 118,
   "metadata": {},
   "outputs": [
    {
     "data": {
      "text/plain": [
       "City      5\n",
       "Famous    5\n",
       "dtype: int64"
      ]
     },
     "execution_count": 118,
     "metadata": {},
     "output_type": "execute_result"
    }
   ],
   "source": [
    "Class_df.count()"
   ]
  },
  {
   "cell_type": "code",
   "execution_count": 119,
   "metadata": {},
   "outputs": [
    {
     "data": {
      "text/plain": [
       "RangeIndex(start=0, stop=5, step=1)"
      ]
     },
     "execution_count": 119,
     "metadata": {},
     "output_type": "execute_result"
    }
   ],
   "source": [
    "Class_df.index"
   ]
  },
  {
   "cell_type": "code",
   "execution_count": 120,
   "metadata": {},
   "outputs": [
    {
     "data": {
      "text/plain": [
       "Index(['City', 'Famous'], dtype='object')"
      ]
     },
     "execution_count": 120,
     "metadata": {},
     "output_type": "execute_result"
    }
   ],
   "source": [
    "Class_df.columns"
   ]
  },
  {
   "cell_type": "code",
   "execution_count": 121,
   "metadata": {},
   "outputs": [
    {
     "data": {
      "text/html": [
       "<div>\n",
       "<style scoped>\n",
       "    .dataframe tbody tr th:only-of-type {\n",
       "        vertical-align: middle;\n",
       "    }\n",
       "\n",
       "    .dataframe tbody tr th {\n",
       "        vertical-align: top;\n",
       "    }\n",
       "\n",
       "    .dataframe thead th {\n",
       "        text-align: right;\n",
       "    }\n",
       "</style>\n",
       "<table border=\"1\" class=\"dataframe\">\n",
       "  <thead>\n",
       "    <tr style=\"text-align: right;\">\n",
       "      <th></th>\n",
       "      <th>Famous</th>\n",
       "    </tr>\n",
       "    <tr>\n",
       "      <th>City</th>\n",
       "      <th></th>\n",
       "    </tr>\n",
       "  </thead>\n",
       "  <tbody>\n",
       "    <tr>\n",
       "      <th>Allahabd</th>\n",
       "      <td>Guava</td>\n",
       "    </tr>\n",
       "    <tr>\n",
       "      <th>Delhi</th>\n",
       "      <td>Dress</td>\n",
       "    </tr>\n",
       "    <tr>\n",
       "      <th>Noida</th>\n",
       "      <td>Mall</td>\n",
       "    </tr>\n",
       "    <tr>\n",
       "      <th>Kanpur</th>\n",
       "      <td>Leather</td>\n",
       "    </tr>\n",
       "    <tr>\n",
       "      <th>Lucknow</th>\n",
       "      <td>Chicken Dress</td>\n",
       "    </tr>\n",
       "  </tbody>\n",
       "</table>\n",
       "</div>"
      ],
      "text/plain": [
       "                 Famous\n",
       "City                   \n",
       "Allahabd          Guava\n",
       "Delhi             Dress\n",
       "Noida              Mall\n",
       "Kanpur          Leather\n",
       "Lucknow   Chicken Dress"
      ]
     },
     "execution_count": 121,
     "metadata": {},
     "output_type": "execute_result"
    }
   ],
   "source": [
    "new_Class_df = Class_df.set_index('City')\n",
    "new_Class_df"
   ]
  },
  {
   "cell_type": "code",
   "execution_count": 122,
   "metadata": {},
   "outputs": [],
   "source": [
    "df = pd.read_csv(\"D:/Insaid Project/Insaid Project/EDA/Literacy_Rate.csv\")"
   ]
  },
  {
   "cell_type": "code",
   "execution_count": 123,
   "metadata": {},
   "outputs": [
    {
     "data": {
      "text/html": [
       "<div>\n",
       "<style scoped>\n",
       "    .dataframe tbody tr th:only-of-type {\n",
       "        vertical-align: middle;\n",
       "    }\n",
       "\n",
       "    .dataframe tbody tr th {\n",
       "        vertical-align: top;\n",
       "    }\n",
       "\n",
       "    .dataframe thead th {\n",
       "        text-align: right;\n",
       "    }\n",
       "</style>\n",
       "<table border=\"1\" class=\"dataframe\">\n",
       "  <thead>\n",
       "    <tr style=\"text-align: right;\">\n",
       "      <th></th>\n",
       "      <th>Category</th>\n",
       "      <th>Country/ States/ Union Territories Name</th>\n",
       "      <th>Literacy Rate (Persons) - Total - 2001</th>\n",
       "      <th>Literacy Rate (Persons) - Total - 2011</th>\n",
       "      <th>Literacy Rate (Persons) - Rural - 2001</th>\n",
       "      <th>Literacy Rate (Persons) - Rural - 2011</th>\n",
       "      <th>Literacy Rate (Persons) - Urban - 2001</th>\n",
       "      <th>Literacy Rate (Persons) - Urban - 2011</th>\n",
       "    </tr>\n",
       "  </thead>\n",
       "  <tbody>\n",
       "    <tr>\n",
       "      <th>0</th>\n",
       "      <td>Country</td>\n",
       "      <td>INDIA</td>\n",
       "      <td>64.8</td>\n",
       "      <td>73.0</td>\n",
       "      <td>58.7</td>\n",
       "      <td>67.8</td>\n",
       "      <td>79.9</td>\n",
       "      <td>84.1</td>\n",
       "    </tr>\n",
       "    <tr>\n",
       "      <th>1</th>\n",
       "      <td>State</td>\n",
       "      <td>Andhra Pradesh</td>\n",
       "      <td>60.5</td>\n",
       "      <td>67.0</td>\n",
       "      <td>54.5</td>\n",
       "      <td>60.4</td>\n",
       "      <td>76.1</td>\n",
       "      <td>80.1</td>\n",
       "    </tr>\n",
       "    <tr>\n",
       "      <th>2</th>\n",
       "      <td>State</td>\n",
       "      <td>Arunachal Pradesh</td>\n",
       "      <td>54.3</td>\n",
       "      <td>65.4</td>\n",
       "      <td>47.8</td>\n",
       "      <td>59.9</td>\n",
       "      <td>78.3</td>\n",
       "      <td>82.9</td>\n",
       "    </tr>\n",
       "    <tr>\n",
       "      <th>3</th>\n",
       "      <td>State</td>\n",
       "      <td>Assam</td>\n",
       "      <td>63.3</td>\n",
       "      <td>72.2</td>\n",
       "      <td>59.7</td>\n",
       "      <td>69.3</td>\n",
       "      <td>85.3</td>\n",
       "      <td>88.5</td>\n",
       "    </tr>\n",
       "    <tr>\n",
       "      <th>4</th>\n",
       "      <td>State</td>\n",
       "      <td>Bihar</td>\n",
       "      <td>47.0</td>\n",
       "      <td>61.8</td>\n",
       "      <td>43.9</td>\n",
       "      <td>59.8</td>\n",
       "      <td>71.9</td>\n",
       "      <td>76.9</td>\n",
       "    </tr>\n",
       "    <tr>\n",
       "      <th>5</th>\n",
       "      <td>State</td>\n",
       "      <td>Chhattisgarh</td>\n",
       "      <td>64.7</td>\n",
       "      <td>70.3</td>\n",
       "      <td>60.5</td>\n",
       "      <td>66.0</td>\n",
       "      <td>80.6</td>\n",
       "      <td>84.0</td>\n",
       "    </tr>\n",
       "    <tr>\n",
       "      <th>6</th>\n",
       "      <td>State</td>\n",
       "      <td>Goa</td>\n",
       "      <td>82.0</td>\n",
       "      <td>88.7</td>\n",
       "      <td>79.7</td>\n",
       "      <td>86.6</td>\n",
       "      <td>84.4</td>\n",
       "      <td>90.0</td>\n",
       "    </tr>\n",
       "    <tr>\n",
       "      <th>7</th>\n",
       "      <td>State</td>\n",
       "      <td>Gujarat</td>\n",
       "      <td>69.1</td>\n",
       "      <td>78.0</td>\n",
       "      <td>61.3</td>\n",
       "      <td>71.7</td>\n",
       "      <td>81.8</td>\n",
       "      <td>86.3</td>\n",
       "    </tr>\n",
       "    <tr>\n",
       "      <th>8</th>\n",
       "      <td>State</td>\n",
       "      <td>Haryana</td>\n",
       "      <td>67.9</td>\n",
       "      <td>75.6</td>\n",
       "      <td>63.2</td>\n",
       "      <td>71.4</td>\n",
       "      <td>79.2</td>\n",
       "      <td>83.1</td>\n",
       "    </tr>\n",
       "    <tr>\n",
       "      <th>9</th>\n",
       "      <td>State</td>\n",
       "      <td>Himachal Pradesh</td>\n",
       "      <td>76.5</td>\n",
       "      <td>82.8</td>\n",
       "      <td>75.1</td>\n",
       "      <td>81.9</td>\n",
       "      <td>88.9</td>\n",
       "      <td>91.1</td>\n",
       "    </tr>\n",
       "    <tr>\n",
       "      <th>10</th>\n",
       "      <td>State</td>\n",
       "      <td>Jammu &amp; Kashmir</td>\n",
       "      <td>55.5</td>\n",
       "      <td>67.2</td>\n",
       "      <td>49.8</td>\n",
       "      <td>63.2</td>\n",
       "      <td>71.9</td>\n",
       "      <td>77.1</td>\n",
       "    </tr>\n",
       "    <tr>\n",
       "      <th>11</th>\n",
       "      <td>State</td>\n",
       "      <td>Jharkhand</td>\n",
       "      <td>53.6</td>\n",
       "      <td>66.4</td>\n",
       "      <td>45.7</td>\n",
       "      <td>61.1</td>\n",
       "      <td>79.1</td>\n",
       "      <td>82.3</td>\n",
       "    </tr>\n",
       "    <tr>\n",
       "      <th>12</th>\n",
       "      <td>State</td>\n",
       "      <td>Karnataka</td>\n",
       "      <td>66.6</td>\n",
       "      <td>75.4</td>\n",
       "      <td>59.3</td>\n",
       "      <td>68.7</td>\n",
       "      <td>80.6</td>\n",
       "      <td>85.8</td>\n",
       "    </tr>\n",
       "    <tr>\n",
       "      <th>13</th>\n",
       "      <td>State</td>\n",
       "      <td>Kerala</td>\n",
       "      <td>90.9</td>\n",
       "      <td>94.0</td>\n",
       "      <td>90.0</td>\n",
       "      <td>93.0</td>\n",
       "      <td>93.2</td>\n",
       "      <td>95.1</td>\n",
       "    </tr>\n",
       "    <tr>\n",
       "      <th>14</th>\n",
       "      <td>State</td>\n",
       "      <td>Madhya Pradesh</td>\n",
       "      <td>63.7</td>\n",
       "      <td>69.3</td>\n",
       "      <td>57.8</td>\n",
       "      <td>63.9</td>\n",
       "      <td>79.4</td>\n",
       "      <td>82.8</td>\n",
       "    </tr>\n",
       "    <tr>\n",
       "      <th>15</th>\n",
       "      <td>State</td>\n",
       "      <td>Maharashtra</td>\n",
       "      <td>76.9</td>\n",
       "      <td>82.3</td>\n",
       "      <td>70.4</td>\n",
       "      <td>77.0</td>\n",
       "      <td>85.5</td>\n",
       "      <td>88.7</td>\n",
       "    </tr>\n",
       "    <tr>\n",
       "      <th>16</th>\n",
       "      <td>State</td>\n",
       "      <td>Manipur</td>\n",
       "      <td>70.5</td>\n",
       "      <td>76.9</td>\n",
       "      <td>67.3</td>\n",
       "      <td>73.4</td>\n",
       "      <td>79.3</td>\n",
       "      <td>85.4</td>\n",
       "    </tr>\n",
       "    <tr>\n",
       "      <th>17</th>\n",
       "      <td>State</td>\n",
       "      <td>Meghalaya</td>\n",
       "      <td>62.6</td>\n",
       "      <td>74.4</td>\n",
       "      <td>56.3</td>\n",
       "      <td>69.9</td>\n",
       "      <td>86.3</td>\n",
       "      <td>90.8</td>\n",
       "    </tr>\n",
       "    <tr>\n",
       "      <th>18</th>\n",
       "      <td>State</td>\n",
       "      <td>Mizoram</td>\n",
       "      <td>88.8</td>\n",
       "      <td>91.3</td>\n",
       "      <td>81.3</td>\n",
       "      <td>84.1</td>\n",
       "      <td>96.1</td>\n",
       "      <td>97.6</td>\n",
       "    </tr>\n",
       "    <tr>\n",
       "      <th>19</th>\n",
       "      <td>State</td>\n",
       "      <td>Nagaland</td>\n",
       "      <td>66.6</td>\n",
       "      <td>79.6</td>\n",
       "      <td>62.8</td>\n",
       "      <td>75.3</td>\n",
       "      <td>84.7</td>\n",
       "      <td>89.6</td>\n",
       "    </tr>\n",
       "    <tr>\n",
       "      <th>20</th>\n",
       "      <td>State</td>\n",
       "      <td>Odisha</td>\n",
       "      <td>63.1</td>\n",
       "      <td>72.9</td>\n",
       "      <td>59.8</td>\n",
       "      <td>70.2</td>\n",
       "      <td>80.8</td>\n",
       "      <td>85.7</td>\n",
       "    </tr>\n",
       "    <tr>\n",
       "      <th>21</th>\n",
       "      <td>State</td>\n",
       "      <td>Punjab</td>\n",
       "      <td>69.7</td>\n",
       "      <td>75.8</td>\n",
       "      <td>64.7</td>\n",
       "      <td>71.4</td>\n",
       "      <td>79.1</td>\n",
       "      <td>83.2</td>\n",
       "    </tr>\n",
       "    <tr>\n",
       "      <th>22</th>\n",
       "      <td>State</td>\n",
       "      <td>Rajasthan</td>\n",
       "      <td>60.4</td>\n",
       "      <td>66.1</td>\n",
       "      <td>55.3</td>\n",
       "      <td>61.4</td>\n",
       "      <td>76.2</td>\n",
       "      <td>79.7</td>\n",
       "    </tr>\n",
       "    <tr>\n",
       "      <th>23</th>\n",
       "      <td>State</td>\n",
       "      <td>Sikkim</td>\n",
       "      <td>68.8</td>\n",
       "      <td>81.4</td>\n",
       "      <td>66.8</td>\n",
       "      <td>78.9</td>\n",
       "      <td>83.9</td>\n",
       "      <td>88.7</td>\n",
       "    </tr>\n",
       "    <tr>\n",
       "      <th>24</th>\n",
       "      <td>State</td>\n",
       "      <td>Tamil Nadu</td>\n",
       "      <td>73.5</td>\n",
       "      <td>80.1</td>\n",
       "      <td>66.2</td>\n",
       "      <td>73.5</td>\n",
       "      <td>82.5</td>\n",
       "      <td>87.0</td>\n",
       "    </tr>\n",
       "    <tr>\n",
       "      <th>25</th>\n",
       "      <td>State</td>\n",
       "      <td>Tripura</td>\n",
       "      <td>73.2</td>\n",
       "      <td>87.2</td>\n",
       "      <td>69.7</td>\n",
       "      <td>84.9</td>\n",
       "      <td>89.2</td>\n",
       "      <td>93.5</td>\n",
       "    </tr>\n",
       "    <tr>\n",
       "      <th>26</th>\n",
       "      <td>State</td>\n",
       "      <td>Uttar Pradesh</td>\n",
       "      <td>56.3</td>\n",
       "      <td>67.7</td>\n",
       "      <td>52.5</td>\n",
       "      <td>65.5</td>\n",
       "      <td>69.8</td>\n",
       "      <td>75.1</td>\n",
       "    </tr>\n",
       "    <tr>\n",
       "      <th>27</th>\n",
       "      <td>State</td>\n",
       "      <td>Uttarakhand</td>\n",
       "      <td>71.6</td>\n",
       "      <td>78.8</td>\n",
       "      <td>68.1</td>\n",
       "      <td>76.3</td>\n",
       "      <td>81.4</td>\n",
       "      <td>84.5</td>\n",
       "    </tr>\n",
       "    <tr>\n",
       "      <th>28</th>\n",
       "      <td>State</td>\n",
       "      <td>West Bengal</td>\n",
       "      <td>68.6</td>\n",
       "      <td>76.3</td>\n",
       "      <td>63.4</td>\n",
       "      <td>72.1</td>\n",
       "      <td>81.2</td>\n",
       "      <td>84.8</td>\n",
       "    </tr>\n",
       "    <tr>\n",
       "      <th>29</th>\n",
       "      <td>Union Territory</td>\n",
       "      <td>A &amp; N Islands</td>\n",
       "      <td>81.3</td>\n",
       "      <td>86.6</td>\n",
       "      <td>78.7</td>\n",
       "      <td>84.5</td>\n",
       "      <td>86.6</td>\n",
       "      <td>90.1</td>\n",
       "    </tr>\n",
       "    <tr>\n",
       "      <th>30</th>\n",
       "      <td>Union Territory</td>\n",
       "      <td>Chandigarh</td>\n",
       "      <td>81.9</td>\n",
       "      <td>86.0</td>\n",
       "      <td>75.6</td>\n",
       "      <td>80.7</td>\n",
       "      <td>82.6</td>\n",
       "      <td>86.2</td>\n",
       "    </tr>\n",
       "    <tr>\n",
       "      <th>31</th>\n",
       "      <td>Union Territory</td>\n",
       "      <td>D &amp; N Haveli</td>\n",
       "      <td>57.6</td>\n",
       "      <td>76.2</td>\n",
       "      <td>49.3</td>\n",
       "      <td>64.1</td>\n",
       "      <td>84.4</td>\n",
       "      <td>89.8</td>\n",
       "    </tr>\n",
       "    <tr>\n",
       "      <th>32</th>\n",
       "      <td>Union Territory</td>\n",
       "      <td>Daman &amp; Diu</td>\n",
       "      <td>78.2</td>\n",
       "      <td>87.1</td>\n",
       "      <td>75.8</td>\n",
       "      <td>81.4</td>\n",
       "      <td>82.3</td>\n",
       "      <td>89.0</td>\n",
       "    </tr>\n",
       "    <tr>\n",
       "      <th>33</th>\n",
       "      <td>Union Territory</td>\n",
       "      <td>Lakshadweep</td>\n",
       "      <td>86.7</td>\n",
       "      <td>91.8</td>\n",
       "      <td>85.0</td>\n",
       "      <td>91.6</td>\n",
       "      <td>88.6</td>\n",
       "      <td>91.9</td>\n",
       "    </tr>\n",
       "    <tr>\n",
       "      <th>34</th>\n",
       "      <td>Union Territory</td>\n",
       "      <td>NCT of Delhi</td>\n",
       "      <td>81.7</td>\n",
       "      <td>86.2</td>\n",
       "      <td>78.1</td>\n",
       "      <td>81.9</td>\n",
       "      <td>81.9</td>\n",
       "      <td>86.3</td>\n",
       "    </tr>\n",
       "    <tr>\n",
       "      <th>35</th>\n",
       "      <td>Union Territory</td>\n",
       "      <td>Puducherry</td>\n",
       "      <td>81.2</td>\n",
       "      <td>85.8</td>\n",
       "      <td>74.0</td>\n",
       "      <td>80.1</td>\n",
       "      <td>84.8</td>\n",
       "      <td>88.5</td>\n",
       "    </tr>\n",
       "  </tbody>\n",
       "</table>\n",
       "</div>"
      ],
      "text/plain": [
       "           Category Country/ States/ Union Territories Name  \\\n",
       "0           Country                                   INDIA   \n",
       "1             State                          Andhra Pradesh   \n",
       "2             State                       Arunachal Pradesh   \n",
       "3             State                                   Assam   \n",
       "4             State                                   Bihar   \n",
       "5             State                            Chhattisgarh   \n",
       "6             State                                     Goa   \n",
       "7             State                                 Gujarat   \n",
       "8             State                                 Haryana   \n",
       "9             State                        Himachal Pradesh   \n",
       "10            State                         Jammu & Kashmir   \n",
       "11            State                               Jharkhand   \n",
       "12            State                               Karnataka   \n",
       "13            State                                  Kerala   \n",
       "14            State                          Madhya Pradesh   \n",
       "15            State                             Maharashtra   \n",
       "16            State                                 Manipur   \n",
       "17            State                               Meghalaya   \n",
       "18            State                                 Mizoram   \n",
       "19            State                                Nagaland   \n",
       "20            State                                  Odisha   \n",
       "21            State                                  Punjab   \n",
       "22            State                               Rajasthan   \n",
       "23            State                                  Sikkim   \n",
       "24            State                              Tamil Nadu   \n",
       "25            State                                 Tripura   \n",
       "26            State                           Uttar Pradesh   \n",
       "27            State                             Uttarakhand   \n",
       "28            State                             West Bengal   \n",
       "29  Union Territory                           A & N Islands   \n",
       "30  Union Territory                              Chandigarh   \n",
       "31  Union Territory                            D & N Haveli   \n",
       "32  Union Territory                             Daman & Diu   \n",
       "33  Union Territory                             Lakshadweep   \n",
       "34  Union Territory                            NCT of Delhi   \n",
       "35  Union Territory                              Puducherry   \n",
       "\n",
       "    Literacy Rate (Persons) - Total - 2001  \\\n",
       "0                                     64.8   \n",
       "1                                     60.5   \n",
       "2                                     54.3   \n",
       "3                                     63.3   \n",
       "4                                     47.0   \n",
       "5                                     64.7   \n",
       "6                                     82.0   \n",
       "7                                     69.1   \n",
       "8                                     67.9   \n",
       "9                                     76.5   \n",
       "10                                    55.5   \n",
       "11                                    53.6   \n",
       "12                                    66.6   \n",
       "13                                    90.9   \n",
       "14                                    63.7   \n",
       "15                                    76.9   \n",
       "16                                    70.5   \n",
       "17                                    62.6   \n",
       "18                                    88.8   \n",
       "19                                    66.6   \n",
       "20                                    63.1   \n",
       "21                                    69.7   \n",
       "22                                    60.4   \n",
       "23                                    68.8   \n",
       "24                                    73.5   \n",
       "25                                    73.2   \n",
       "26                                    56.3   \n",
       "27                                    71.6   \n",
       "28                                    68.6   \n",
       "29                                    81.3   \n",
       "30                                    81.9   \n",
       "31                                    57.6   \n",
       "32                                    78.2   \n",
       "33                                    86.7   \n",
       "34                                    81.7   \n",
       "35                                    81.2   \n",
       "\n",
       "    Literacy Rate (Persons) - Total - 2011  \\\n",
       "0                                     73.0   \n",
       "1                                     67.0   \n",
       "2                                     65.4   \n",
       "3                                     72.2   \n",
       "4                                     61.8   \n",
       "5                                     70.3   \n",
       "6                                     88.7   \n",
       "7                                     78.0   \n",
       "8                                     75.6   \n",
       "9                                     82.8   \n",
       "10                                    67.2   \n",
       "11                                    66.4   \n",
       "12                                    75.4   \n",
       "13                                    94.0   \n",
       "14                                    69.3   \n",
       "15                                    82.3   \n",
       "16                                    76.9   \n",
       "17                                    74.4   \n",
       "18                                    91.3   \n",
       "19                                    79.6   \n",
       "20                                    72.9   \n",
       "21                                    75.8   \n",
       "22                                    66.1   \n",
       "23                                    81.4   \n",
       "24                                    80.1   \n",
       "25                                    87.2   \n",
       "26                                    67.7   \n",
       "27                                    78.8   \n",
       "28                                    76.3   \n",
       "29                                    86.6   \n",
       "30                                    86.0   \n",
       "31                                    76.2   \n",
       "32                                    87.1   \n",
       "33                                    91.8   \n",
       "34                                    86.2   \n",
       "35                                    85.8   \n",
       "\n",
       "    Literacy Rate (Persons) - Rural - 2001  \\\n",
       "0                                     58.7   \n",
       "1                                     54.5   \n",
       "2                                     47.8   \n",
       "3                                     59.7   \n",
       "4                                     43.9   \n",
       "5                                     60.5   \n",
       "6                                     79.7   \n",
       "7                                     61.3   \n",
       "8                                     63.2   \n",
       "9                                     75.1   \n",
       "10                                    49.8   \n",
       "11                                    45.7   \n",
       "12                                    59.3   \n",
       "13                                    90.0   \n",
       "14                                    57.8   \n",
       "15                                    70.4   \n",
       "16                                    67.3   \n",
       "17                                    56.3   \n",
       "18                                    81.3   \n",
       "19                                    62.8   \n",
       "20                                    59.8   \n",
       "21                                    64.7   \n",
       "22                                    55.3   \n",
       "23                                    66.8   \n",
       "24                                    66.2   \n",
       "25                                    69.7   \n",
       "26                                    52.5   \n",
       "27                                    68.1   \n",
       "28                                    63.4   \n",
       "29                                    78.7   \n",
       "30                                    75.6   \n",
       "31                                    49.3   \n",
       "32                                    75.8   \n",
       "33                                    85.0   \n",
       "34                                    78.1   \n",
       "35                                    74.0   \n",
       "\n",
       "    Literacy Rate (Persons) - Rural - 2011  \\\n",
       "0                                     67.8   \n",
       "1                                     60.4   \n",
       "2                                     59.9   \n",
       "3                                     69.3   \n",
       "4                                     59.8   \n",
       "5                                     66.0   \n",
       "6                                     86.6   \n",
       "7                                     71.7   \n",
       "8                                     71.4   \n",
       "9                                     81.9   \n",
       "10                                    63.2   \n",
       "11                                    61.1   \n",
       "12                                    68.7   \n",
       "13                                    93.0   \n",
       "14                                    63.9   \n",
       "15                                    77.0   \n",
       "16                                    73.4   \n",
       "17                                    69.9   \n",
       "18                                    84.1   \n",
       "19                                    75.3   \n",
       "20                                    70.2   \n",
       "21                                    71.4   \n",
       "22                                    61.4   \n",
       "23                                    78.9   \n",
       "24                                    73.5   \n",
       "25                                    84.9   \n",
       "26                                    65.5   \n",
       "27                                    76.3   \n",
       "28                                    72.1   \n",
       "29                                    84.5   \n",
       "30                                    80.7   \n",
       "31                                    64.1   \n",
       "32                                    81.4   \n",
       "33                                    91.6   \n",
       "34                                    81.9   \n",
       "35                                    80.1   \n",
       "\n",
       "    Literacy Rate (Persons) - Urban - 2001  \\\n",
       "0                                     79.9   \n",
       "1                                     76.1   \n",
       "2                                     78.3   \n",
       "3                                     85.3   \n",
       "4                                     71.9   \n",
       "5                                     80.6   \n",
       "6                                     84.4   \n",
       "7                                     81.8   \n",
       "8                                     79.2   \n",
       "9                                     88.9   \n",
       "10                                    71.9   \n",
       "11                                    79.1   \n",
       "12                                    80.6   \n",
       "13                                    93.2   \n",
       "14                                    79.4   \n",
       "15                                    85.5   \n",
       "16                                    79.3   \n",
       "17                                    86.3   \n",
       "18                                    96.1   \n",
       "19                                    84.7   \n",
       "20                                    80.8   \n",
       "21                                    79.1   \n",
       "22                                    76.2   \n",
       "23                                    83.9   \n",
       "24                                    82.5   \n",
       "25                                    89.2   \n",
       "26                                    69.8   \n",
       "27                                    81.4   \n",
       "28                                    81.2   \n",
       "29                                    86.6   \n",
       "30                                    82.6   \n",
       "31                                    84.4   \n",
       "32                                    82.3   \n",
       "33                                    88.6   \n",
       "34                                    81.9   \n",
       "35                                    84.8   \n",
       "\n",
       "    Literacy Rate (Persons) - Urban - 2011  \n",
       "0                                     84.1  \n",
       "1                                     80.1  \n",
       "2                                     82.9  \n",
       "3                                     88.5  \n",
       "4                                     76.9  \n",
       "5                                     84.0  \n",
       "6                                     90.0  \n",
       "7                                     86.3  \n",
       "8                                     83.1  \n",
       "9                                     91.1  \n",
       "10                                    77.1  \n",
       "11                                    82.3  \n",
       "12                                    85.8  \n",
       "13                                    95.1  \n",
       "14                                    82.8  \n",
       "15                                    88.7  \n",
       "16                                    85.4  \n",
       "17                                    90.8  \n",
       "18                                    97.6  \n",
       "19                                    89.6  \n",
       "20                                    85.7  \n",
       "21                                    83.2  \n",
       "22                                    79.7  \n",
       "23                                    88.7  \n",
       "24                                    87.0  \n",
       "25                                    93.5  \n",
       "26                                    75.1  \n",
       "27                                    84.5  \n",
       "28                                    84.8  \n",
       "29                                    90.1  \n",
       "30                                    86.2  \n",
       "31                                    89.8  \n",
       "32                                    89.0  \n",
       "33                                    91.9  \n",
       "34                                    86.3  \n",
       "35                                    88.5  "
      ]
     },
     "execution_count": 123,
     "metadata": {},
     "output_type": "execute_result"
    }
   ],
   "source": [
    "df"
   ]
  },
  {
   "cell_type": "code",
   "execution_count": 124,
   "metadata": {},
   "outputs": [
    {
     "data": {
      "text/html": [
       "<div>\n",
       "<style scoped>\n",
       "    .dataframe tbody tr th:only-of-type {\n",
       "        vertical-align: middle;\n",
       "    }\n",
       "\n",
       "    .dataframe tbody tr th {\n",
       "        vertical-align: top;\n",
       "    }\n",
       "\n",
       "    .dataframe thead th {\n",
       "        text-align: right;\n",
       "    }\n",
       "</style>\n",
       "<table border=\"1\" class=\"dataframe\">\n",
       "  <thead>\n",
       "    <tr style=\"text-align: right;\">\n",
       "      <th></th>\n",
       "      <th>Category</th>\n",
       "      <th>Country/ States/ Union Territories Name</th>\n",
       "      <th>Literacy Rate (Persons) - Total - 2001</th>\n",
       "      <th>Literacy Rate (Persons) - Total - 2011</th>\n",
       "      <th>Literacy Rate (Persons) - Rural - 2001</th>\n",
       "      <th>Literacy Rate (Persons) - Rural - 2011</th>\n",
       "      <th>Literacy Rate (Persons) - Urban - 2001</th>\n",
       "      <th>Literacy Rate (Persons) - Urban - 2011</th>\n",
       "    </tr>\n",
       "  </thead>\n",
       "  <tbody>\n",
       "    <tr>\n",
       "      <th>count</th>\n",
       "      <td>36</td>\n",
       "      <td>36</td>\n",
       "      <td>36.000000</td>\n",
       "      <td>36.000000</td>\n",
       "      <td>36.000000</td>\n",
       "      <td>36.000000</td>\n",
       "      <td>36.000000</td>\n",
       "      <td>36.000000</td>\n",
       "    </tr>\n",
       "    <tr>\n",
       "      <th>unique</th>\n",
       "      <td>3</td>\n",
       "      <td>36</td>\n",
       "      <td>NaN</td>\n",
       "      <td>NaN</td>\n",
       "      <td>NaN</td>\n",
       "      <td>NaN</td>\n",
       "      <td>NaN</td>\n",
       "      <td>NaN</td>\n",
       "    </tr>\n",
       "    <tr>\n",
       "      <th>top</th>\n",
       "      <td>State</td>\n",
       "      <td>Karnataka</td>\n",
       "      <td>NaN</td>\n",
       "      <td>NaN</td>\n",
       "      <td>NaN</td>\n",
       "      <td>NaN</td>\n",
       "      <td>NaN</td>\n",
       "      <td>NaN</td>\n",
       "    </tr>\n",
       "    <tr>\n",
       "      <th>freq</th>\n",
       "      <td>28</td>\n",
       "      <td>1</td>\n",
       "      <td>NaN</td>\n",
       "      <td>NaN</td>\n",
       "      <td>NaN</td>\n",
       "      <td>NaN</td>\n",
       "      <td>NaN</td>\n",
       "      <td>NaN</td>\n",
       "    </tr>\n",
       "    <tr>\n",
       "      <th>mean</th>\n",
       "      <td>NaN</td>\n",
       "      <td>NaN</td>\n",
       "      <td>69.433333</td>\n",
       "      <td>77.711111</td>\n",
       "      <td>64.669444</td>\n",
       "      <td>73.413889</td>\n",
       "      <td>82.161111</td>\n",
       "      <td>86.283333</td>\n",
       "    </tr>\n",
       "    <tr>\n",
       "      <th>std</th>\n",
       "      <td>NaN</td>\n",
       "      <td>NaN</td>\n",
       "      <td>10.647709</td>\n",
       "      <td>8.497723</td>\n",
       "      <td>11.459440</td>\n",
       "      <td>9.190497</td>\n",
       "      <td>5.463138</td>\n",
       "      <td>4.982856</td>\n",
       "    </tr>\n",
       "    <tr>\n",
       "      <th>min</th>\n",
       "      <td>NaN</td>\n",
       "      <td>NaN</td>\n",
       "      <td>47.000000</td>\n",
       "      <td>61.800000</td>\n",
       "      <td>43.900000</td>\n",
       "      <td>59.800000</td>\n",
       "      <td>69.800000</td>\n",
       "      <td>75.100000</td>\n",
       "    </tr>\n",
       "    <tr>\n",
       "      <th>25%</th>\n",
       "      <td>NaN</td>\n",
       "      <td>NaN</td>\n",
       "      <td>62.975000</td>\n",
       "      <td>71.725000</td>\n",
       "      <td>57.425000</td>\n",
       "      <td>65.875000</td>\n",
       "      <td>79.275000</td>\n",
       "      <td>83.175000</td>\n",
       "    </tr>\n",
       "    <tr>\n",
       "      <th>50%</th>\n",
       "      <td>NaN</td>\n",
       "      <td>NaN</td>\n",
       "      <td>68.700000</td>\n",
       "      <td>76.600000</td>\n",
       "      <td>63.300000</td>\n",
       "      <td>71.900000</td>\n",
       "      <td>81.850000</td>\n",
       "      <td>86.250000</td>\n",
       "    </tr>\n",
       "    <tr>\n",
       "      <th>75%</th>\n",
       "      <td>NaN</td>\n",
       "      <td>NaN</td>\n",
       "      <td>77.225000</td>\n",
       "      <td>85.850000</td>\n",
       "      <td>74.275000</td>\n",
       "      <td>80.875000</td>\n",
       "      <td>84.925000</td>\n",
       "      <td>89.650000</td>\n",
       "    </tr>\n",
       "    <tr>\n",
       "      <th>max</th>\n",
       "      <td>NaN</td>\n",
       "      <td>NaN</td>\n",
       "      <td>90.900000</td>\n",
       "      <td>94.000000</td>\n",
       "      <td>90.000000</td>\n",
       "      <td>93.000000</td>\n",
       "      <td>96.100000</td>\n",
       "      <td>97.600000</td>\n",
       "    </tr>\n",
       "  </tbody>\n",
       "</table>\n",
       "</div>"
      ],
      "text/plain": [
       "       Category Country/ States/ Union Territories Name  \\\n",
       "count        36                                      36   \n",
       "unique        3                                      36   \n",
       "top       State                               Karnataka   \n",
       "freq         28                                       1   \n",
       "mean        NaN                                     NaN   \n",
       "std         NaN                                     NaN   \n",
       "min         NaN                                     NaN   \n",
       "25%         NaN                                     NaN   \n",
       "50%         NaN                                     NaN   \n",
       "75%         NaN                                     NaN   \n",
       "max         NaN                                     NaN   \n",
       "\n",
       "        Literacy Rate (Persons) - Total - 2001  \\\n",
       "count                                36.000000   \n",
       "unique                                     NaN   \n",
       "top                                        NaN   \n",
       "freq                                       NaN   \n",
       "mean                                 69.433333   \n",
       "std                                  10.647709   \n",
       "min                                  47.000000   \n",
       "25%                                  62.975000   \n",
       "50%                                  68.700000   \n",
       "75%                                  77.225000   \n",
       "max                                  90.900000   \n",
       "\n",
       "        Literacy Rate (Persons) - Total - 2011  \\\n",
       "count                                36.000000   \n",
       "unique                                     NaN   \n",
       "top                                        NaN   \n",
       "freq                                       NaN   \n",
       "mean                                 77.711111   \n",
       "std                                   8.497723   \n",
       "min                                  61.800000   \n",
       "25%                                  71.725000   \n",
       "50%                                  76.600000   \n",
       "75%                                  85.850000   \n",
       "max                                  94.000000   \n",
       "\n",
       "        Literacy Rate (Persons) - Rural - 2001  \\\n",
       "count                                36.000000   \n",
       "unique                                     NaN   \n",
       "top                                        NaN   \n",
       "freq                                       NaN   \n",
       "mean                                 64.669444   \n",
       "std                                  11.459440   \n",
       "min                                  43.900000   \n",
       "25%                                  57.425000   \n",
       "50%                                  63.300000   \n",
       "75%                                  74.275000   \n",
       "max                                  90.000000   \n",
       "\n",
       "        Literacy Rate (Persons) - Rural - 2011  \\\n",
       "count                                36.000000   \n",
       "unique                                     NaN   \n",
       "top                                        NaN   \n",
       "freq                                       NaN   \n",
       "mean                                 73.413889   \n",
       "std                                   9.190497   \n",
       "min                                  59.800000   \n",
       "25%                                  65.875000   \n",
       "50%                                  71.900000   \n",
       "75%                                  80.875000   \n",
       "max                                  93.000000   \n",
       "\n",
       "        Literacy Rate (Persons) - Urban - 2001  \\\n",
       "count                                36.000000   \n",
       "unique                                     NaN   \n",
       "top                                        NaN   \n",
       "freq                                       NaN   \n",
       "mean                                 82.161111   \n",
       "std                                   5.463138   \n",
       "min                                  69.800000   \n",
       "25%                                  79.275000   \n",
       "50%                                  81.850000   \n",
       "75%                                  84.925000   \n",
       "max                                  96.100000   \n",
       "\n",
       "        Literacy Rate (Persons) - Urban - 2011  \n",
       "count                                36.000000  \n",
       "unique                                     NaN  \n",
       "top                                        NaN  \n",
       "freq                                       NaN  \n",
       "mean                                 86.283333  \n",
       "std                                   4.982856  \n",
       "min                                  75.100000  \n",
       "25%                                  83.175000  \n",
       "50%                                  86.250000  \n",
       "75%                                  89.650000  \n",
       "max                                  97.600000  "
      ]
     },
     "execution_count": 124,
     "metadata": {},
     "output_type": "execute_result"
    }
   ],
   "source": [
    "df.describe(include='all')"
   ]
  },
  {
   "cell_type": "code",
   "execution_count": 125,
   "metadata": {},
   "outputs": [
    {
     "data": {
      "text/plain": [
       "(36, 8)"
      ]
     },
     "execution_count": 125,
     "metadata": {},
     "output_type": "execute_result"
    }
   ],
   "source": [
    "df.shape"
   ]
  },
  {
   "cell_type": "code",
   "execution_count": 126,
   "metadata": {},
   "outputs": [
    {
     "data": {
      "text/html": [
       "<div>\n",
       "<style scoped>\n",
       "    .dataframe tbody tr th:only-of-type {\n",
       "        vertical-align: middle;\n",
       "    }\n",
       "\n",
       "    .dataframe tbody tr th {\n",
       "        vertical-align: top;\n",
       "    }\n",
       "\n",
       "    .dataframe thead th {\n",
       "        text-align: right;\n",
       "    }\n",
       "</style>\n",
       "<table border=\"1\" class=\"dataframe\">\n",
       "  <thead>\n",
       "    <tr style=\"text-align: right;\">\n",
       "      <th></th>\n",
       "      <th>Country/ States/ Union Territories Name</th>\n",
       "      <th>Literacy Rate (Persons) - Total - 2001</th>\n",
       "      <th>Literacy Rate (Persons) - Total - 2011</th>\n",
       "    </tr>\n",
       "  </thead>\n",
       "  <tbody>\n",
       "    <tr>\n",
       "      <th>0</th>\n",
       "      <td>INDIA</td>\n",
       "      <td>64.8</td>\n",
       "      <td>73.0</td>\n",
       "    </tr>\n",
       "    <tr>\n",
       "      <th>1</th>\n",
       "      <td>Andhra Pradesh</td>\n",
       "      <td>60.5</td>\n",
       "      <td>67.0</td>\n",
       "    </tr>\n",
       "    <tr>\n",
       "      <th>2</th>\n",
       "      <td>Arunachal Pradesh</td>\n",
       "      <td>54.3</td>\n",
       "      <td>65.4</td>\n",
       "    </tr>\n",
       "    <tr>\n",
       "      <th>3</th>\n",
       "      <td>Assam</td>\n",
       "      <td>63.3</td>\n",
       "      <td>72.2</td>\n",
       "    </tr>\n",
       "  </tbody>\n",
       "</table>\n",
       "</div>"
      ],
      "text/plain": [
       "  Country/ States/ Union Territories Name  \\\n",
       "0                                   INDIA   \n",
       "1                          Andhra Pradesh   \n",
       "2                       Arunachal Pradesh   \n",
       "3                                   Assam   \n",
       "\n",
       "   Literacy Rate (Persons) - Total - 2001  \\\n",
       "0                                    64.8   \n",
       "1                                    60.5   \n",
       "2                                    54.3   \n",
       "3                                    63.3   \n",
       "\n",
       "   Literacy Rate (Persons) - Total - 2011  \n",
       "0                                    73.0  \n",
       "1                                    67.0  \n",
       "2                                    65.4  \n",
       "3                                    72.2  "
      ]
     },
     "execution_count": 126,
     "metadata": {},
     "output_type": "execute_result"
    }
   ],
   "source": [
    "df.iloc[0:4,1:4]"
   ]
  },
  {
   "cell_type": "code",
   "execution_count": 127,
   "metadata": {},
   "outputs": [
    {
     "data": {
      "text/html": [
       "<div>\n",
       "<style scoped>\n",
       "    .dataframe tbody tr th:only-of-type {\n",
       "        vertical-align: middle;\n",
       "    }\n",
       "\n",
       "    .dataframe tbody tr th {\n",
       "        vertical-align: top;\n",
       "    }\n",
       "\n",
       "    .dataframe thead th {\n",
       "        text-align: right;\n",
       "    }\n",
       "</style>\n",
       "<table border=\"1\" class=\"dataframe\">\n",
       "  <thead>\n",
       "    <tr style=\"text-align: right;\">\n",
       "      <th></th>\n",
       "      <th>Country/ States/ Union Territories Name</th>\n",
       "      <th>Literacy Rate (Persons) - Total - 2001</th>\n",
       "      <th>Literacy Rate (Persons) - Total - 2011</th>\n",
       "    </tr>\n",
       "  </thead>\n",
       "  <tbody>\n",
       "    <tr>\n",
       "      <th>0</th>\n",
       "      <td>INDIA</td>\n",
       "      <td>64.8</td>\n",
       "      <td>73.0</td>\n",
       "    </tr>\n",
       "    <tr>\n",
       "      <th>1</th>\n",
       "      <td>Andhra Pradesh</td>\n",
       "      <td>60.5</td>\n",
       "      <td>67.0</td>\n",
       "    </tr>\n",
       "    <tr>\n",
       "      <th>2</th>\n",
       "      <td>Arunachal Pradesh</td>\n",
       "      <td>54.3</td>\n",
       "      <td>65.4</td>\n",
       "    </tr>\n",
       "    <tr>\n",
       "      <th>3</th>\n",
       "      <td>Assam</td>\n",
       "      <td>63.3</td>\n",
       "      <td>72.2</td>\n",
       "    </tr>\n",
       "    <tr>\n",
       "      <th>4</th>\n",
       "      <td>Bihar</td>\n",
       "      <td>47.0</td>\n",
       "      <td>61.8</td>\n",
       "    </tr>\n",
       "    <tr>\n",
       "      <th>5</th>\n",
       "      <td>Chhattisgarh</td>\n",
       "      <td>64.7</td>\n",
       "      <td>70.3</td>\n",
       "    </tr>\n",
       "    <tr>\n",
       "      <th>6</th>\n",
       "      <td>Goa</td>\n",
       "      <td>82.0</td>\n",
       "      <td>88.7</td>\n",
       "    </tr>\n",
       "    <tr>\n",
       "      <th>7</th>\n",
       "      <td>Gujarat</td>\n",
       "      <td>69.1</td>\n",
       "      <td>78.0</td>\n",
       "    </tr>\n",
       "    <tr>\n",
       "      <th>8</th>\n",
       "      <td>Haryana</td>\n",
       "      <td>67.9</td>\n",
       "      <td>75.6</td>\n",
       "    </tr>\n",
       "    <tr>\n",
       "      <th>9</th>\n",
       "      <td>Himachal Pradesh</td>\n",
       "      <td>76.5</td>\n",
       "      <td>82.8</td>\n",
       "    </tr>\n",
       "    <tr>\n",
       "      <th>10</th>\n",
       "      <td>Jammu &amp; Kashmir</td>\n",
       "      <td>55.5</td>\n",
       "      <td>67.2</td>\n",
       "    </tr>\n",
       "    <tr>\n",
       "      <th>11</th>\n",
       "      <td>Jharkhand</td>\n",
       "      <td>53.6</td>\n",
       "      <td>66.4</td>\n",
       "    </tr>\n",
       "    <tr>\n",
       "      <th>12</th>\n",
       "      <td>Karnataka</td>\n",
       "      <td>66.6</td>\n",
       "      <td>75.4</td>\n",
       "    </tr>\n",
       "    <tr>\n",
       "      <th>13</th>\n",
       "      <td>Kerala</td>\n",
       "      <td>90.9</td>\n",
       "      <td>94.0</td>\n",
       "    </tr>\n",
       "    <tr>\n",
       "      <th>14</th>\n",
       "      <td>Madhya Pradesh</td>\n",
       "      <td>63.7</td>\n",
       "      <td>69.3</td>\n",
       "    </tr>\n",
       "    <tr>\n",
       "      <th>15</th>\n",
       "      <td>Maharashtra</td>\n",
       "      <td>76.9</td>\n",
       "      <td>82.3</td>\n",
       "    </tr>\n",
       "    <tr>\n",
       "      <th>16</th>\n",
       "      <td>Manipur</td>\n",
       "      <td>70.5</td>\n",
       "      <td>76.9</td>\n",
       "    </tr>\n",
       "    <tr>\n",
       "      <th>17</th>\n",
       "      <td>Meghalaya</td>\n",
       "      <td>62.6</td>\n",
       "      <td>74.4</td>\n",
       "    </tr>\n",
       "    <tr>\n",
       "      <th>18</th>\n",
       "      <td>Mizoram</td>\n",
       "      <td>88.8</td>\n",
       "      <td>91.3</td>\n",
       "    </tr>\n",
       "    <tr>\n",
       "      <th>19</th>\n",
       "      <td>Nagaland</td>\n",
       "      <td>66.6</td>\n",
       "      <td>79.6</td>\n",
       "    </tr>\n",
       "    <tr>\n",
       "      <th>20</th>\n",
       "      <td>Odisha</td>\n",
       "      <td>63.1</td>\n",
       "      <td>72.9</td>\n",
       "    </tr>\n",
       "    <tr>\n",
       "      <th>21</th>\n",
       "      <td>Punjab</td>\n",
       "      <td>69.7</td>\n",
       "      <td>75.8</td>\n",
       "    </tr>\n",
       "    <tr>\n",
       "      <th>22</th>\n",
       "      <td>Rajasthan</td>\n",
       "      <td>60.4</td>\n",
       "      <td>66.1</td>\n",
       "    </tr>\n",
       "    <tr>\n",
       "      <th>23</th>\n",
       "      <td>Sikkim</td>\n",
       "      <td>68.8</td>\n",
       "      <td>81.4</td>\n",
       "    </tr>\n",
       "    <tr>\n",
       "      <th>24</th>\n",
       "      <td>Tamil Nadu</td>\n",
       "      <td>73.5</td>\n",
       "      <td>80.1</td>\n",
       "    </tr>\n",
       "    <tr>\n",
       "      <th>25</th>\n",
       "      <td>Tripura</td>\n",
       "      <td>73.2</td>\n",
       "      <td>87.2</td>\n",
       "    </tr>\n",
       "    <tr>\n",
       "      <th>26</th>\n",
       "      <td>Uttar Pradesh</td>\n",
       "      <td>56.3</td>\n",
       "      <td>67.7</td>\n",
       "    </tr>\n",
       "    <tr>\n",
       "      <th>27</th>\n",
       "      <td>Uttarakhand</td>\n",
       "      <td>71.6</td>\n",
       "      <td>78.8</td>\n",
       "    </tr>\n",
       "    <tr>\n",
       "      <th>28</th>\n",
       "      <td>West Bengal</td>\n",
       "      <td>68.6</td>\n",
       "      <td>76.3</td>\n",
       "    </tr>\n",
       "    <tr>\n",
       "      <th>29</th>\n",
       "      <td>A &amp; N Islands</td>\n",
       "      <td>81.3</td>\n",
       "      <td>86.6</td>\n",
       "    </tr>\n",
       "    <tr>\n",
       "      <th>30</th>\n",
       "      <td>Chandigarh</td>\n",
       "      <td>81.9</td>\n",
       "      <td>86.0</td>\n",
       "    </tr>\n",
       "    <tr>\n",
       "      <th>31</th>\n",
       "      <td>D &amp; N Haveli</td>\n",
       "      <td>57.6</td>\n",
       "      <td>76.2</td>\n",
       "    </tr>\n",
       "    <tr>\n",
       "      <th>32</th>\n",
       "      <td>Daman &amp; Diu</td>\n",
       "      <td>78.2</td>\n",
       "      <td>87.1</td>\n",
       "    </tr>\n",
       "    <tr>\n",
       "      <th>33</th>\n",
       "      <td>Lakshadweep</td>\n",
       "      <td>86.7</td>\n",
       "      <td>91.8</td>\n",
       "    </tr>\n",
       "    <tr>\n",
       "      <th>34</th>\n",
       "      <td>NCT of Delhi</td>\n",
       "      <td>81.7</td>\n",
       "      <td>86.2</td>\n",
       "    </tr>\n",
       "    <tr>\n",
       "      <th>35</th>\n",
       "      <td>Puducherry</td>\n",
       "      <td>81.2</td>\n",
       "      <td>85.8</td>\n",
       "    </tr>\n",
       "  </tbody>\n",
       "</table>\n",
       "</div>"
      ],
      "text/plain": [
       "   Country/ States/ Union Territories Name  \\\n",
       "0                                    INDIA   \n",
       "1                           Andhra Pradesh   \n",
       "2                        Arunachal Pradesh   \n",
       "3                                    Assam   \n",
       "4                                    Bihar   \n",
       "5                             Chhattisgarh   \n",
       "6                                      Goa   \n",
       "7                                  Gujarat   \n",
       "8                                  Haryana   \n",
       "9                         Himachal Pradesh   \n",
       "10                         Jammu & Kashmir   \n",
       "11                               Jharkhand   \n",
       "12                               Karnataka   \n",
       "13                                  Kerala   \n",
       "14                          Madhya Pradesh   \n",
       "15                             Maharashtra   \n",
       "16                                 Manipur   \n",
       "17                               Meghalaya   \n",
       "18                                 Mizoram   \n",
       "19                                Nagaland   \n",
       "20                                  Odisha   \n",
       "21                                  Punjab   \n",
       "22                               Rajasthan   \n",
       "23                                  Sikkim   \n",
       "24                              Tamil Nadu   \n",
       "25                                 Tripura   \n",
       "26                           Uttar Pradesh   \n",
       "27                             Uttarakhand   \n",
       "28                             West Bengal   \n",
       "29                           A & N Islands   \n",
       "30                              Chandigarh   \n",
       "31                            D & N Haveli   \n",
       "32                             Daman & Diu   \n",
       "33                             Lakshadweep   \n",
       "34                            NCT of Delhi   \n",
       "35                              Puducherry   \n",
       "\n",
       "    Literacy Rate (Persons) - Total - 2001  \\\n",
       "0                                     64.8   \n",
       "1                                     60.5   \n",
       "2                                     54.3   \n",
       "3                                     63.3   \n",
       "4                                     47.0   \n",
       "5                                     64.7   \n",
       "6                                     82.0   \n",
       "7                                     69.1   \n",
       "8                                     67.9   \n",
       "9                                     76.5   \n",
       "10                                    55.5   \n",
       "11                                    53.6   \n",
       "12                                    66.6   \n",
       "13                                    90.9   \n",
       "14                                    63.7   \n",
       "15                                    76.9   \n",
       "16                                    70.5   \n",
       "17                                    62.6   \n",
       "18                                    88.8   \n",
       "19                                    66.6   \n",
       "20                                    63.1   \n",
       "21                                    69.7   \n",
       "22                                    60.4   \n",
       "23                                    68.8   \n",
       "24                                    73.5   \n",
       "25                                    73.2   \n",
       "26                                    56.3   \n",
       "27                                    71.6   \n",
       "28                                    68.6   \n",
       "29                                    81.3   \n",
       "30                                    81.9   \n",
       "31                                    57.6   \n",
       "32                                    78.2   \n",
       "33                                    86.7   \n",
       "34                                    81.7   \n",
       "35                                    81.2   \n",
       "\n",
       "    Literacy Rate (Persons) - Total - 2011  \n",
       "0                                     73.0  \n",
       "1                                     67.0  \n",
       "2                                     65.4  \n",
       "3                                     72.2  \n",
       "4                                     61.8  \n",
       "5                                     70.3  \n",
       "6                                     88.7  \n",
       "7                                     78.0  \n",
       "8                                     75.6  \n",
       "9                                     82.8  \n",
       "10                                    67.2  \n",
       "11                                    66.4  \n",
       "12                                    75.4  \n",
       "13                                    94.0  \n",
       "14                                    69.3  \n",
       "15                                    82.3  \n",
       "16                                    76.9  \n",
       "17                                    74.4  \n",
       "18                                    91.3  \n",
       "19                                    79.6  \n",
       "20                                    72.9  \n",
       "21                                    75.8  \n",
       "22                                    66.1  \n",
       "23                                    81.4  \n",
       "24                                    80.1  \n",
       "25                                    87.2  \n",
       "26                                    67.7  \n",
       "27                                    78.8  \n",
       "28                                    76.3  \n",
       "29                                    86.6  \n",
       "30                                    86.0  \n",
       "31                                    76.2  \n",
       "32                                    87.1  \n",
       "33                                    91.8  \n",
       "34                                    86.2  \n",
       "35                                    85.8  "
      ]
     },
     "execution_count": 127,
     "metadata": {},
     "output_type": "execute_result"
    }
   ],
   "source": [
    "df.iloc[:,1:4]"
   ]
  },
  {
   "cell_type": "code",
   "execution_count": 128,
   "metadata": {},
   "outputs": [
    {
     "data": {
      "text/html": [
       "<div>\n",
       "<style scoped>\n",
       "    .dataframe tbody tr th:only-of-type {\n",
       "        vertical-align: middle;\n",
       "    }\n",
       "\n",
       "    .dataframe tbody tr th {\n",
       "        vertical-align: top;\n",
       "    }\n",
       "\n",
       "    .dataframe thead th {\n",
       "        text-align: right;\n",
       "    }\n",
       "</style>\n",
       "<table border=\"1\" class=\"dataframe\">\n",
       "  <thead>\n",
       "    <tr style=\"text-align: right;\">\n",
       "      <th></th>\n",
       "      <th>Category</th>\n",
       "      <th>Country/ States/ Union Territories Name</th>\n",
       "      <th>Literacy Rate (Persons) - Total - 2001</th>\n",
       "      <th>Literacy Rate (Persons) - Total - 2011</th>\n",
       "      <th>Literacy Rate (Persons) - Rural - 2001</th>\n",
       "      <th>Literacy Rate (Persons) - Rural - 2011</th>\n",
       "      <th>Literacy Rate (Persons) - Urban - 2001</th>\n",
       "      <th>Literacy Rate (Persons) - Urban - 2011</th>\n",
       "    </tr>\n",
       "  </thead>\n",
       "  <tbody>\n",
       "    <tr>\n",
       "      <th>0</th>\n",
       "      <td>Country</td>\n",
       "      <td>INDIA</td>\n",
       "      <td>64.8</td>\n",
       "      <td>73.0</td>\n",
       "      <td>58.7</td>\n",
       "      <td>67.8</td>\n",
       "      <td>79.9</td>\n",
       "      <td>84.1</td>\n",
       "    </tr>\n",
       "    <tr>\n",
       "      <th>1</th>\n",
       "      <td>State</td>\n",
       "      <td>Andhra Pradesh</td>\n",
       "      <td>60.5</td>\n",
       "      <td>67.0</td>\n",
       "      <td>54.5</td>\n",
       "      <td>60.4</td>\n",
       "      <td>76.1</td>\n",
       "      <td>80.1</td>\n",
       "    </tr>\n",
       "    <tr>\n",
       "      <th>2</th>\n",
       "      <td>State</td>\n",
       "      <td>Arunachal Pradesh</td>\n",
       "      <td>54.3</td>\n",
       "      <td>65.4</td>\n",
       "      <td>47.8</td>\n",
       "      <td>59.9</td>\n",
       "      <td>78.3</td>\n",
       "      <td>82.9</td>\n",
       "    </tr>\n",
       "    <tr>\n",
       "      <th>3</th>\n",
       "      <td>State</td>\n",
       "      <td>Assam</td>\n",
       "      <td>63.3</td>\n",
       "      <td>72.2</td>\n",
       "      <td>59.7</td>\n",
       "      <td>69.3</td>\n",
       "      <td>85.3</td>\n",
       "      <td>88.5</td>\n",
       "    </tr>\n",
       "  </tbody>\n",
       "</table>\n",
       "</div>"
      ],
      "text/plain": [
       "  Category Country/ States/ Union Territories Name  \\\n",
       "0  Country                                   INDIA   \n",
       "1    State                          Andhra Pradesh   \n",
       "2    State                       Arunachal Pradesh   \n",
       "3    State                                   Assam   \n",
       "\n",
       "   Literacy Rate (Persons) - Total - 2001  \\\n",
       "0                                    64.8   \n",
       "1                                    60.5   \n",
       "2                                    54.3   \n",
       "3                                    63.3   \n",
       "\n",
       "   Literacy Rate (Persons) - Total - 2011  \\\n",
       "0                                    73.0   \n",
       "1                                    67.0   \n",
       "2                                    65.4   \n",
       "3                                    72.2   \n",
       "\n",
       "   Literacy Rate (Persons) - Rural - 2001  \\\n",
       "0                                    58.7   \n",
       "1                                    54.5   \n",
       "2                                    47.8   \n",
       "3                                    59.7   \n",
       "\n",
       "   Literacy Rate (Persons) - Rural - 2011  \\\n",
       "0                                    67.8   \n",
       "1                                    60.4   \n",
       "2                                    59.9   \n",
       "3                                    69.3   \n",
       "\n",
       "   Literacy Rate (Persons) - Urban - 2001  \\\n",
       "0                                    79.9   \n",
       "1                                    76.1   \n",
       "2                                    78.3   \n",
       "3                                    85.3   \n",
       "\n",
       "   Literacy Rate (Persons) - Urban - 2011  \n",
       "0                                    84.1  \n",
       "1                                    80.1  \n",
       "2                                    82.9  \n",
       "3                                    88.5  "
      ]
     },
     "execution_count": 128,
     "metadata": {},
     "output_type": "execute_result"
    }
   ],
   "source": [
    "df.iloc[0:4,:]"
   ]
  },
  {
   "cell_type": "code",
   "execution_count": 129,
   "metadata": {},
   "outputs": [
    {
     "data": {
      "text/plain": [
       "0    Country\n",
       "1      State\n",
       "2      State\n",
       "3      State\n",
       "4      State\n",
       "Name: Category, dtype: object"
      ]
     },
     "execution_count": 129,
     "metadata": {},
     "output_type": "execute_result"
    }
   ],
   "source": [
    "df.loc[0:4,'Category']"
   ]
  },
  {
   "cell_type": "code",
   "execution_count": 130,
   "metadata": {},
   "outputs": [
    {
     "data": {
      "text/plain": [
       "0      True\n",
       "1      True\n",
       "2     False\n",
       "3      True\n",
       "4     False\n",
       "5      True\n",
       "6      True\n",
       "7      True\n",
       "8      True\n",
       "9      True\n",
       "10    False\n",
       "11    False\n",
       "12     True\n",
       "13     True\n",
       "14     True\n",
       "15     True\n",
       "16     True\n",
       "17     True\n",
       "18     True\n",
       "19     True\n",
       "20     True\n",
       "21     True\n",
       "22     True\n",
       "23     True\n",
       "24     True\n",
       "25     True\n",
       "26    False\n",
       "27     True\n",
       "28     True\n",
       "29     True\n",
       "30     True\n",
       "31    False\n",
       "32     True\n",
       "33     True\n",
       "34     True\n",
       "35     True\n",
       "Name: Literacy Rate (Persons) - Total - 2001, dtype: bool"
      ]
     },
     "execution_count": 130,
     "metadata": {},
     "output_type": "execute_result"
    }
   ],
   "source": [
    "df['Literacy Rate (Persons) - Total - 2001'] >= 60.0"
   ]
  },
  {
   "cell_type": "code",
   "execution_count": 131,
   "metadata": {},
   "outputs": [
    {
     "data": {
      "text/plain": [
       "<AxesSubplot:ylabel='Frequency'>"
      ]
     },
     "execution_count": 131,
     "metadata": {},
     "output_type": "execute_result"
    },
    {
     "data": {
      "image/png": "[encoded data removed]",
      "text/plain": [
       "<Figure size 432x288 with 1 Axes>"
      ]
     },
     "metadata": {
      "needs_background": "light"
     },
     "output_type": "display_data"
    }
   ],
   "source": [
    "df['Literacy Rate (Persons) - Total - 2001'].plot.hist()"
   ]
  },
  {
   "cell_type": "code",
   "execution_count": 132,
   "metadata": {},
   "outputs": [
    {
     "name": "stdout",
     "output_type": "stream",
     "text": [
      "   id name   sub\n",
      "0   1    a  sub1\n",
      "1   2    b  sub2\n",
      "2   3    c  sub3\n",
      "3   4    d  sub4\n",
      "4   5    e  sub5\n",
      "   id name   sub\n",
      "0   1    a  sub3\n",
      "1   2    b  sub4\n",
      "2   3    c  sub5\n",
      "3   4    d  sub6\n",
      "4   5    e  sub7\n"
     ]
    }
   ],
   "source": [
    "import pandas as pd\n",
    "\n",
    "df1 = pd.DataFrame({'id': [1,2,3,4,5],'name': ['a', 'b', 'c', 'd','e'],'sub': ['sub1','sub2','sub3','sub4','sub5']})\n",
    "df2 = pd.DataFrame({'id': [1,2,3,4,5],'name': ['a', 'b', 'c', 'd','e'],'sub': ['sub3','sub4','sub5','sub6','sub7']})\n",
    "print(df1)\n",
    "\n",
    "print(df2)"
   ]
  },
  {
   "cell_type": "code",
   "execution_count": 133,
   "metadata": {},
   "outputs": [
    {
     "data": {
      "text/html": [
       "<div>\n",
       "<style scoped>\n",
       "    .dataframe tbody tr th:only-of-type {\n",
       "        vertical-align: middle;\n",
       "    }\n",
       "\n",
       "    .dataframe tbody tr th {\n",
       "        vertical-align: top;\n",
       "    }\n",
       "\n",
       "    .dataframe thead th {\n",
       "        text-align: right;\n",
       "    }\n",
       "</style>\n",
       "<table border=\"1\" class=\"dataframe\">\n",
       "  <thead>\n",
       "    <tr style=\"text-align: right;\">\n",
       "      <th></th>\n",
       "      <th>id</th>\n",
       "      <th>name</th>\n",
       "      <th>sub</th>\n",
       "    </tr>\n",
       "  </thead>\n",
       "  <tbody>\n",
       "    <tr>\n",
       "      <th>0</th>\n",
       "      <td>1</td>\n",
       "      <td>a</td>\n",
       "      <td>sub1</td>\n",
       "    </tr>\n",
       "    <tr>\n",
       "      <th>1</th>\n",
       "      <td>2</td>\n",
       "      <td>b</td>\n",
       "      <td>sub2</td>\n",
       "    </tr>\n",
       "    <tr>\n",
       "      <th>2</th>\n",
       "      <td>3</td>\n",
       "      <td>c</td>\n",
       "      <td>sub3</td>\n",
       "    </tr>\n",
       "    <tr>\n",
       "      <th>3</th>\n",
       "      <td>4</td>\n",
       "      <td>d</td>\n",
       "      <td>sub4</td>\n",
       "    </tr>\n",
       "    <tr>\n",
       "      <th>4</th>\n",
       "      <td>5</td>\n",
       "      <td>e</td>\n",
       "      <td>sub5</td>\n",
       "    </tr>\n",
       "    <tr>\n",
       "      <th>0</th>\n",
       "      <td>1</td>\n",
       "      <td>a</td>\n",
       "      <td>sub3</td>\n",
       "    </tr>\n",
       "    <tr>\n",
       "      <th>1</th>\n",
       "      <td>2</td>\n",
       "      <td>b</td>\n",
       "      <td>sub4</td>\n",
       "    </tr>\n",
       "    <tr>\n",
       "      <th>2</th>\n",
       "      <td>3</td>\n",
       "      <td>c</td>\n",
       "      <td>sub5</td>\n",
       "    </tr>\n",
       "    <tr>\n",
       "      <th>3</th>\n",
       "      <td>4</td>\n",
       "      <td>d</td>\n",
       "      <td>sub6</td>\n",
       "    </tr>\n",
       "    <tr>\n",
       "      <th>4</th>\n",
       "      <td>5</td>\n",
       "      <td>e</td>\n",
       "      <td>sub7</td>\n",
       "    </tr>\n",
       "  </tbody>\n",
       "</table>\n",
       "</div>"
      ],
      "text/plain": [
       "   id name   sub\n",
       "0   1    a  sub1\n",
       "1   2    b  sub2\n",
       "2   3    c  sub3\n",
       "3   4    d  sub4\n",
       "4   5    e  sub5\n",
       "0   1    a  sub3\n",
       "1   2    b  sub4\n",
       "2   3    c  sub5\n",
       "3   4    d  sub6\n",
       "4   5    e  sub7"
      ]
     },
     "execution_count": 133,
     "metadata": {},
     "output_type": "execute_result"
    }
   ],
   "source": [
    "pd.concat([df1,df2], axis = 0)"
   ]
  },
  {
   "cell_type": "code",
   "execution_count": 134,
   "metadata": {},
   "outputs": [
    {
     "data": {
      "text/html": [
       "<div>\n",
       "<style scoped>\n",
       "    .dataframe tbody tr th:only-of-type {\n",
       "        vertical-align: middle;\n",
       "    }\n",
       "\n",
       "    .dataframe tbody tr th {\n",
       "        vertical-align: top;\n",
       "    }\n",
       "\n",
       "    .dataframe thead th {\n",
       "        text-align: right;\n",
       "    }\n",
       "</style>\n",
       "<table border=\"1\" class=\"dataframe\">\n",
       "  <thead>\n",
       "    <tr style=\"text-align: right;\">\n",
       "      <th></th>\n",
       "      <th>id</th>\n",
       "      <th>name</th>\n",
       "      <th>sub</th>\n",
       "      <th>id</th>\n",
       "      <th>name</th>\n",
       "      <th>sub</th>\n",
       "    </tr>\n",
       "  </thead>\n",
       "  <tbody>\n",
       "    <tr>\n",
       "      <th>0</th>\n",
       "      <td>1</td>\n",
       "      <td>a</td>\n",
       "      <td>sub1</td>\n",
       "      <td>1</td>\n",
       "      <td>a</td>\n",
       "      <td>sub3</td>\n",
       "    </tr>\n",
       "    <tr>\n",
       "      <th>1</th>\n",
       "      <td>2</td>\n",
       "      <td>b</td>\n",
       "      <td>sub2</td>\n",
       "      <td>2</td>\n",
       "      <td>b</td>\n",
       "      <td>sub4</td>\n",
       "    </tr>\n",
       "    <tr>\n",
       "      <th>2</th>\n",
       "      <td>3</td>\n",
       "      <td>c</td>\n",
       "      <td>sub3</td>\n",
       "      <td>3</td>\n",
       "      <td>c</td>\n",
       "      <td>sub5</td>\n",
       "    </tr>\n",
       "    <tr>\n",
       "      <th>3</th>\n",
       "      <td>4</td>\n",
       "      <td>d</td>\n",
       "      <td>sub4</td>\n",
       "      <td>4</td>\n",
       "      <td>d</td>\n",
       "      <td>sub6</td>\n",
       "    </tr>\n",
       "    <tr>\n",
       "      <th>4</th>\n",
       "      <td>5</td>\n",
       "      <td>e</td>\n",
       "      <td>sub5</td>\n",
       "      <td>5</td>\n",
       "      <td>e</td>\n",
       "      <td>sub7</td>\n",
       "    </tr>\n",
       "  </tbody>\n",
       "</table>\n",
       "</div>"
      ],
      "text/plain": [
       "   id name   sub  id name   sub\n",
       "0   1    a  sub1   1    a  sub3\n",
       "1   2    b  sub2   2    b  sub4\n",
       "2   3    c  sub3   3    c  sub5\n",
       "3   4    d  sub4   4    d  sub6\n",
       "4   5    e  sub5   5    e  sub7"
      ]
     },
     "execution_count": 134,
     "metadata": {},
     "output_type": "execute_result"
    }
   ],
   "source": [
    "pd.concat([df1,df2], axis = 1)"
   ]
  },
  {
   "cell_type": "code",
   "execution_count": 135,
   "metadata": {},
   "outputs": [
    {
     "data": {
      "text/html": [
       "<div>\n",
       "<style scoped>\n",
       "    .dataframe tbody tr th:only-of-type {\n",
       "        vertical-align: middle;\n",
       "    }\n",
       "\n",
       "    .dataframe tbody tr th {\n",
       "        vertical-align: top;\n",
       "    }\n",
       "\n",
       "    .dataframe thead th {\n",
       "        text-align: right;\n",
       "    }\n",
       "</style>\n",
       "<table border=\"1\" class=\"dataframe\">\n",
       "  <thead>\n",
       "    <tr style=\"text-align: right;\">\n",
       "      <th></th>\n",
       "      <th>id_x</th>\n",
       "      <th>name_x</th>\n",
       "      <th>sub</th>\n",
       "      <th>id_y</th>\n",
       "      <th>name_y</th>\n",
       "    </tr>\n",
       "  </thead>\n",
       "  <tbody>\n",
       "    <tr>\n",
       "      <th>0</th>\n",
       "      <td>1</td>\n",
       "      <td>a</td>\n",
       "      <td>sub1</td>\n",
       "      <td>NaN</td>\n",
       "      <td>NaN</td>\n",
       "    </tr>\n",
       "    <tr>\n",
       "      <th>1</th>\n",
       "      <td>2</td>\n",
       "      <td>b</td>\n",
       "      <td>sub2</td>\n",
       "      <td>NaN</td>\n",
       "      <td>NaN</td>\n",
       "    </tr>\n",
       "    <tr>\n",
       "      <th>2</th>\n",
       "      <td>3</td>\n",
       "      <td>c</td>\n",
       "      <td>sub3</td>\n",
       "      <td>1.0</td>\n",
       "      <td>a</td>\n",
       "    </tr>\n",
       "    <tr>\n",
       "      <th>3</th>\n",
       "      <td>4</td>\n",
       "      <td>d</td>\n",
       "      <td>sub4</td>\n",
       "      <td>2.0</td>\n",
       "      <td>b</td>\n",
       "    </tr>\n",
       "    <tr>\n",
       "      <th>4</th>\n",
       "      <td>5</td>\n",
       "      <td>e</td>\n",
       "      <td>sub5</td>\n",
       "      <td>3.0</td>\n",
       "      <td>c</td>\n",
       "    </tr>\n",
       "  </tbody>\n",
       "</table>\n",
       "</div>"
      ],
      "text/plain": [
       "   id_x name_x   sub  id_y name_y\n",
       "0     1      a  sub1   NaN    NaN\n",
       "1     2      b  sub2   NaN    NaN\n",
       "2     3      c  sub3   1.0      a\n",
       "3     4      d  sub4   2.0      b\n",
       "4     5      e  sub5   3.0      c"
      ]
     },
     "execution_count": 135,
     "metadata": {},
     "output_type": "execute_result"
    }
   ],
   "source": [
    "pd.merge(left=df1, right=df2, on='sub', how = 'left')"
   ]
  },
  {
   "cell_type": "code",
   "execution_count": 136,
   "metadata": {},
   "outputs": [
    {
     "data": {
      "text/html": [
       "<div>\n",
       "<style scoped>\n",
       "    .dataframe tbody tr th:only-of-type {\n",
       "        vertical-align: middle;\n",
       "    }\n",
       "\n",
       "    .dataframe tbody tr th {\n",
       "        vertical-align: top;\n",
       "    }\n",
       "\n",
       "    .dataframe thead th {\n",
       "        text-align: right;\n",
       "    }\n",
       "</style>\n",
       "<table border=\"1\" class=\"dataframe\">\n",
       "  <thead>\n",
       "    <tr style=\"text-align: right;\">\n",
       "      <th></th>\n",
       "      <th>id_x</th>\n",
       "      <th>name_x</th>\n",
       "      <th>sub</th>\n",
       "      <th>id_y</th>\n",
       "      <th>name_y</th>\n",
       "    </tr>\n",
       "  </thead>\n",
       "  <tbody>\n",
       "    <tr>\n",
       "      <th>0</th>\n",
       "      <td>3.0</td>\n",
       "      <td>c</td>\n",
       "      <td>sub3</td>\n",
       "      <td>1</td>\n",
       "      <td>a</td>\n",
       "    </tr>\n",
       "    <tr>\n",
       "      <th>1</th>\n",
       "      <td>4.0</td>\n",
       "      <td>d</td>\n",
       "      <td>sub4</td>\n",
       "      <td>2</td>\n",
       "      <td>b</td>\n",
       "    </tr>\n",
       "    <tr>\n",
       "      <th>2</th>\n",
       "      <td>5.0</td>\n",
       "      <td>e</td>\n",
       "      <td>sub5</td>\n",
       "      <td>3</td>\n",
       "      <td>c</td>\n",
       "    </tr>\n",
       "    <tr>\n",
       "      <th>3</th>\n",
       "      <td>NaN</td>\n",
       "      <td>NaN</td>\n",
       "      <td>sub6</td>\n",
       "      <td>4</td>\n",
       "      <td>d</td>\n",
       "    </tr>\n",
       "    <tr>\n",
       "      <th>4</th>\n",
       "      <td>NaN</td>\n",
       "      <td>NaN</td>\n",
       "      <td>sub7</td>\n",
       "      <td>5</td>\n",
       "      <td>e</td>\n",
       "    </tr>\n",
       "  </tbody>\n",
       "</table>\n",
       "</div>"
      ],
      "text/plain": [
       "   id_x name_x   sub  id_y name_y\n",
       "0   3.0      c  sub3     1      a\n",
       "1   4.0      d  sub4     2      b\n",
       "2   5.0      e  sub5     3      c\n",
       "3   NaN    NaN  sub6     4      d\n",
       "4   NaN    NaN  sub7     5      e"
      ]
     },
     "execution_count": 136,
     "metadata": {},
     "output_type": "execute_result"
    }
   ],
   "source": [
    "pd.merge(left=df1, right=df2, on='sub', how = 'right')"
   ]
  },
  {
   "cell_type": "code",
   "execution_count": 137,
   "metadata": {},
   "outputs": [
    {
     "data": {
      "text/html": [
       "<div>\n",
       "<style scoped>\n",
       "    .dataframe tbody tr th:only-of-type {\n",
       "        vertical-align: middle;\n",
       "    }\n",
       "\n",
       "    .dataframe tbody tr th {\n",
       "        vertical-align: top;\n",
       "    }\n",
       "\n",
       "    .dataframe thead th {\n",
       "        text-align: right;\n",
       "    }\n",
       "</style>\n",
       "<table border=\"1\" class=\"dataframe\">\n",
       "  <thead>\n",
       "    <tr style=\"text-align: right;\">\n",
       "      <th></th>\n",
       "      <th>id_x</th>\n",
       "      <th>name_x</th>\n",
       "      <th>sub</th>\n",
       "      <th>id_y</th>\n",
       "      <th>name_y</th>\n",
       "    </tr>\n",
       "  </thead>\n",
       "  <tbody>\n",
       "    <tr>\n",
       "      <th>0</th>\n",
       "      <td>1.0</td>\n",
       "      <td>a</td>\n",
       "      <td>sub1</td>\n",
       "      <td>NaN</td>\n",
       "      <td>NaN</td>\n",
       "    </tr>\n",
       "    <tr>\n",
       "      <th>1</th>\n",
       "      <td>2.0</td>\n",
       "      <td>b</td>\n",
       "      <td>sub2</td>\n",
       "      <td>NaN</td>\n",
       "      <td>NaN</td>\n",
       "    </tr>\n",
       "    <tr>\n",
       "      <th>2</th>\n",
       "      <td>3.0</td>\n",
       "      <td>c</td>\n",
       "      <td>sub3</td>\n",
       "      <td>1.0</td>\n",
       "      <td>a</td>\n",
       "    </tr>\n",
       "    <tr>\n",
       "      <th>3</th>\n",
       "      <td>4.0</td>\n",
       "      <td>d</td>\n",
       "      <td>sub4</td>\n",
       "      <td>2.0</td>\n",
       "      <td>b</td>\n",
       "    </tr>\n",
       "    <tr>\n",
       "      <th>4</th>\n",
       "      <td>5.0</td>\n",
       "      <td>e</td>\n",
       "      <td>sub5</td>\n",
       "      <td>3.0</td>\n",
       "      <td>c</td>\n",
       "    </tr>\n",
       "    <tr>\n",
       "      <th>5</th>\n",
       "      <td>NaN</td>\n",
       "      <td>NaN</td>\n",
       "      <td>sub6</td>\n",
       "      <td>4.0</td>\n",
       "      <td>d</td>\n",
       "    </tr>\n",
       "    <tr>\n",
       "      <th>6</th>\n",
       "      <td>NaN</td>\n",
       "      <td>NaN</td>\n",
       "      <td>sub7</td>\n",
       "      <td>5.0</td>\n",
       "      <td>e</td>\n",
       "    </tr>\n",
       "  </tbody>\n",
       "</table>\n",
       "</div>"
      ],
      "text/plain": [
       "   id_x name_x   sub  id_y name_y\n",
       "0   1.0      a  sub1   NaN    NaN\n",
       "1   2.0      b  sub2   NaN    NaN\n",
       "2   3.0      c  sub3   1.0      a\n",
       "3   4.0      d  sub4   2.0      b\n",
       "4   5.0      e  sub5   3.0      c\n",
       "5   NaN    NaN  sub6   4.0      d\n",
       "6   NaN    NaN  sub7   5.0      e"
      ]
     },
     "execution_count": 137,
     "metadata": {},
     "output_type": "execute_result"
    }
   ],
   "source": [
    "pd.merge(left=df1, right=df2, on='sub', how = 'outer')"
   ]
  },
  {
   "cell_type": "code",
   "execution_count": 1,
   "metadata": {},
   "outputs": [
    {
     "data": {
      "text/html": [
       "<div>\n",
       "<style scoped>\n",
       "    .dataframe tbody tr th:only-of-type {\n",
       "        vertical-align: middle;\n",
       "    }\n",
       "\n",
       "    .dataframe tbody tr th {\n",
       "        vertical-align: top;\n",
       "    }\n",
       "\n",
       "    .dataframe thead th {\n",
       "        text-align: right;\n",
       "    }\n",
       "</style>\n",
       "<table border=\"1\" class=\"dataframe\">\n",
       "  <thead>\n",
       "    <tr style=\"text-align: right;\">\n",
       "      <th></th>\n",
       "      <th>Company</th>\n",
       "      <th>Year</th>\n",
       "      <th>Revenue</th>\n",
       "      <th>Employee</th>\n",
       "    </tr>\n",
       "  </thead>\n",
       "  <tbody>\n",
       "    <tr>\n",
       "      <th>0</th>\n",
       "      <td>Google</td>\n",
       "      <td>2008</td>\n",
       "      <td>11</td>\n",
       "      <td>250</td>\n",
       "    </tr>\n",
       "    <tr>\n",
       "      <th>1</th>\n",
       "      <td>Google</td>\n",
       "      <td>2009</td>\n",
       "      <td>15</td>\n",
       "      <td>200</td>\n",
       "    </tr>\n",
       "    <tr>\n",
       "      <th>2</th>\n",
       "      <td>Google</td>\n",
       "      <td>2010</td>\n",
       "      <td>16</td>\n",
       "      <td>300</td>\n",
       "    </tr>\n",
       "    <tr>\n",
       "      <th>3</th>\n",
       "      <td>Google</td>\n",
       "      <td>2011</td>\n",
       "      <td>17</td>\n",
       "      <td>350</td>\n",
       "    </tr>\n",
       "    <tr>\n",
       "      <th>4</th>\n",
       "      <td>Microsoft</td>\n",
       "      <td>2012</td>\n",
       "      <td>20</td>\n",
       "      <td>450</td>\n",
       "    </tr>\n",
       "    <tr>\n",
       "      <th>5</th>\n",
       "      <td>Microsoft</td>\n",
       "      <td>2013</td>\n",
       "      <td>21</td>\n",
       "      <td>475</td>\n",
       "    </tr>\n",
       "    <tr>\n",
       "      <th>6</th>\n",
       "      <td>Microsoft</td>\n",
       "      <td>2014</td>\n",
       "      <td>15</td>\n",
       "      <td>500</td>\n",
       "    </tr>\n",
       "    <tr>\n",
       "      <th>7</th>\n",
       "      <td>Microsoft</td>\n",
       "      <td>2015</td>\n",
       "      <td>16</td>\n",
       "      <td>525</td>\n",
       "    </tr>\n",
       "  </tbody>\n",
       "</table>\n",
       "</div>"
      ],
      "text/plain": [
       "     Company  Year  Revenue  Employee\n",
       "0     Google  2008       11       250\n",
       "1     Google  2009       15       200\n",
       "2     Google  2010       16       300\n",
       "3     Google  2011       17       350\n",
       "4  Microsoft  2012       20       450\n",
       "5  Microsoft  2013       21       475\n",
       "6  Microsoft  2014       15       500\n",
       "7  Microsoft  2015       16       525"
      ]
     },
     "execution_count": 1,
     "metadata": {},
     "output_type": "execute_result"
    }
   ],
   "source": [
    "import pandas as pd\n",
    "company_df = {'Company': ['Google','Google','Google','Google','Microsoft','Microsoft','Microsoft','Microsoft'],\n",
    "         'Year': [2008,2009,2010,2011,2012,2013,2014,2015],\n",
    "         'Revenue': [11,15,16,17,20,21,15,16],\n",
    "         'Employee': [250,200,300,350,450,475,500,525]}\n",
    "cmp_df = pd.DataFrame(company_df)\n",
    "cmp_df"
   ]
  },
  {
   "cell_type": "code",
   "execution_count": 2,
   "metadata": {},
   "outputs": [
    {
     "data": {
      "text/plain": [
       "array([2008, 2009, 2010, 2011, 2012, 2013, 2014, 2015], dtype=int64)"
      ]
     },
     "execution_count": 2,
     "metadata": {},
     "output_type": "execute_result"
    }
   ],
   "source": [
    "cmp_df.Year.unique()"
   ]
  },
  {
   "cell_type": "code",
   "execution_count": 3,
   "metadata": {},
   "outputs": [
    {
     "data": {
      "text/plain": [
       "8"
      ]
     },
     "execution_count": 3,
     "metadata": {},
     "output_type": "execute_result"
    }
   ],
   "source": [
    "cmp_df.Year.nunique()"
   ]
  },
  {
   "cell_type": "code",
   "execution_count": 139,
   "metadata": {},
   "outputs": [
    {
     "data": {
      "text/html": [
       "<div>\n",
       "<style scoped>\n",
       "    .dataframe tbody tr th:only-of-type {\n",
       "        vertical-align: middle;\n",
       "    }\n",
       "\n",
       "    .dataframe tbody tr th {\n",
       "        vertical-align: top;\n",
       "    }\n",
       "\n",
       "    .dataframe thead th {\n",
       "        text-align: right;\n",
       "    }\n",
       "</style>\n",
       "<table border=\"1\" class=\"dataframe\">\n",
       "  <thead>\n",
       "    <tr style=\"text-align: right;\">\n",
       "      <th></th>\n",
       "      <th></th>\n",
       "      <th>Revenue</th>\n",
       "      <th>Employee</th>\n",
       "    </tr>\n",
       "    <tr>\n",
       "      <th>Company</th>\n",
       "      <th>Year</th>\n",
       "      <th></th>\n",
       "      <th></th>\n",
       "    </tr>\n",
       "  </thead>\n",
       "  <tbody>\n",
       "    <tr>\n",
       "      <th rowspan=\"4\" valign=\"top\">Google</th>\n",
       "      <th>2008</th>\n",
       "      <td>11</td>\n",
       "      <td>250</td>\n",
       "    </tr>\n",
       "    <tr>\n",
       "      <th>2009</th>\n",
       "      <td>15</td>\n",
       "      <td>200</td>\n",
       "    </tr>\n",
       "    <tr>\n",
       "      <th>2010</th>\n",
       "      <td>16</td>\n",
       "      <td>300</td>\n",
       "    </tr>\n",
       "    <tr>\n",
       "      <th>2011</th>\n",
       "      <td>17</td>\n",
       "      <td>350</td>\n",
       "    </tr>\n",
       "    <tr>\n",
       "      <th rowspan=\"4\" valign=\"top\">Microsoft</th>\n",
       "      <th>2012</th>\n",
       "      <td>20</td>\n",
       "      <td>450</td>\n",
       "    </tr>\n",
       "    <tr>\n",
       "      <th>2013</th>\n",
       "      <td>21</td>\n",
       "      <td>475</td>\n",
       "    </tr>\n",
       "    <tr>\n",
       "      <th>2014</th>\n",
       "      <td>15</td>\n",
       "      <td>500</td>\n",
       "    </tr>\n",
       "    <tr>\n",
       "      <th>2015</th>\n",
       "      <td>16</td>\n",
       "      <td>525</td>\n",
       "    </tr>\n",
       "  </tbody>\n",
       "</table>\n",
       "</div>"
      ],
      "text/plain": [
       "                Revenue  Employee\n",
       "Company   Year                   \n",
       "Google    2008       11       250\n",
       "          2009       15       200\n",
       "          2010       16       300\n",
       "          2011       17       350\n",
       "Microsoft 2012       20       450\n",
       "          2013       21       475\n",
       "          2014       15       500\n",
       "          2015       16       525"
      ]
     },
     "execution_count": 139,
     "metadata": {},
     "output_type": "execute_result"
    }
   ],
   "source": [
    "cmp_df.set_index(['Company','Year'], inplace=True)\n",
    "cmp_df"
   ]
  },
  {
   "cell_type": "code",
   "execution_count": 140,
   "metadata": {},
   "outputs": [
    {
     "data": {
      "text/html": [
       "<div>\n",
       "<style scoped>\n",
       "    .dataframe tbody tr th:only-of-type {\n",
       "        vertical-align: middle;\n",
       "    }\n",
       "\n",
       "    .dataframe tbody tr th {\n",
       "        vertical-align: top;\n",
       "    }\n",
       "\n",
       "    .dataframe thead th {\n",
       "        text-align: right;\n",
       "    }\n",
       "</style>\n",
       "<table border=\"1\" class=\"dataframe\">\n",
       "  <thead>\n",
       "    <tr style=\"text-align: right;\">\n",
       "      <th></th>\n",
       "      <th></th>\n",
       "      <th>Revenue</th>\n",
       "      <th>Employee</th>\n",
       "    </tr>\n",
       "    <tr>\n",
       "      <th>Company</th>\n",
       "      <th>Year</th>\n",
       "      <th></th>\n",
       "      <th></th>\n",
       "    </tr>\n",
       "  </thead>\n",
       "  <tbody>\n",
       "    <tr>\n",
       "      <th rowspan=\"4\" valign=\"top\">Google</th>\n",
       "      <th>2008</th>\n",
       "      <td>11</td>\n",
       "      <td>250</td>\n",
       "    </tr>\n",
       "    <tr>\n",
       "      <th>2009</th>\n",
       "      <td>15</td>\n",
       "      <td>200</td>\n",
       "    </tr>\n",
       "    <tr>\n",
       "      <th>2010</th>\n",
       "      <td>16</td>\n",
       "      <td>300</td>\n",
       "    </tr>\n",
       "    <tr>\n",
       "      <th>2011</th>\n",
       "      <td>17</td>\n",
       "      <td>350</td>\n",
       "    </tr>\n",
       "    <tr>\n",
       "      <th rowspan=\"4\" valign=\"top\">Microsoft</th>\n",
       "      <th>2012</th>\n",
       "      <td>20</td>\n",
       "      <td>450</td>\n",
       "    </tr>\n",
       "    <tr>\n",
       "      <th>2013</th>\n",
       "      <td>21</td>\n",
       "      <td>475</td>\n",
       "    </tr>\n",
       "    <tr>\n",
       "      <th>2014</th>\n",
       "      <td>15</td>\n",
       "      <td>500</td>\n",
       "    </tr>\n",
       "    <tr>\n",
       "      <th>2015</th>\n",
       "      <td>16</td>\n",
       "      <td>525</td>\n",
       "    </tr>\n",
       "  </tbody>\n",
       "</table>\n",
       "</div>"
      ],
      "text/plain": [
       "                Revenue  Employee\n",
       "Company   Year                   \n",
       "Google    2008       11       250\n",
       "          2009       15       200\n",
       "          2010       16       300\n",
       "          2011       17       350\n",
       "Microsoft 2012       20       450\n",
       "          2013       21       475\n",
       "          2014       15       500\n",
       "          2015       16       525"
      ]
     },
     "execution_count": 140,
     "metadata": {},
     "output_type": "execute_result"
    }
   ],
   "source": [
    "cmp_df"
   ]
  },
  {
   "cell_type": "code",
   "execution_count": 141,
   "metadata": {},
   "outputs": [
    {
     "data": {
      "text/html": [
       "<div>\n",
       "<style scoped>\n",
       "    .dataframe tbody tr th:only-of-type {\n",
       "        vertical-align: middle;\n",
       "    }\n",
       "\n",
       "    .dataframe tbody tr th {\n",
       "        vertical-align: top;\n",
       "    }\n",
       "\n",
       "    .dataframe thead th {\n",
       "        text-align: right;\n",
       "    }\n",
       "</style>\n",
       "<table border=\"1\" class=\"dataframe\">\n",
       "  <thead>\n",
       "    <tr style=\"text-align: right;\">\n",
       "      <th></th>\n",
       "      <th>Revenue</th>\n",
       "      <th>Employee</th>\n",
       "    </tr>\n",
       "    <tr>\n",
       "      <th>Year</th>\n",
       "      <th></th>\n",
       "      <th></th>\n",
       "    </tr>\n",
       "  </thead>\n",
       "  <tbody>\n",
       "    <tr>\n",
       "      <th>2008</th>\n",
       "      <td>11</td>\n",
       "      <td>250</td>\n",
       "    </tr>\n",
       "    <tr>\n",
       "      <th>2009</th>\n",
       "      <td>15</td>\n",
       "      <td>200</td>\n",
       "    </tr>\n",
       "    <tr>\n",
       "      <th>2010</th>\n",
       "      <td>16</td>\n",
       "      <td>300</td>\n",
       "    </tr>\n",
       "    <tr>\n",
       "      <th>2011</th>\n",
       "      <td>17</td>\n",
       "      <td>350</td>\n",
       "    </tr>\n",
       "  </tbody>\n",
       "</table>\n",
       "</div>"
      ],
      "text/plain": [
       "      Revenue  Employee\n",
       "Year                   \n",
       "2008       11       250\n",
       "2009       15       200\n",
       "2010       16       300\n",
       "2011       17       350"
      ]
     },
     "execution_count": 141,
     "metadata": {},
     "output_type": "execute_result"
    }
   ],
   "source": [
    "cmp_df.loc['Google']"
   ]
  },
  {
   "cell_type": "code",
   "execution_count": 142,
   "metadata": {},
   "outputs": [
    {
     "data": {
      "text/html": [
       "<div>\n",
       "<style scoped>\n",
       "    .dataframe tbody tr th:only-of-type {\n",
       "        vertical-align: middle;\n",
       "    }\n",
       "\n",
       "    .dataframe tbody tr th {\n",
       "        vertical-align: top;\n",
       "    }\n",
       "\n",
       "    .dataframe thead th {\n",
       "        text-align: right;\n",
       "    }\n",
       "</style>\n",
       "<table border=\"1\" class=\"dataframe\">\n",
       "  <thead>\n",
       "    <tr style=\"text-align: right;\">\n",
       "      <th></th>\n",
       "      <th>Revenue</th>\n",
       "      <th>Employee</th>\n",
       "    </tr>\n",
       "    <tr>\n",
       "      <th>Company</th>\n",
       "      <th></th>\n",
       "      <th></th>\n",
       "    </tr>\n",
       "  </thead>\n",
       "  <tbody>\n",
       "    <tr>\n",
       "      <th>Microsoft</th>\n",
       "      <td>20</td>\n",
       "      <td>450</td>\n",
       "    </tr>\n",
       "  </tbody>\n",
       "</table>\n",
       "</div>"
      ],
      "text/plain": [
       "           Revenue  Employee\n",
       "Company                     \n",
       "Microsoft       20       450"
      ]
     },
     "execution_count": 142,
     "metadata": {},
     "output_type": "execute_result"
    }
   ],
   "source": [
    "cmp_df.xs(2012, level='Year')"
   ]
  },
  {
   "cell_type": "code",
   "execution_count": 143,
   "metadata": {},
   "outputs": [
    {
     "name": "stdout",
     "output_type": "stream",
     "text": [
      "Using matplotlib backend: TkAgg\n"
     ]
    }
   ],
   "source": [
    "import seaborn as sns\n",
    "import pandas as pd\n",
    "import matplotlib.pyplot as plt\n",
    "%matplotlib"
   ]
  },
  {
   "cell_type": "code",
   "execution_count": 13,
   "metadata": {},
   "outputs": [
    {
     "data": {
      "text/html": [
       "<div>\n",
       "<style scoped>\n",
       "    .dataframe tbody tr th:only-of-type {\n",
       "        vertical-align: middle;\n",
       "    }\n",
       "\n",
       "    .dataframe tbody tr th {\n",
       "        vertical-align: top;\n",
       "    }\n",
       "\n",
       "    .dataframe thead th {\n",
       "        text-align: right;\n",
       "    }\n",
       "</style>\n",
       "<table border=\"1\" class=\"dataframe\">\n",
       "  <thead>\n",
       "    <tr style=\"text-align: right;\">\n",
       "      <th></th>\n",
       "      <th>Name</th>\n",
       "      <th>Age</th>\n",
       "      <th>Blood Group</th>\n",
       "    </tr>\n",
       "  </thead>\n",
       "  <tbody>\n",
       "    <tr>\n",
       "      <th>0</th>\n",
       "      <td>Rick</td>\n",
       "      <td>24</td>\n",
       "      <td>O+</td>\n",
       "    </tr>\n",
       "    <tr>\n",
       "      <th>1</th>\n",
       "      <td>Sam</td>\n",
       "      <td>55</td>\n",
       "      <td>B+</td>\n",
       "    </tr>\n",
       "    <tr>\n",
       "      <th>2</th>\n",
       "      <td>Hardy</td>\n",
       "      <td>60</td>\n",
       "      <td>A+</td>\n",
       "    </tr>\n",
       "    <tr>\n",
       "      <th>3</th>\n",
       "      <td>Shanky</td>\n",
       "      <td>49</td>\n",
       "      <td>O-</td>\n",
       "    </tr>\n",
       "  </tbody>\n",
       "</table>\n",
       "</div>"
      ],
      "text/plain": [
       "     Name  Age Blood Group\n",
       "0    Rick   24          O+\n",
       "1     Sam   55          B+\n",
       "2   Hardy   60          A+\n",
       "3  Shanky   49          O-"
      ]
     },
     "execution_count": 13,
     "metadata": {},
     "output_type": "execute_result"
    }
   ],
   "source": [
    "people = [['Rick', 24, 'O+'], ['Sam',55,'B+'], ['Hardy',60,'A+'], ['Shanky',49,'O-']]\n",
    "people_df = pd.DataFrame(people, columns = ['Name', 'Age', 'Blood Group'])\n",
    "people_df"
   ]
  },
  {
   "cell_type": "code",
   "execution_count": 14,
   "metadata": {},
   "outputs": [
    {
     "data": {
      "text/plain": [
       "0     48\n",
       "1    110\n",
       "2    120\n",
       "3     98\n",
       "Name: Age, dtype: int64"
      ]
     },
     "execution_count": 14,
     "metadata": {},
     "output_type": "execute_result"
    }
   ],
   "source": [
    "people_df['Age']*2"
   ]
  },
  {
   "cell_type": "code",
   "execution_count": 15,
   "metadata": {},
   "outputs": [],
   "source": [
    "def times2(x):\n",
    "    num = x\n",
    "    if x%6==0:\n",
    "        num *= 2\n",
    "    return num"
   ]
  },
  {
   "cell_type": "code",
   "execution_count": 16,
   "metadata": {},
   "outputs": [
    {
     "data": {
      "text/plain": [
       "0    24\n",
       "1    55\n",
       "2    60\n",
       "3    49\n",
       "Name: Age, dtype: int64"
      ]
     },
     "execution_count": 16,
     "metadata": {},
     "output_type": "execute_result"
    }
   ],
   "source": [
    "people_df['Age']"
   ]
  },
  {
   "cell_type": "code",
   "execution_count": 17,
   "metadata": {},
   "outputs": [
    {
     "data": {
      "text/plain": [
       "0     48\n",
       "1     55\n",
       "2    120\n",
       "3     49\n",
       "Name: Age, dtype: int64"
      ]
     },
     "execution_count": 17,
     "metadata": {},
     "output_type": "execute_result"
    }
   ],
   "source": [
    "people_df['Age'].apply(times2)"
   ]
  },
  {
   "cell_type": "code",
   "execution_count": null,
   "metadata": {},
   "outputs": [],
   "source": []
  }
 ],
 "metadata": {
  "kernelspec": {
   "display_name": "Python 3",
   "language": "python",
   "name": "python3"
  },
  "language_info": {
   "codemirror_mode": {
    "name": "ipython",
    "version": 3
   },
   "file_extension": ".py",
   "mimetype": "text/x-python",
   "name": "python",
   "nbconvert_exporter": "python",
   "pygments_lexer": "ipython3",
   "version": "3.8.5"
  }
 },
 "nbformat": 4,
 "nbformat_minor": 4
}

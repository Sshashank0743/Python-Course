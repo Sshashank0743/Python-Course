{
 "cells": [
  {
   "cell_type": "code",
   "execution_count": 1,
   "id": "620f1290",
   "metadata": {},
   "outputs": [],
   "source": [
    "str1 = \"Hello, Good Morning!\""
   ]
  },
  {
   "cell_type": "code",
   "execution_count": 2,
   "id": "635939d2",
   "metadata": {},
   "outputs": [
    {
     "name": "stdout",
     "output_type": "stream",
     "text": [
      "Hello, Good Morning!\n"
     ]
    }
   ],
   "source": [
    "print(str1)"
   ]
  },
  {
   "cell_type": "code",
   "execution_count": 3,
   "id": "6a982647",
   "metadata": {},
   "outputs": [],
   "source": [
    "def greetings(name):\n",
    "    return \"Hello {}, Welcome to the community\".format(name)"
   ]
  },
  {
   "cell_type": "code",
   "execution_count": 5,
   "id": "0b155c8b",
   "metadata": {},
   "outputs": [
    {
     "data": {
      "text/plain": [
       "'Hello Elon, Welcome to the community'"
      ]
     },
     "execution_count": 5,
     "metadata": {},
     "output_type": "execute_result"
    }
   ],
   "source": [
    "greetings('Elon')"
   ]
  },
  {
   "cell_type": "code",
   "execution_count": null,
   "id": "ca50b765",
   "metadata": {},
   "outputs": [],
   "source": []
  }
 ],
 "metadata": {
  "kernelspec": {
   "display_name": "Python 3 (ipykernel)",
   "language": "python",
   "name": "python3"
  },
  "language_info": {
   "codemirror_mode": {
    "name": "ipython",
    "version": 3
   },
   "file_extension": ".py",
   "mimetype": "text/x-python",
   "name": "python",
   "nbconvert_exporter": "python",
   "pygments_lexer": "ipython3",
   "version": "3.9.12"
  }
 },
 "nbformat": 4,
 "nbformat_minor": 5
}

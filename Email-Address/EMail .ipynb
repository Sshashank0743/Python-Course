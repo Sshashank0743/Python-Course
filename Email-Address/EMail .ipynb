{
 "cells": [
  {
   "cell_type": "markdown",
   "metadata": {},
   "source": [
    "Create a program that displays your name and complete mailing address formatted in the manner that you would usually see it on the outside of an envelope. Your program does not need to read any input from the user."
   ]
  },
  {
   "cell_type": "code",
   "execution_count": 1,
   "metadata": {},
   "outputs": [
    {
     "name": "stdout",
     "output_type": "stream",
     "text": [
      "Anant Mishra\n",
      "Department of Arts\n",
      "University of Delhi\n",
      "South Campus, Benito Juarez Marg\n",
      "New Delhi, Delhi 110021\n",
      "India\n"
     ]
    }
   ],
   "source": [
    "# Display a person's complete mailing address\n",
    "\n",
    "print(\"Anant Mishra\")\n",
    "print(\"Department of Arts\")\n",
    "print(\"University of Delhi\")\n",
    "print(\"South Campus, Benito Juarez Marg\")\n",
    "print(\"New Delhi, Delhi 110021\")\n",
    "print(\"India\")"
   ]
  }
 ],
 "metadata": {
  "kernelspec": {
   "display_name": "Python 3",
   "language": "python",
   "name": "python3"
  },
  "language_info": {
   "codemirror_mode": {
    "name": "ipython",
    "version": 3
   },
   "file_extension": ".py",
   "mimetype": "text/x-python",
   "name": "python",
   "nbconvert_exporter": "python",
   "pygments_lexer": "ipython3",
   "version": "3.5.5"
  }
 },
 "nbformat": 4,
 "nbformat_minor": 2
}

{
 "cells": [
  {
   "cell_type": "code",
   "execution_count": 25,
   "metadata": {},
   "outputs": [
    {
     "name": "stdout",
     "output_type": "stream",
     "text": [
      "The original list : ['code', 'home', 'water', 'food', 'keras']\n",
      "all strings of maximum length from an array of string is : keras water\n"
     ]
    }
   ],
   "source": [
    "# initialize list  \n",
    "arr = ['code','home','water','food','keras']\n",
    "  \n",
    "# printing original list  \n",
    "print(\"The original list : \" + str(arr)) \n",
    "  \n",
    "# Longest Strings in list \n",
    "# using loop \n",
    "max_len = -1\n",
    "for ele in arr: \n",
    "    if len(ele) > max_len: \n",
    "        max_len = len(ele) \n",
    "        res = ele \n",
    "  \n",
    "# printing result \n",
    "print(\"all strings of maximum length from an array of string is : \" + ele , res) "
   ]
  },
  {
   "cell_type": "code",
   "execution_count": null,
   "metadata": {},
   "outputs": [],
   "source": []
  },
  {
   "cell_type": "code",
   "execution_count": null,
   "metadata": {},
   "outputs": [],
   "source": []
  }
 ],
 "metadata": {
  "kernelspec": {
   "display_name": "Python 3",
   "language": "python",
   "name": "python3"
  },
  "language_info": {
   "codemirror_mode": {
    "name": "ipython",
    "version": 3
   },
   "file_extension": ".py",
   "mimetype": "text/x-python",
   "name": "python",
   "nbconvert_exporter": "python",
   "pygments_lexer": "ipython3",
   "version": "3.8.5"
  }
 },
 "nbformat": 4,
 "nbformat_minor": 4
}

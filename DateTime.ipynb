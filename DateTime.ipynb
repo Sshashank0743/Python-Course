{
 "cells": [
  {
   "cell_type": "markdown",
   "id": "834920ee-b656-4668-be3b-a66c5612b439",
   "metadata": {},
   "source": [
    "## 1. Finding the Day of the Week"
   ]
  },
  {
   "cell_type": "code",
   "execution_count": 2,
   "id": "d599014a-bc25-48ba-9493-96741498493c",
   "metadata": {},
   "outputs": [
    {
     "name": "stdout",
     "output_type": "stream",
     "text": [
      "Day of the week (numeric): 3\n",
      "The date 2025-07-10 is a Thursday\n"
     ]
    }
   ],
   "source": [
    "import datetime\n",
    "\n",
    "# Pick a date\n",
    "today = datetime.date(2025, 7, 10)\n",
    "\n",
    "# Get the day of the week (Monday is 0)\n",
    "day_of_week_num = today.weekday()\n",
    "print(f\"Day of the week (numeric): {day_of_week_num}\")\n",
    "\n",
    "# Get the full name of the day\n",
    "day_name = today.strftime(\"%A\")\n",
    "print(f\"The date {today} is a {day_name}\")"
   ]
  },
  {
   "cell_type": "markdown",
   "id": "0ad898d8-6eb9-4134-aea4-24a946f8582d",
   "metadata": {},
   "source": [
    "## 2. Calculating the Time Until a Future Event\n"
   ]
  },
  {
   "cell_type": "code",
   "execution_count": 3,
   "id": "d0db45fb-6073-4dfc-8668-cf97cbbcd440",
   "metadata": {},
   "outputs": [
    {
     "name": "stdout",
     "output_type": "stream",
     "text": [
      "Time left until New Year 2050: 8938 days, 7:05:55.354844\n"
     ]
    }
   ],
   "source": [
    "import datetime\n",
    "\n",
    "# Define a future event\n",
    "new_year_2050 = datetime.datetime(2050, 1, 1, 0, 0, 0)\n",
    "\n",
    "# Get the current time\n",
    "now = datetime.datetime.now()\n",
    "\n",
    "# Calculate the difference\n",
    "time_left = new_year_2050 - now\n",
    "\n",
    "print(f\"Time left until New Year 2050: {time_left}\")"
   ]
  },
  {
   "cell_type": "markdown",
   "id": "2120a31e-6cb7-489d-820c-22bb2ee39306",
   "metadata": {},
   "source": [
    "## 3. Working with Timezones"
   ]
  },
  {
   "cell_type": "code",
   "execution_count": 5,
   "id": "df045c72-60f6-45b9-9375-9aaf86836b8d",
   "metadata": {},
   "outputs": [
    {
     "name": "stdout",
     "output_type": "stream",
     "text": [
      "New York Time: 2025-07-12 07:24:48.466458-04:00\n",
      "London Time: 2025-07-12 12:24:48.466458+01:00\n"
     ]
    }
   ],
   "source": [
    "import datetime\n",
    "from pytz import timezone\n",
    "\n",
    "# Create a timezone-aware datetime for New York\n",
    "nyc_tz = timezone('America/New_York')\n",
    "nyc_time = datetime.datetime.now(nyc_tz)\n",
    "print(f\"New York Time: {nyc_time}\")\n",
    "\n",
    "# Convert it to another timezone\n",
    "london_tz = timezone('Europe/London')\n",
    "london_time = nyc_time.astimezone(london_tz)\n",
    "print(f\"London Time: {london_time}\")"
   ]
  },
  {
   "cell_type": "markdown",
   "id": "0d572d33-a91a-4432-8202-01398840f149",
   "metadata": {},
   "source": [
    "## 4. Getting the Last Day of a Month"
   ]
  },
  {
   "cell_type": "code",
   "execution_count": 6,
   "id": "eb22a865-4f12-46b6-8ab9-2ada16ba819a",
   "metadata": {},
   "outputs": [
    {
     "name": "stdout",
     "output_type": "stream",
     "text": [
      "The last day of February 2024 is: 2024-02-29\n"
     ]
    }
   ],
   "source": [
    "import datetime\n",
    "\n",
    "def get_last_day_of_month(year, month):\n",
    "    # Handle month rollover for December -> January\n",
    "    if month == 12:\n",
    "        next_month_first_day = datetime.date(year + 1, 1, 1)\n",
    "    else:\n",
    "        next_month_first_day = datetime.date(year, month + 1, 1)\n",
    "    \n",
    "    # Subtract one day to get the last day of the current month\n",
    "    return next_month_first_day - datetime.timedelta(days=1)\n",
    "\n",
    "# Example: Get the last day of February 2024 (a leap year)\n",
    "last_day = get_last_day_of_month(2024, 2)\n",
    "print(f\"The last day of February 2024 is: {last_day}\")"
   ]
  },
  {
   "cell_type": "markdown",
   "id": "4cb0dde5-4386-4fd9-84ca-fc618e776798",
   "metadata": {},
   "source": [
    "## 5. Calculating Your Precise Age\n",
    " "
   ]
  },
  {
   "cell_type": "code",
   "execution_count": 7,
   "id": "f3e2d3ea-72d9-4c5b-aa25-514b0203712c",
   "metadata": {},
   "outputs": [
    {
     "name": "stdout",
     "output_type": "stream",
     "text": [
      "If alive today, Pablo Picasso would be 143 years old.\n"
     ]
    }
   ],
   "source": [
    "import datetime\n",
    "\n",
    "def calculate_age(birthdate):\n",
    "    today = datetime.date.today()\n",
    "    age = today.year - birthdate.year - ((today.month, today.day) < (birthdate.month, birthdate.day))\n",
    "    return age\n",
    "\n",
    "# Example usage\n",
    "picasso_birthdate = datetime.date(1881, 10, 25)\n",
    "picasso_age = calculate_age(picasso_birthdate)\n",
    "print(f\"If alive today, Pablo Picasso would be {picasso_age} years old.\")"
   ]
  },
  {
   "cell_type": "markdown",
   "id": "23bc8c51-7aca-47c2-a5ca-a785d06f10ef",
   "metadata": {},
   "source": [
    "## 6. Iterating Through a Range of Dates"
   ]
  },
  {
   "cell_type": "code",
   "execution_count": 8,
   "id": "e8244613-7c47-4aac-ac96-164f94e705a5",
   "metadata": {},
   "outputs": [
    {
     "name": "stdout",
     "output_type": "stream",
     "text": [
      "2025-01-01, Wednesday\n",
      "2025-01-02, Thursday\n",
      "2025-01-03, Friday\n",
      "2025-01-04, Saturday\n",
      "2025-01-05, Sunday\n",
      "2025-01-06, Monday\n",
      "2025-01-07, Tuesday\n"
     ]
    }
   ],
   "source": [
    "import datetime\n",
    "\n",
    "start_date = datetime.date(2025, 1, 1)\n",
    "end_date = datetime.date(2025, 1, 7)\n",
    "day_delta = datetime.timedelta(days=1)\n",
    "\n",
    "current_date = start_date\n",
    "while current_date <= end_date:\n",
    "    print(current_date.strftime('%Y-%m-%d, %A'))\n",
    "    current_date += day_delta"
   ]
  },
  {
   "cell_type": "markdown",
   "id": "6cd1053d-f078-4df3-b64e-2ad8a7f35ffe",
   "metadata": {},
   "source": [
    "## 7. Parsing Dates from Non-Standard String Formats"
   ]
  },
  {
   "cell_type": "code",
   "execution_count": 9,
   "id": "e29eee2b-e153-4d84-af2f-3ddd9374944e",
   "metadata": {},
   "outputs": [
    {
     "name": "stdout",
     "output_type": "stream",
     "text": [
      "Parsed object 1: 1776-07-04 00:00:00\n",
      "Parsed object 2: 1867-07-01 14:30:00\n"
     ]
    }
   ],
   "source": [
    "import datetime\n",
    "\n",
    "date_string_1 = \"July 4, 1776\"\n",
    "date_string_2 = \"1867-07-01 14:30:00\"\n",
    "\n",
    "# Parse the first string format\n",
    "dt_object_1 = datetime.datetime.strptime(date_string_1, \"%B %d, %Y\")\n",
    "print(f\"Parsed object 1: {dt_object_1}\")\n",
    "\n",
    "# Parse the second string format\n",
    "dt_object_2 = datetime.datetime.strptime(date_string_2, \"%Y-%m-%d %H:%M:%S\")\n",
    "print(f\"Parsed object 2: {dt_object_2}\")"
   ]
  },
  {
   "cell_type": "markdown",
   "id": "89fa3dde-7ee1-466e-ba12-42426758f504",
   "metadata": {},
   "source": [
    "## 8. Finding the Nth Weekday of a Month"
   ]
  },
  {
   "cell_type": "code",
   "execution_count": 10,
   "id": "c6469108-5a19-499d-87c2-7d3b73cc2df1",
   "metadata": {},
   "outputs": [
    {
     "name": "stdout",
     "output_type": "stream",
     "text": [
      "The third Thursday of Nov 2025 is: 2025-11-20\n"
     ]
    }
   ],
   "source": [
    "import calendar\n",
    "\n",
    "# calendar.weekday() Monday is 0 and Sunday is 6\n",
    "# calendar.Thursday is 3\n",
    "cal = calendar.Calendar()\n",
    "\n",
    "# Get a matrix of weeks for November 2025\n",
    "month_matrix = cal.monthdatescalendar(2025, 11)\n",
    "\n",
    "# Find the third Thursday\n",
    "third_thursday = [week[calendar.THURSDAY] for week in month_matrix if week[calendar.THURSDAY].month == 11][2]\n",
    "\n",
    "print(f\"The third Thursday of Nov 2025 is: {third_thursday}\")"
   ]
  },
  {
   "cell_type": "markdown",
   "id": "0846a97a-2692-479c-89ff-99902073a758",
   "metadata": {},
   "source": [
    "## 9. Getting the ISO Week Number"
   ]
  },
  {
   "cell_type": "code",
   "execution_count": 11,
   "id": "e5ce7217-5564-4171-96a6-fb96463a645a",
   "metadata": {},
   "outputs": [
    {
     "name": "stdout",
     "output_type": "stream",
     "text": [
      "Date: 2025-07-10\n",
      "ISO Year: 2025\n",
      "ISO Week Number: 28\n",
      "ISO Weekday: 4\n"
     ]
    }
   ],
   "source": [
    "import datetime\n",
    "\n",
    "d = datetime.date(2025, 7, 10)\n",
    "iso_cal = d.isocalendar()\n",
    "\n",
    "print(f\"Date: {d}\")\n",
    "print(f\"ISO Year: {iso_cal[0]}\")\n",
    "print(f\"ISO Week Number: {iso_cal[1]}\")\n",
    "print(f\"ISO Weekday: {iso_cal[2]}\")"
   ]
  },
  {
   "cell_type": "markdown",
   "id": "35903af6-7fae-4781-a2d0-dad21eaae276",
   "metadata": {},
   "source": [
    "## 10. Adding or Subtracting Business Days\n"
   ]
  },
  {
   "cell_type": "code",
   "execution_count": 12,
   "id": "8ca55d41-20dd-464e-9a31-b1c6f23a1ee7",
   "metadata": {},
   "outputs": [
    {
     "name": "stdout",
     "output_type": "stream",
     "text": [
      "13 business days after 2025-07-10 is 2025-07-29\n"
     ]
    }
   ],
   "source": [
    "import datetime\n",
    "\n",
    "def add_business_days(start_date, num_days):\n",
    "    current_date = start_date\n",
    "    while num_days > 0:\n",
    "        current_date += datetime.timedelta(days=1)\n",
    "        # weekday() returns 5 for Saturday and 6 for Sunday\n",
    "        if current_date.weekday() < 5:\n",
    "            num_days -= 1\n",
    "    return current_date\n",
    "\n",
    "start = datetime.date(2025, 7, 10) # A Thursday\n",
    "end = add_business_days(start, 13)\n",
    "\n",
    "print(f\"13 business days after {start} is {end}\")"
   ]
  },
  {
   "cell_type": "code",
   "execution_count": null,
   "id": "70cf1ebd-ed5f-434a-85bb-c158634691dc",
   "metadata": {},
   "outputs": [],
   "source": []
  }
 ],
 "metadata": {
  "kernelspec": {
   "display_name": "Python 3 (ipykernel)",
   "language": "python",
   "name": "python3"
  },
  "language_info": {
   "codemirror_mode": {
    "name": "ipython",
    "version": 3
   },
   "file_extension": ".py",
   "mimetype": "text/x-python",
   "name": "python",
   "nbconvert_exporter": "python",
   "pygments_lexer": "ipython3",
   "version": "3.12.7"
  }
 },
 "nbformat": 4,
 "nbformat_minor": 5
}

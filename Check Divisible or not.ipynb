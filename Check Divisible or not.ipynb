{
 "cells": [
  {
   "cell_type": "code",
   "execution_count": 1,
   "metadata": {},
   "outputs": [
    {
     "name": "stdout",
     "output_type": "stream",
     "text": [
      "No\n"
     ]
    }
   ],
   "source": [
    "def check(N, M):\n",
    " \n",
    "    # exceptional case for F(2)\n",
    "    if (N == 9 or M == 2 or\n",
    "        N % M == 0) :\n",
    "        print( \"No\" )\n",
    "     \n",
    "    # if none of the above\n",
    "    # cases, hence not divisible\n",
    "    else :\n",
    "        print( \"Yes\" )\n",
    " \n",
    "# Driver Code\n",
    "M = 2\n",
    "N = 9\n",
    "check(N, M)"
   ]
  },
  {
   "cell_type": "code",
   "execution_count": null,
   "metadata": {},
   "outputs": [],
   "source": []
  }
 ],
 "metadata": {
  "kernelspec": {
   "display_name": "Python 3",
   "language": "python",
   "name": "python3"
  },
  "language_info": {
   "codemirror_mode": {
    "name": "ipython",
    "version": 3
   },
   "file_extension": ".py",
   "mimetype": "text/x-python",
   "name": "python",
   "nbconvert_exporter": "python",
   "pygments_lexer": "ipython3",
   "version": "3.8.5"
  }
 },
 "nbformat": 4,
 "nbformat_minor": 4
}

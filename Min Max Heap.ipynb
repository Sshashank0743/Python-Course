{
 "cells": [
  {
   "cell_type": "code",
   "execution_count": 3,
   "metadata": {},
   "outputs": [
    {
     "name": "stdout",
     "output_type": "stream",
     "text": [
      "Min Heap array : \n",
      "3 5 9 6 8 20 10 12 18 9 \n",
      "Max Heap array : \n",
      "20 18 10 12 9 9 3 5 6 8 \n"
     ]
    }
   ],
   "source": [
    "def MaxHeapify(arr, i, n):\n",
    "    l = 2 * i + 1\n",
    "    r = 2 * i + 2\n",
    "    largest = i\n",
    "    if l < n and arr[l] > arr[i]:\n",
    "        largest = l\n",
    "    if r < n and arr[r] > arr[largest]:\n",
    "        largest = r\n",
    "    if largest != i:\n",
    "        arr[i], arr[largest] = arr[largest], arr[i]\n",
    "        MaxHeapify(arr, largest, n)\n",
    "# This function basically builds max heap\n",
    "def convertMaxHeap(arr, n):\n",
    "     \n",
    "    # Start from bottommost and rightmost\n",
    "    # internal mode and heapify all\n",
    "    # internal modes in bottom up way\n",
    "    for i in range(int((n - 2) / 2), -1, -1):\n",
    "        MaxHeapify(arr, i, n)\n",
    " \n",
    "# A utility function to print a\n",
    "# given array of given size\n",
    "def printArray(arr, size):\n",
    "    for i in range(size):\n",
    "        print(arr[i], end = \" \")\n",
    "    print()\n",
    " \n",
    "# Driver Code\n",
    "if __name__ == '__main__':\n",
    "     \n",
    "    # array representing Min Heap\n",
    "    arr = [3, 5, 9, 6, 8, 20, 10, 12, 18, 9]\n",
    "    n = len(arr)\n",
    " \n",
    "    print(\"Min Heap array : \")\n",
    "    printArray(arr, n)\n",
    " \n",
    "    convertMaxHeap(arr, n)\n",
    " \n",
    "    print(\"Max Heap array : \")\n",
    "    printArray(arr, n)"
   ]
  },
  {
   "cell_type": "code",
   "execution_count": null,
   "metadata": {},
   "outputs": [],
   "source": []
  }
 ],
 "metadata": {
  "kernelspec": {
   "display_name": "Python 3",
   "language": "python",
   "name": "python3"
  },
  "language_info": {
   "codemirror_mode": {
    "name": "ipython",
    "version": 3
   },
   "file_extension": ".py",
   "mimetype": "text/x-python",
   "name": "python",
   "nbconvert_exporter": "python",
   "pygments_lexer": "ipython3",
   "version": "3.8.5"
  }
 },
 "nbformat": 4,
 "nbformat_minor": 4
}

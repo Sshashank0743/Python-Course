{
 "cells": [
  {
   "cell_type": "markdown",
   "metadata": {},
   "source": [
    "## Many people think about their height in feet and inches, even in some countries that primarily use the metric system. Write a program that reads a number of feet from the user, followed by a number of inches. Once these values are read, your program should compute and display the equivalent number of centimeters.\n"
   ]
  },
  {
   "cell_type": "code",
   "execution_count": 1,
   "metadata": {},
   "outputs": [
    {
     "name": "stdout",
     "output_type": "stream",
     "text": [
      "Enter your height: \n",
      "  Number of feet: 5\n",
      "  Number of inches: 10\n",
      "Your height in centimeters is:  177.8\n"
     ]
    }
   ],
   "source": [
    "# Convert a height in feet and inches to centimeters\n",
    "\n",
    "IN_PER_FT = 12\n",
    "CM_PER_IN = 2.54\n",
    "\n",
    "# Read input from the user\n",
    "print(\"Enter your height: \")\n",
    "feet = int(input(\"  Number of feet: \"))\n",
    "inches = int(input(\"  Number of inches: \"))\n",
    "\n",
    "# Compute the eqivalent number of centimeters\n",
    "cm = (feet * IN_PER_FT + inches) * CM_PER_IN\n",
    "\n",
    "print(\"Your height in centimeters is: \", cm)"
   ]
  },
  {
   "cell_type": "code",
   "execution_count": null,
   "metadata": {},
   "outputs": [],
   "source": []
  }
 ],
 "metadata": {
  "kernelspec": {
   "display_name": "Python 3",
   "language": "python",
   "name": "python3"
  },
  "language_info": {
   "codemirror_mode": {
    "name": "ipython",
    "version": 3
   },
   "file_extension": ".py",
   "mimetype": "text/x-python",
   "name": "python",
   "nbconvert_exporter": "python",
   "pygments_lexer": "ipython3",
   "version": "3.5.5"
  }
 },
 "nbformat": 4,
 "nbformat_minor": 2
}

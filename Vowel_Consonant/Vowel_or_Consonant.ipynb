{
 "cells": [
  {
   "cell_type": "markdown",
   "metadata": {},
   "source": [
    "#### In this exercise you will create a program that reads a letter of the alphabet from the user. If the user enters a, e, i, o or u then your program should display a message indicating that the entered letter is a vowel. If the user enters y then your program should display a message indicating that sometimes y is a vowel, and sometimes y is a consonant. Otherwise your program should display a message indicating that the letter is a consonant."
   ]
  },
  {
   "cell_type": "code",
   "execution_count": 3,
   "metadata": {},
   "outputs": [
    {
     "name": "stdout",
     "output_type": "stream",
     "text": [
      "Enter a letter of the alphabate: e\n",
      "e is vowel\n"
     ]
    }
   ],
   "source": [
    "# Read the input from the user\n",
    "letter = input(\"Enter a letter of the alphabate: \")\n",
    "\n",
    "# apply condition\n",
    "if letter == \"a\" or letter == \"e\" or \\\n",
    "   letter == \"i\" or letter == \"o\" or \\\n",
    "   letter == \"u\":\n",
    "    print(letter, \"is vowel\")\n",
    "elif letter == \"y\":\n",
    "    print(\"Sometimes it's a vowel.... Sometimes it's a consonant\")\n",
    "else:\n",
    "    print(\"It's a consonant\")"
   ]
  },
  {
   "cell_type": "code",
   "execution_count": null,
   "metadata": {},
   "outputs": [],
   "source": []
  }
 ],
 "metadata": {
  "kernelspec": {
   "display_name": "Python 3",
   "language": "python",
   "name": "python3"
  },
  "language_info": {
   "codemirror_mode": {
    "name": "ipython",
    "version": 3
   },
   "file_extension": ".py",
   "mimetype": "text/x-python",
   "name": "python",
   "nbconvert_exporter": "python",
   "pygments_lexer": "ipython3",
   "version": "3.5.5"
  }
 },
 "nbformat": 4,
 "nbformat_minor": 2
}
